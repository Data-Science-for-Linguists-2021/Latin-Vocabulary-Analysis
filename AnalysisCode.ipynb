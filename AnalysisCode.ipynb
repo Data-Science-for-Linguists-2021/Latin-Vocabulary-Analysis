{
 "cells": [
  {
   "cell_type": "code",
   "execution_count": 1,
   "metadata": {},
   "outputs": [],
   "source": [
    "import nltk\n",
    "from bs4 import BeautifulSoup\n",
    "import requests\n",
    "import pandas as pd\n",
    "import numpy as np\n",
    "import re"
   ]
  },
  {
   "cell_type": "code",
   "execution_count": 2,
   "metadata": {},
   "outputs": [],
   "source": [
    "import statistics"
   ]
  },
  {
   "cell_type": "code",
   "execution_count": 3,
   "metadata": {},
   "outputs": [],
   "source": [
    "import matplotlib.pyplot as plt\n",
    "import seaborn as sns"
   ]
  },
  {
   "cell_type": "code",
   "execution_count": 4,
   "metadata": {},
   "outputs": [],
   "source": [
    "latlib_df = pd.read_pickle(\"/Users/francesharrington/Documents/ling1340/Latin-Vocabulary-Analysis/data/latinlibrary_data.pkl\")"
   ]
  },
  {
   "cell_type": "code",
   "execution_count": 5,
   "metadata": {},
   "outputs": [],
   "source": [
    "ne_df = pd.read_pickle(\"/Users/francesharrington/Documents/ling1340/Latin-Vocabulary-Analysis/data/latinlibrary_ne_data.pkl\")"
   ]
  },
  {
   "cell_type": "code",
   "execution_count": 6,
   "metadata": {},
   "outputs": [
    {
     "data": {
      "text/html": [
       "<div>\n",
       "<style scoped>\n",
       "    .dataframe tbody tr th:only-of-type {\n",
       "        vertical-align: middle;\n",
       "    }\n",
       "\n",
       "    .dataframe tbody tr th {\n",
       "        vertical-align: top;\n",
       "    }\n",
       "\n",
       "    .dataframe thead th {\n",
       "        text-align: right;\n",
       "    }\n",
       "</style>\n",
       "<table border=\"1\" class=\"dataframe\">\n",
       "  <thead>\n",
       "    <tr style=\"text-align: right;\">\n",
       "      <th></th>\n",
       "      <th>title</th>\n",
       "      <th>text</th>\n",
       "      <th>text_raw</th>\n",
       "      <th>tokens</th>\n",
       "      <th>token_count</th>\n",
       "    </tr>\n",
       "  </thead>\n",
       "  <tbody>\n",
       "    <tr>\n",
       "      <th>0</th>\n",
       "      <td>Ammianus: Liber XXXI</td>\n",
       "      <td>AMMIANI MARCELLINI HISTORIAE LIBER XXXI       ...</td>\n",
       "      <td>[AMMIANI MARCELLINI HISTORIAE LIBER XXXI\\n, \\n...</td>\n",
       "      <td>[AMMIANI, MARCELLINI, HISTORIAE, LIBER, XXXI, ...</td>\n",
       "      <td>11030</td>\n",
       "    </tr>\n",
       "    <tr>\n",
       "      <th>1</th>\n",
       "      <td>Valerius Maximus I</td>\n",
       "      <td>VALERI MAXIMI FACTORVM ET DICTORVM MEMORABILIV...</td>\n",
       "      <td>[VALERI MAXIMI FACTORVM ET DICTORVM MEMORABILI...</td>\n",
       "      <td>[VALERI, MAXIMI, FACTORVM, ET, DICTORVM, MEMOR...</td>\n",
       "      <td>10524</td>\n",
       "    </tr>\n",
       "    <tr>\n",
       "      <th>2</th>\n",
       "      <td>Valerius Maximus VIII</td>\n",
       "      <td>VALERI MAXIMI FACTORVM ET DICTORVM MEMORABILIV...</td>\n",
       "      <td>[VALERI MAXIMI FACTORVM ET DICTORVM MEMORABILI...</td>\n",
       "      <td>[VALERI, MAXIMI, FACTORVM, ET, DICTORVM, MEMOR...</td>\n",
       "      <td>10337</td>\n",
       "    </tr>\n",
       "    <tr>\n",
       "      <th>3</th>\n",
       "      <td>Valerius Maximus IV</td>\n",
       "      <td>VALERI MAXIMI FACTORVM ET DICTORVM MEMORABILIV...</td>\n",
       "      <td>[VALERI MAXIMI FACTORVM ET DICTORVM MEMORABILI...</td>\n",
       "      <td>[VALERI, MAXIMI, FACTORVM, ET, DICTORVM, MEMOR...</td>\n",
       "      <td>10852</td>\n",
       "    </tr>\n",
       "    <tr>\n",
       "      <th>4</th>\n",
       "      <td>Valerius Maximus VII</td>\n",
       "      <td>VALERI MAXIMI FACTORVM ET DICTORVM MEMORABILIV...</td>\n",
       "      <td>[VALERI MAXIMI FACTORVM ET DICTORVM MEMORABILI...</td>\n",
       "      <td>[VALERI, MAXIMI, FACTORVM, ET, DICTORVM, MEMOR...</td>\n",
       "      <td>8918</td>\n",
       "    </tr>\n",
       "  </tbody>\n",
       "</table>\n",
       "</div>"
      ],
      "text/plain": [
       "                   title                                               text  \\\n",
       "0   Ammianus: Liber XXXI  AMMIANI MARCELLINI HISTORIAE LIBER XXXI       ...   \n",
       "1     Valerius Maximus I  VALERI MAXIMI FACTORVM ET DICTORVM MEMORABILIV...   \n",
       "2  Valerius Maximus VIII  VALERI MAXIMI FACTORVM ET DICTORVM MEMORABILIV...   \n",
       "3    Valerius Maximus IV  VALERI MAXIMI FACTORVM ET DICTORVM MEMORABILIV...   \n",
       "4   Valerius Maximus VII  VALERI MAXIMI FACTORVM ET DICTORVM MEMORABILIV...   \n",
       "\n",
       "                                            text_raw  \\\n",
       "0  [AMMIANI MARCELLINI HISTORIAE LIBER XXXI\\n, \\n...   \n",
       "1  [VALERI MAXIMI FACTORVM ET DICTORVM MEMORABILI...   \n",
       "2  [VALERI MAXIMI FACTORVM ET DICTORVM MEMORABILI...   \n",
       "3  [VALERI MAXIMI FACTORVM ET DICTORVM MEMORABILI...   \n",
       "4  [VALERI MAXIMI FACTORVM ET DICTORVM MEMORABILI...   \n",
       "\n",
       "                                              tokens  token_count  \n",
       "0  [AMMIANI, MARCELLINI, HISTORIAE, LIBER, XXXI, ...        11030  \n",
       "1  [VALERI, MAXIMI, FACTORVM, ET, DICTORVM, MEMOR...        10524  \n",
       "2  [VALERI, MAXIMI, FACTORVM, ET, DICTORVM, MEMOR...        10337  \n",
       "3  [VALERI, MAXIMI, FACTORVM, ET, DICTORVM, MEMOR...        10852  \n",
       "4  [VALERI, MAXIMI, FACTORVM, ET, DICTORVM, MEMOR...         8918  "
      ]
     },
     "execution_count": 6,
     "metadata": {},
     "output_type": "execute_result"
    }
   ],
   "source": [
    "#here's some of the data:\n",
    "latlib_df.head()"
   ]
  },
  {
   "cell_type": "code",
   "execution_count": 7,
   "metadata": {},
   "outputs": [
    {
     "data": {
      "text/html": [
       "<div>\n",
       "<style scoped>\n",
       "    .dataframe tbody tr th:only-of-type {\n",
       "        vertical-align: middle;\n",
       "    }\n",
       "\n",
       "    .dataframe tbody tr th {\n",
       "        vertical-align: top;\n",
       "    }\n",
       "\n",
       "    .dataframe thead th {\n",
       "        text-align: right;\n",
       "    }\n",
       "</style>\n",
       "<table border=\"1\" class=\"dataframe\">\n",
       "  <thead>\n",
       "    <tr style=\"text-align: right;\">\n",
       "      <th></th>\n",
       "      <th>name</th>\n",
       "      <th>era</th>\n",
       "    </tr>\n",
       "  </thead>\n",
       "  <tbody>\n",
       "    <tr>\n",
       "      <th>0</th>\n",
       "      <td>AMMIANVS MARCELLINVS</td>\n",
       "      <td>(4th century A.D.)</td>\n",
       "    </tr>\n",
       "    <tr>\n",
       "      <th>1</th>\n",
       "      <td>VALERIVS MAXIMVS</td>\n",
       "      <td>(1st century A.D.)</td>\n",
       "    </tr>\n",
       "    <tr>\n",
       "      <th>2</th>\n",
       "      <td>GAIVS VALERIVS FLACCVS</td>\n",
       "      <td>(died c. 90 A.D.)</td>\n",
       "    </tr>\n",
       "    <tr>\n",
       "      <th>4</th>\n",
       "      <td>P. VERGILIVS MARO</td>\n",
       "      <td>(70 – 19 B.C.)</td>\n",
       "    </tr>\n",
       "    <tr>\n",
       "      <th>6</th>\n",
       "      <td>ALBIVS TIBVLLVS</td>\n",
       "      <td>(c. 54 – 19 B.C.)</td>\n",
       "    </tr>\n",
       "  </tbody>\n",
       "</table>\n",
       "</div>"
      ],
      "text/plain": [
       "                     name                 era\n",
       "0    AMMIANVS MARCELLINVS  (4th century A.D.)\n",
       "1        VALERIVS MAXIMVS  (1st century A.D.)\n",
       "2  GAIVS VALERIVS FLACCVS   (died c. 90 A.D.)\n",
       "4       P. VERGILIVS MARO      (70 – 19 B.C.)\n",
       "6         ALBIVS TIBVLLVS   (c. 54 – 19 B.C.)"
      ]
     },
     "execution_count": 7,
     "metadata": {},
     "output_type": "execute_result"
    }
   ],
   "source": [
    "ne_df.head()"
   ]
  },
  {
   "cell_type": "markdown",
   "metadata": {},
   "source": [
    "Here's some basic info on the data contained in latlib_df:"
   ]
  },
  {
   "cell_type": "code",
   "execution_count": 8,
   "metadata": {},
   "outputs": [
    {
     "data": {
      "text/plain": [
       "(672, 5)"
      ]
     },
     "execution_count": 8,
     "metadata": {},
     "output_type": "execute_result"
    }
   ],
   "source": [
    "#overall shape of the dataframe:\n",
    "latlib_df.shape"
   ]
  },
  {
   "cell_type": "code",
   "execution_count": 9,
   "metadata": {},
   "outputs": [
    {
     "data": {
      "text/html": [
       "<div>\n",
       "<style scoped>\n",
       "    .dataframe tbody tr th:only-of-type {\n",
       "        vertical-align: middle;\n",
       "    }\n",
       "\n",
       "    .dataframe tbody tr th {\n",
       "        vertical-align: top;\n",
       "    }\n",
       "\n",
       "    .dataframe thead th {\n",
       "        text-align: right;\n",
       "    }\n",
       "</style>\n",
       "<table border=\"1\" class=\"dataframe\">\n",
       "  <thead>\n",
       "    <tr style=\"text-align: right;\">\n",
       "      <th></th>\n",
       "      <th>token_count</th>\n",
       "    </tr>\n",
       "  </thead>\n",
       "  <tbody>\n",
       "    <tr>\n",
       "      <th>count</th>\n",
       "      <td>672.000000</td>\n",
       "    </tr>\n",
       "    <tr>\n",
       "      <th>mean</th>\n",
       "      <td>6331.989583</td>\n",
       "    </tr>\n",
       "    <tr>\n",
       "      <th>std</th>\n",
       "      <td>5564.159005</td>\n",
       "    </tr>\n",
       "    <tr>\n",
       "      <th>min</th>\n",
       "      <td>0.000000</td>\n",
       "    </tr>\n",
       "    <tr>\n",
       "      <th>25%</th>\n",
       "      <td>1681.500000</td>\n",
       "    </tr>\n",
       "    <tr>\n",
       "      <th>50%</th>\n",
       "      <td>5578.500000</td>\n",
       "    </tr>\n",
       "    <tr>\n",
       "      <th>75%</th>\n",
       "      <td>8590.500000</td>\n",
       "    </tr>\n",
       "    <tr>\n",
       "      <th>max</th>\n",
       "      <td>38414.000000</td>\n",
       "    </tr>\n",
       "  </tbody>\n",
       "</table>\n",
       "</div>"
      ],
      "text/plain": [
       "        token_count\n",
       "count    672.000000\n",
       "mean    6331.989583\n",
       "std     5564.159005\n",
       "min        0.000000\n",
       "25%     1681.500000\n",
       "50%     5578.500000\n",
       "75%     8590.500000\n",
       "max    38414.000000"
      ]
     },
     "execution_count": 9,
     "metadata": {},
     "output_type": "execute_result"
    }
   ],
   "source": [
    "latlib_df.describe()"
   ]
  },
  {
   "cell_type": "code",
   "execution_count": 10,
   "metadata": {},
   "outputs": [
    {
     "name": "stdout",
     "output_type": "stream",
     "text": [
      "<class 'pandas.core.frame.DataFrame'>\n",
      "RangeIndex: 672 entries, 0 to 671\n",
      "Data columns (total 5 columns):\n",
      " #   Column       Non-Null Count  Dtype \n",
      "---  ------       --------------  ----- \n",
      " 0   title        672 non-null    object\n",
      " 1   text         672 non-null    object\n",
      " 2   text_raw     672 non-null    object\n",
      " 3   tokens       672 non-null    object\n",
      " 4   token_count  672 non-null    int64 \n",
      "dtypes: int64(1), object(4)\n",
      "memory usage: 26.4+ KB\n"
     ]
    }
   ],
   "source": [
    "latlib_df.info()\n",
    "#good! no null objects"
   ]
  },
  {
   "cell_type": "markdown",
   "metadata": {},
   "source": [
    "let's work on seperating works by style (prose or poetry):"
   ]
  },
  {
   "cell_type": "code",
   "execution_count": 11,
   "metadata": {},
   "outputs": [],
   "source": [
    "#use Aeneid (P. VERGILI MARONIS AENEIDOS) + Ovid's Metamorphoses (P. OVIDI NASONIS METAMORPHOSEON) for verse examples"
   ]
  },
  {
   "cell_type": "code",
   "execution_count": 12,
   "metadata": {},
   "outputs": [],
   "source": [
    "metamorphoses_ovid = latlib_df[latlib_df['text'].str.contains('P. OVIDI NASONIS METAMORPHOSEON')]"
   ]
  },
  {
   "cell_type": "code",
   "execution_count": 13,
   "metadata": {},
   "outputs": [],
   "source": [
    "aeneid = latlib_df[latlib_df['text'].str.contains('P. VERGILI MARONIS AENEIDOS')]"
   ]
  },
  {
   "cell_type": "code",
   "execution_count": 14,
   "metadata": {},
   "outputs": [
    {
     "data": {
      "text/html": [
       "<div>\n",
       "<style scoped>\n",
       "    .dataframe tbody tr th:only-of-type {\n",
       "        vertical-align: middle;\n",
       "    }\n",
       "\n",
       "    .dataframe tbody tr th {\n",
       "        vertical-align: top;\n",
       "    }\n",
       "\n",
       "    .dataframe thead th {\n",
       "        text-align: right;\n",
       "    }\n",
       "</style>\n",
       "<table border=\"1\" class=\"dataframe\">\n",
       "  <thead>\n",
       "    <tr style=\"text-align: right;\">\n",
       "      <th></th>\n",
       "      <th>title</th>\n",
       "      <th>text</th>\n",
       "      <th>text_raw</th>\n",
       "      <th>tokens</th>\n",
       "      <th>token_count</th>\n",
       "    </tr>\n",
       "  </thead>\n",
       "  <tbody>\n",
       "    <tr>\n",
       "      <th>123</th>\n",
       "      <td>P. VERGILI MARONIS AENEIDOS LIBER DVODECIMVS</td>\n",
       "      <td>P. VERGILI MARONIS AENEIDOS LIBER DVODECIMVS  ...</td>\n",
       "      <td>[P. VERGILI MARONIS AENEIDOS LIBER DVODECIMVS\\...</td>\n",
       "      <td>[P., VERGILI, MARONIS, AENEIDOS, LIBER, DVODEC...</td>\n",
       "      <td>7262</td>\n",
       "    </tr>\n",
       "    <tr>\n",
       "      <th>124</th>\n",
       "      <td>P. VERGILI MARONIS AENEIDOS LIBER VNDECIMVS</td>\n",
       "      <td>P. VERGILI MARONIS AENEIDOS LIBER VNDECIMVS  O...</td>\n",
       "      <td>[P. VERGILI MARONIS AENEIDOS LIBER VNDECIMVS\\n...</td>\n",
       "      <td>[P., VERGILI, MARONIS, AENEIDOS, LIBER, VNDECI...</td>\n",
       "      <td>6884</td>\n",
       "    </tr>\n",
       "    <tr>\n",
       "      <th>125</th>\n",
       "      <td>P. VERGILI MARONIS AENEIDOS LIBER OCTAVVS</td>\n",
       "      <td>P. VERGILI MARONIS AENEIDOS LIBER OCTAVVS  Ut ...</td>\n",
       "      <td>[P. VERGILI MARONIS AENEIDOS LIBER OCTAVVS\\n\\n...</td>\n",
       "      <td>[P., VERGILI, MARONIS, AENEIDOS, LIBER, OCTAVV...</td>\n",
       "      <td>5420</td>\n",
       "    </tr>\n",
       "    <tr>\n",
       "      <th>126</th>\n",
       "      <td>Aeneid IV</td>\n",
       "      <td>P. VERGILI MARONIS AENEIDOS LIBER QVARTVS  At ...</td>\n",
       "      <td>[P. VERGILI MARONIS AENEIDOS LIBER QVARTVS\\n, ...</td>\n",
       "      <td>[P., VERGILI, MARONIS, AENEIDOS, LIBER, QVARTV...</td>\n",
       "      <td>5408</td>\n",
       "    </tr>\n",
       "    <tr>\n",
       "      <th>127</th>\n",
       "      <td>P. VERGILI MARONIS AENEIDOS LIBER DECIMVS</td>\n",
       "      <td>P. VERGILI MARONIS AENEIDOS LIBER DECIMVS  Pan...</td>\n",
       "      <td>[P. VERGILI MARONIS AENEIDOS LIBER DECIMVS\\n, ...</td>\n",
       "      <td>[P., VERGILI, MARONIS, AENEIDOS, LIBER, DECIMV...</td>\n",
       "      <td>6985</td>\n",
       "    </tr>\n",
       "    <tr>\n",
       "      <th>128</th>\n",
       "      <td>P. VERGILI MARONIS AENEIDOS LIBER SEPTIMVS</td>\n",
       "      <td>P. VERGILI MARONIS AENEIDOS LIBER SEPTIMVS  Tu...</td>\n",
       "      <td>[P. VERGILI MARONIS AENEIDOS LIBER SEPTIMVS\\n,...</td>\n",
       "      <td>[P., VERGILI, MARONIS, AENEIDOS, LIBER, SEPTIM...</td>\n",
       "      <td>6058</td>\n",
       "    </tr>\n",
       "    <tr>\n",
       "      <th>129</th>\n",
       "      <td>P. VERGILI MARONIS AENEIDOS LIBER NONVS</td>\n",
       "      <td>P. VERGILI MARONIS AENEIDOS LIBER NONVS  Atque...</td>\n",
       "      <td>[P. VERGILI MARONIS AENEIDOS LIBER NONVS\\n, \\n...</td>\n",
       "      <td>[P., VERGILI, MARONIS, AENEIDOS, LIBER, NONVS,...</td>\n",
       "      <td>6222</td>\n",
       "    </tr>\n",
       "    <tr>\n",
       "      <th>130</th>\n",
       "      <td>P. VERGILI MARONIS AENEIDOS LIBER TERTIVS</td>\n",
       "      <td>P. VERGILI MARONIS AENEIDOS LIBER TERTIVS  Pos...</td>\n",
       "      <td>[P. VERGILI MARONIS AENEIDOS LIBER TERTIVS\\n, ...</td>\n",
       "      <td>[P., VERGILI, MARONIS, AENEIDOS, LIBER, TERTIV...</td>\n",
       "      <td>5318</td>\n",
       "    </tr>\n",
       "    <tr>\n",
       "      <th>131</th>\n",
       "      <td>P. VERGILI MARONIS AENEIDOS LIBER SECVNDVS</td>\n",
       "      <td>P. VERGILI MARONIS AENEIDOS LIBER SECVNDVS  Co...</td>\n",
       "      <td>[P. VERGILI MARONIS AENEIDOS LIBER SECVNDVS\\n,...</td>\n",
       "      <td>[P., VERGILI, MARONIS, AENEIDOS, LIBER, SECVND...</td>\n",
       "      <td>6069</td>\n",
       "    </tr>\n",
       "    <tr>\n",
       "      <th>132</th>\n",
       "      <td>P. VERGILI MARONIS AENEIDOS LIBER SEXTVS</td>\n",
       "      <td>P. VERGILI MARONIS AENEIDOS LIBER SEXTVS  Sic ...</td>\n",
       "      <td>[P. VERGILI MARONIS AENEIDOS LIBER SEXTVS\\n, \\...</td>\n",
       "      <td>[P., VERGILI, MARONIS, AENEIDOS, LIBER, SEXTVS...</td>\n",
       "      <td>6944</td>\n",
       "    </tr>\n",
       "    <tr>\n",
       "      <th>133</th>\n",
       "      <td>Vergil: Aeneid I</td>\n",
       "      <td>P. VERGILI MARONIS AENEIDOS LIBER PRIMVS  Arma...</td>\n",
       "      <td>[P. VERGILI MARONIS AENEIDOS LIBER PRIMVS, \\n\\...</td>\n",
       "      <td>[P., VERGILI, MARONIS, AENEIDOS, LIBER, PRIMVS...</td>\n",
       "      <td>5963</td>\n",
       "    </tr>\n",
       "    <tr>\n",
       "      <th>137</th>\n",
       "      <td>P. VERGILI MARONIS AENEIDOS LIBER QVINTVS</td>\n",
       "      <td>P. VERGILI MARONIS AENEIDOS LIBER QVINTVS  Int...</td>\n",
       "      <td>[P. VERGILI MARONIS AENEIDOS LIBER QVINTVS\\n, ...</td>\n",
       "      <td>[P., VERGILI, MARONIS, AENEIDOS, LIBER, QVINTV...</td>\n",
       "      <td>6486</td>\n",
       "    </tr>\n",
       "  </tbody>\n",
       "</table>\n",
       "</div>"
      ],
      "text/plain": [
       "                                            title  \\\n",
       "123  P. VERGILI MARONIS AENEIDOS LIBER DVODECIMVS   \n",
       "124   P. VERGILI MARONIS AENEIDOS LIBER VNDECIMVS   \n",
       "125     P. VERGILI MARONIS AENEIDOS LIBER OCTAVVS   \n",
       "126                                     Aeneid IV   \n",
       "127     P. VERGILI MARONIS AENEIDOS LIBER DECIMVS   \n",
       "128    P. VERGILI MARONIS AENEIDOS LIBER SEPTIMVS   \n",
       "129       P. VERGILI MARONIS AENEIDOS LIBER NONVS   \n",
       "130     P. VERGILI MARONIS AENEIDOS LIBER TERTIVS   \n",
       "131    P. VERGILI MARONIS AENEIDOS LIBER SECVNDVS   \n",
       "132      P. VERGILI MARONIS AENEIDOS LIBER SEXTVS   \n",
       "133                              Vergil: Aeneid I   \n",
       "137     P. VERGILI MARONIS AENEIDOS LIBER QVINTVS   \n",
       "\n",
       "                                                  text  \\\n",
       "123  P. VERGILI MARONIS AENEIDOS LIBER DVODECIMVS  ...   \n",
       "124  P. VERGILI MARONIS AENEIDOS LIBER VNDECIMVS  O...   \n",
       "125  P. VERGILI MARONIS AENEIDOS LIBER OCTAVVS  Ut ...   \n",
       "126  P. VERGILI MARONIS AENEIDOS LIBER QVARTVS  At ...   \n",
       "127  P. VERGILI MARONIS AENEIDOS LIBER DECIMVS  Pan...   \n",
       "128  P. VERGILI MARONIS AENEIDOS LIBER SEPTIMVS  Tu...   \n",
       "129  P. VERGILI MARONIS AENEIDOS LIBER NONVS  Atque...   \n",
       "130  P. VERGILI MARONIS AENEIDOS LIBER TERTIVS  Pos...   \n",
       "131  P. VERGILI MARONIS AENEIDOS LIBER SECVNDVS  Co...   \n",
       "132  P. VERGILI MARONIS AENEIDOS LIBER SEXTVS  Sic ...   \n",
       "133  P. VERGILI MARONIS AENEIDOS LIBER PRIMVS  Arma...   \n",
       "137  P. VERGILI MARONIS AENEIDOS LIBER QVINTVS  Int...   \n",
       "\n",
       "                                              text_raw  \\\n",
       "123  [P. VERGILI MARONIS AENEIDOS LIBER DVODECIMVS\\...   \n",
       "124  [P. VERGILI MARONIS AENEIDOS LIBER VNDECIMVS\\n...   \n",
       "125  [P. VERGILI MARONIS AENEIDOS LIBER OCTAVVS\\n\\n...   \n",
       "126  [P. VERGILI MARONIS AENEIDOS LIBER QVARTVS\\n, ...   \n",
       "127  [P. VERGILI MARONIS AENEIDOS LIBER DECIMVS\\n, ...   \n",
       "128  [P. VERGILI MARONIS AENEIDOS LIBER SEPTIMVS\\n,...   \n",
       "129  [P. VERGILI MARONIS AENEIDOS LIBER NONVS\\n, \\n...   \n",
       "130  [P. VERGILI MARONIS AENEIDOS LIBER TERTIVS\\n, ...   \n",
       "131  [P. VERGILI MARONIS AENEIDOS LIBER SECVNDVS\\n,...   \n",
       "132  [P. VERGILI MARONIS AENEIDOS LIBER SEXTVS\\n, \\...   \n",
       "133  [P. VERGILI MARONIS AENEIDOS LIBER PRIMVS, \\n\\...   \n",
       "137  [P. VERGILI MARONIS AENEIDOS LIBER QVINTVS\\n, ...   \n",
       "\n",
       "                                                tokens  token_count  \n",
       "123  [P., VERGILI, MARONIS, AENEIDOS, LIBER, DVODEC...         7262  \n",
       "124  [P., VERGILI, MARONIS, AENEIDOS, LIBER, VNDECI...         6884  \n",
       "125  [P., VERGILI, MARONIS, AENEIDOS, LIBER, OCTAVV...         5420  \n",
       "126  [P., VERGILI, MARONIS, AENEIDOS, LIBER, QVARTV...         5408  \n",
       "127  [P., VERGILI, MARONIS, AENEIDOS, LIBER, DECIMV...         6985  \n",
       "128  [P., VERGILI, MARONIS, AENEIDOS, LIBER, SEPTIM...         6058  \n",
       "129  [P., VERGILI, MARONIS, AENEIDOS, LIBER, NONVS,...         6222  \n",
       "130  [P., VERGILI, MARONIS, AENEIDOS, LIBER, TERTIV...         5318  \n",
       "131  [P., VERGILI, MARONIS, AENEIDOS, LIBER, SECVND...         6069  \n",
       "132  [P., VERGILI, MARONIS, AENEIDOS, LIBER, SEXTVS...         6944  \n",
       "133  [P., VERGILI, MARONIS, AENEIDOS, LIBER, PRIMVS...         5963  \n",
       "137  [P., VERGILI, MARONIS, AENEIDOS, LIBER, QVINTV...         6486  "
      ]
     },
     "execution_count": 14,
     "metadata": {},
     "output_type": "execute_result"
    }
   ],
   "source": [
    "aeneid"
   ]
  },
  {
   "cell_type": "code",
   "execution_count": 15,
   "metadata": {},
   "outputs": [
    {
     "data": {
      "text/plain": [
       "[964, 924, 741, 715, 920, 833, 825, 727, 811, 905, 767, 880]"
      ]
     },
     "execution_count": 15,
     "metadata": {},
     "output_type": "execute_result"
    }
   ],
   "source": [
    "[len(x) for x in aeneid.text_raw]\n",
    "#this gets me how many lines per-work there are "
   ]
  },
  {
   "cell_type": "code",
   "execution_count": 16,
   "metadata": {},
   "outputs": [
    {
     "name": "stdout",
     "output_type": "stream",
     "text": [
      "10012\n"
     ]
    }
   ],
   "source": [
    "count = 0\n",
    "for i in aeneid.text_raw:\n",
    "    count += len(i)\n",
    "print(count) #this is how many lines are in the aeneid in total"
   ]
  },
  {
   "cell_type": "code",
   "execution_count": 17,
   "metadata": {},
   "outputs": [],
   "source": [
    "def MaxLineLength(l):\n",
    "    return(len(max(l, key=len)))"
   ]
  },
  {
   "cell_type": "code",
   "execution_count": 18,
   "metadata": {},
   "outputs": [
    {
     "data": {
      "text/plain": [
       "87"
      ]
     },
     "execution_count": 18,
     "metadata": {},
     "output_type": "execute_result"
    }
   ],
   "source": [
    "max(aeneid.text_raw.map(MaxLineLength))\n",
    "#so the longest line is 87 characters long, that's my threshold for a verse line (depending on Ovid I guess)"
   ]
  },
  {
   "cell_type": "code",
   "execution_count": 19,
   "metadata": {},
   "outputs": [
    {
     "data": {
      "text/plain": [
       "81"
      ]
     },
     "execution_count": 19,
     "metadata": {},
     "output_type": "execute_result"
    }
   ],
   "source": [
    "max(metamorphoses_ovid.text_raw.map(MaxLineLength)) #yep, 87 it is!"
   ]
  },
  {
   "cell_type": "markdown",
   "metadata": {},
   "source": [
    "now to actually use that number to quantify prose v. verse!"
   ]
  },
  {
   "cell_type": "code",
   "execution_count": 20,
   "metadata": {},
   "outputs": [],
   "source": [
    "latlib_df['max_line_length'] = latlib_df.text_raw.map(MaxLineLength)"
   ]
  },
  {
   "cell_type": "code",
   "execution_count": 21,
   "metadata": {},
   "outputs": [
    {
     "data": {
      "text/html": [
       "<div>\n",
       "<style scoped>\n",
       "    .dataframe tbody tr th:only-of-type {\n",
       "        vertical-align: middle;\n",
       "    }\n",
       "\n",
       "    .dataframe tbody tr th {\n",
       "        vertical-align: top;\n",
       "    }\n",
       "\n",
       "    .dataframe thead th {\n",
       "        text-align: right;\n",
       "    }\n",
       "</style>\n",
       "<table border=\"1\" class=\"dataframe\">\n",
       "  <thead>\n",
       "    <tr style=\"text-align: right;\">\n",
       "      <th></th>\n",
       "      <th>title</th>\n",
       "      <th>text</th>\n",
       "      <th>text_raw</th>\n",
       "      <th>tokens</th>\n",
       "      <th>token_count</th>\n",
       "      <th>max_line_length</th>\n",
       "    </tr>\n",
       "  </thead>\n",
       "  <tbody>\n",
       "    <tr>\n",
       "      <th>0</th>\n",
       "      <td>Ammianus: Liber XXXI</td>\n",
       "      <td>AMMIANI MARCELLINI HISTORIAE LIBER XXXI       ...</td>\n",
       "      <td>[AMMIANI MARCELLINI HISTORIAE LIBER XXXI\\n, \\n...</td>\n",
       "      <td>[AMMIANI, MARCELLINI, HISTORIAE, LIBER, XXXI, ...</td>\n",
       "      <td>11030</td>\n",
       "      <td>774</td>\n",
       "    </tr>\n",
       "    <tr>\n",
       "      <th>1</th>\n",
       "      <td>Valerius Maximus I</td>\n",
       "      <td>VALERI MAXIMI FACTORVM ET DICTORVM MEMORABILIV...</td>\n",
       "      <td>[VALERI MAXIMI FACTORVM ET DICTORVM MEMORABILI...</td>\n",
       "      <td>[VALERI, MAXIMI, FACTORVM, ET, DICTORVM, MEMOR...</td>\n",
       "      <td>10524</td>\n",
       "      <td>2080</td>\n",
       "    </tr>\n",
       "    <tr>\n",
       "      <th>2</th>\n",
       "      <td>Valerius Maximus VIII</td>\n",
       "      <td>VALERI MAXIMI FACTORVM ET DICTORVM MEMORABILIV...</td>\n",
       "      <td>[VALERI MAXIMI FACTORVM ET DICTORVM MEMORABILI...</td>\n",
       "      <td>[VALERI, MAXIMI, FACTORVM, ET, DICTORVM, MEMOR...</td>\n",
       "      <td>10337</td>\n",
       "      <td>1308</td>\n",
       "    </tr>\n",
       "    <tr>\n",
       "      <th>3</th>\n",
       "      <td>Valerius Maximus IV</td>\n",
       "      <td>VALERI MAXIMI FACTORVM ET DICTORVM MEMORABILIV...</td>\n",
       "      <td>[VALERI MAXIMI FACTORVM ET DICTORVM MEMORABILI...</td>\n",
       "      <td>[VALERI, MAXIMI, FACTORVM, ET, DICTORVM, MEMOR...</td>\n",
       "      <td>10852</td>\n",
       "      <td>2034</td>\n",
       "    </tr>\n",
       "    <tr>\n",
       "      <th>4</th>\n",
       "      <td>Valerius Maximus VII</td>\n",
       "      <td>VALERI MAXIMI FACTORVM ET DICTORVM MEMORABILIV...</td>\n",
       "      <td>[VALERI MAXIMI FACTORVM ET DICTORVM MEMORABILI...</td>\n",
       "      <td>[VALERI, MAXIMI, FACTORVM, ET, DICTORVM, MEMOR...</td>\n",
       "      <td>8918</td>\n",
       "      <td>2141</td>\n",
       "    </tr>\n",
       "  </tbody>\n",
       "</table>\n",
       "</div>"
      ],
      "text/plain": [
       "                   title                                               text  \\\n",
       "0   Ammianus: Liber XXXI  AMMIANI MARCELLINI HISTORIAE LIBER XXXI       ...   \n",
       "1     Valerius Maximus I  VALERI MAXIMI FACTORVM ET DICTORVM MEMORABILIV...   \n",
       "2  Valerius Maximus VIII  VALERI MAXIMI FACTORVM ET DICTORVM MEMORABILIV...   \n",
       "3    Valerius Maximus IV  VALERI MAXIMI FACTORVM ET DICTORVM MEMORABILIV...   \n",
       "4   Valerius Maximus VII  VALERI MAXIMI FACTORVM ET DICTORVM MEMORABILIV...   \n",
       "\n",
       "                                            text_raw  \\\n",
       "0  [AMMIANI MARCELLINI HISTORIAE LIBER XXXI\\n, \\n...   \n",
       "1  [VALERI MAXIMI FACTORVM ET DICTORVM MEMORABILI...   \n",
       "2  [VALERI MAXIMI FACTORVM ET DICTORVM MEMORABILI...   \n",
       "3  [VALERI MAXIMI FACTORVM ET DICTORVM MEMORABILI...   \n",
       "4  [VALERI MAXIMI FACTORVM ET DICTORVM MEMORABILI...   \n",
       "\n",
       "                                              tokens  token_count  \\\n",
       "0  [AMMIANI, MARCELLINI, HISTORIAE, LIBER, XXXI, ...        11030   \n",
       "1  [VALERI, MAXIMI, FACTORVM, ET, DICTORVM, MEMOR...        10524   \n",
       "2  [VALERI, MAXIMI, FACTORVM, ET, DICTORVM, MEMOR...        10337   \n",
       "3  [VALERI, MAXIMI, FACTORVM, ET, DICTORVM, MEMOR...        10852   \n",
       "4  [VALERI, MAXIMI, FACTORVM, ET, DICTORVM, MEMOR...         8918   \n",
       "\n",
       "   max_line_length  \n",
       "0              774  \n",
       "1             2080  \n",
       "2             1308  \n",
       "3             2034  \n",
       "4             2141  "
      ]
     },
     "execution_count": 21,
     "metadata": {},
     "output_type": "execute_result"
    }
   ],
   "source": [
    "latlib_df.head(5)"
   ]
  },
  {
   "cell_type": "code",
   "execution_count": 22,
   "metadata": {},
   "outputs": [],
   "source": [
    "latlib_df.drop(latlib_df.index[latlib_df['token_count']<=10], inplace=True)\n"
   ]
  },
  {
   "cell_type": "code",
   "execution_count": 23,
   "metadata": {},
   "outputs": [],
   "source": [
    "def Poems(l):\n",
    "    if l <= 87:\n",
    "        return('verse')\n",
    "    else:\n",
    "        return('prose')\n"
   ]
  },
  {
   "cell_type": "code",
   "execution_count": 24,
   "metadata": {},
   "outputs": [],
   "source": [
    "latlib_df['style'] = latlib_df.max_line_length.map(Poems)"
   ]
  },
  {
   "cell_type": "markdown",
   "metadata": {},
   "source": [
    "## below I'm going to add the aspects of ne_df to latlib_df for easier analysis:"
   ]
  },
  {
   "cell_type": "code",
   "execution_count": 25,
   "metadata": {},
   "outputs": [],
   "source": [
    "ne_df['name'] = [w[:-2] for w in ne_df.name]"
   ]
  },
  {
   "cell_type": "code",
   "execution_count": 26,
   "metadata": {},
   "outputs": [],
   "source": [
    "def MatchName(l):\n",
    "    for name in ne_df.name:\n",
    "        last_word = name.split()[len(name.split()) - 1]\n",
    "        if last_word in l:\n",
    "            return name\n",
    "            return \"None\""
   ]
  },
  {
   "cell_type": "code",
   "execution_count": 27,
   "metadata": {},
   "outputs": [],
   "source": [
    "latlib_df['author'] = latlib_df.text.map(MatchName)"
   ]
  },
  {
   "cell_type": "markdown",
   "metadata": {},
   "source": [
    "to put the eras in the main df it's not going to be elegant, but I want to move on with my analysis so I'm going to merge the info into a new column for an easier method:"
   ]
  },
  {
   "cell_type": "code",
   "execution_count": 28,
   "metadata": {},
   "outputs": [],
   "source": [
    "ne_df['merged'] = ne_df['era']+ne_df['name']"
   ]
  },
  {
   "cell_type": "code",
   "execution_count": 29,
   "metadata": {},
   "outputs": [],
   "source": [
    "def MatchEra(l):\n",
    "    for x in ne_df.merged:\n",
    "        last_word = x.split()[len(x.split()) - 1]\n",
    "        if last_word in l:\n",
    "            clean = re.compile(r'\\)\\w* \\w* \\w*|\\)\\w* \\w*|\\)\\w+\\. \\w* \\w*|\\)\\w+|\\(')\n",
    "            return(clean.sub(' ', x))\n",
    "        "
   ]
  },
  {
   "cell_type": "code",
   "execution_count": 30,
   "metadata": {},
   "outputs": [],
   "source": [
    "latlib_df['life_span'] = latlib_df.text.map(MatchEra)"
   ]
  },
  {
   "cell_type": "code",
   "execution_count": 31,
   "metadata": {},
   "outputs": [],
   "source": [
    "latlib_df = latlib_df.fillna('none') #just in case, I think there's some Suetonius that's wonky"
   ]
  },
  {
   "cell_type": "markdown",
   "metadata": {},
   "source": [
    "That wasn't very pretty, but it did the trick and now the df itself looks nice!"
   ]
  },
  {
   "cell_type": "code",
   "execution_count": 32,
   "metadata": {},
   "outputs": [
    {
     "data": {
      "text/html": [
       "<div>\n",
       "<style scoped>\n",
       "    .dataframe tbody tr th:only-of-type {\n",
       "        vertical-align: middle;\n",
       "    }\n",
       "\n",
       "    .dataframe tbody tr th {\n",
       "        vertical-align: top;\n",
       "    }\n",
       "\n",
       "    .dataframe thead th {\n",
       "        text-align: right;\n",
       "    }\n",
       "</style>\n",
       "<table border=\"1\" class=\"dataframe\">\n",
       "  <thead>\n",
       "    <tr style=\"text-align: right;\">\n",
       "      <th></th>\n",
       "      <th>title</th>\n",
       "      <th>text</th>\n",
       "      <th>text_raw</th>\n",
       "      <th>tokens</th>\n",
       "      <th>token_count</th>\n",
       "      <th>max_line_length</th>\n",
       "      <th>style</th>\n",
       "      <th>author</th>\n",
       "      <th>life_span</th>\n",
       "    </tr>\n",
       "  </thead>\n",
       "  <tbody>\n",
       "    <tr>\n",
       "      <th>180</th>\n",
       "      <td>Justin XIVL</td>\n",
       "      <td>HISTORIARUM PHILIPPICARUM IN EPITOMEN REDACTI ...</td>\n",
       "      <td>[HISTORIARUM PHILIPPICARUM IN EPITOMEN REDACTI...</td>\n",
       "      <td>[HISTORIARUM, PHILIPPICARUM, IN, EPITOMEN, RED...</td>\n",
       "      <td>1394</td>\n",
       "      <td>337</td>\n",
       "      <td>prose</td>\n",
       "      <td>TITVS LVCRETIVS CAR</td>\n",
       "      <td>c. 94 – c. 49 B.C.</td>\n",
       "    </tr>\n",
       "    <tr>\n",
       "      <th>178</th>\n",
       "      <td>Petronius: Satiricon</td>\n",
       "      <td>C. PETRONII SATIRICON LIBER &lt;. . .&gt;  [I] \"Num ...</td>\n",
       "      <td>[C. PETRONII SATIRICON LIBER\\n, \\n\\n&lt;. . .&gt; \\n...</td>\n",
       "      <td>[C., PETRONII, SATIRICON, LIBER, &lt;, ., ., ., &gt;...</td>\n",
       "      <td>38414</td>\n",
       "      <td>3177</td>\n",
       "      <td>prose</td>\n",
       "      <td>P. VERGILIVS MA</td>\n",
       "      <td>70 – 19 B.C.</td>\n",
       "    </tr>\n",
       "    <tr>\n",
       "      <th>445</th>\n",
       "      <td>Quintilian: Declamatio Maior II</td>\n",
       "      <td>M. FABI QVINTILIANI DECLAMATIO MAIOR SECVNDA  ...</td>\n",
       "      <td>[M. FABI QVINTILIANI DECLAMATIO MAIOR SECVNDA\\...</td>\n",
       "      <td>[M., FABI, QVINTILIANI, DECLAMATIO, MAIOR, SEC...</td>\n",
       "      <td>5526</td>\n",
       "      <td>2944</td>\n",
       "      <td>prose</td>\n",
       "      <td>P. VERGILIVS MA</td>\n",
       "      <td>70 – 19 B.C.</td>\n",
       "    </tr>\n",
       "    <tr>\n",
       "      <th>646</th>\n",
       "      <td>Curtius Rufus: Historiae Alexandri Magni VII</td>\n",
       "      <td>QUINTI CURTI RUFI HISTORIAE ALEXANDRI MAGNI LI...</td>\n",
       "      <td>[QUINTI CURTI RUFI HISTORIAE ALEXANDRI MAGNI L...</td>\n",
       "      <td>[QUINTI, CURTI, RUFI, HISTORIAE, ALEXANDRI, MA...</td>\n",
       "      <td>11576</td>\n",
       "      <td>5566</td>\n",
       "      <td>prose</td>\n",
       "      <td>P. VERGILIVS MA</td>\n",
       "      <td>70 – 19 B.C.</td>\n",
       "    </tr>\n",
       "    <tr>\n",
       "      <th>289</th>\n",
       "      <td>Livy: Book XXXV</td>\n",
       "      <td>TITI LIVI AB VRBE CONDITA LIBER XXXV          ...</td>\n",
       "      <td>[TITI LIVI AB VRBE CONDITA LIBER XXXV\\n\\n, \\t,...</td>\n",
       "      <td>[TITI, LIVI, AB, VRBE, CONDITA, LIBER, XXXV, [...</td>\n",
       "      <td>14579</td>\n",
       "      <td>3054</td>\n",
       "      <td>prose</td>\n",
       "      <td>T. LIVI</td>\n",
       "      <td>59 B.C. – A.D. 17 . LIVI</td>\n",
       "    </tr>\n",
       "  </tbody>\n",
       "</table>\n",
       "</div>"
      ],
      "text/plain": [
       "                                            title  \\\n",
       "180                                  Justin XIVL    \n",
       "178                          Petronius: Satiricon   \n",
       "445               Quintilian: Declamatio Maior II   \n",
       "646  Curtius Rufus: Historiae Alexandri Magni VII   \n",
       "289                               Livy: Book XXXV   \n",
       "\n",
       "                                                  text  \\\n",
       "180  HISTORIARUM PHILIPPICARUM IN EPITOMEN REDACTI ...   \n",
       "178  C. PETRONII SATIRICON LIBER <. . .>  [I] \"Num ...   \n",
       "445  M. FABI QVINTILIANI DECLAMATIO MAIOR SECVNDA  ...   \n",
       "646  QUINTI CURTI RUFI HISTORIAE ALEXANDRI MAGNI LI...   \n",
       "289  TITI LIVI AB VRBE CONDITA LIBER XXXV          ...   \n",
       "\n",
       "                                              text_raw  \\\n",
       "180  [HISTORIARUM PHILIPPICARUM IN EPITOMEN REDACTI...   \n",
       "178  [C. PETRONII SATIRICON LIBER\\n, \\n\\n<. . .> \\n...   \n",
       "445  [M. FABI QVINTILIANI DECLAMATIO MAIOR SECVNDA\\...   \n",
       "646  [QUINTI CURTI RUFI HISTORIAE ALEXANDRI MAGNI L...   \n",
       "289  [TITI LIVI AB VRBE CONDITA LIBER XXXV\\n\\n, \\t,...   \n",
       "\n",
       "                                                tokens  token_count  \\\n",
       "180  [HISTORIARUM, PHILIPPICARUM, IN, EPITOMEN, RED...         1394   \n",
       "178  [C., PETRONII, SATIRICON, LIBER, <, ., ., ., >...        38414   \n",
       "445  [M., FABI, QVINTILIANI, DECLAMATIO, MAIOR, SEC...         5526   \n",
       "646  [QUINTI, CURTI, RUFI, HISTORIAE, ALEXANDRI, MA...        11576   \n",
       "289  [TITI, LIVI, AB, VRBE, CONDITA, LIBER, XXXV, [...        14579   \n",
       "\n",
       "     max_line_length  style               author                  life_span  \n",
       "180              337  prose  TITVS LVCRETIVS CAR        c. 94 – c. 49 B.C.   \n",
       "178             3177  prose      P. VERGILIVS MA              70 – 19 B.C.   \n",
       "445             2944  prose      P. VERGILIVS MA              70 – 19 B.C.   \n",
       "646             5566  prose      P. VERGILIVS MA              70 – 19 B.C.   \n",
       "289             3054  prose              T. LIVI   59 B.C. – A.D. 17 . LIVI  "
      ]
     },
     "execution_count": 32,
     "metadata": {},
     "output_type": "execute_result"
    }
   ],
   "source": [
    "latlib_df.sample(5)"
   ]
  },
  {
   "cell_type": "markdown",
   "metadata": {},
   "source": [
    "let's split life spans into actual eras (Golden Age, Silver Age, Later):"
   ]
  },
  {
   "cell_type": "code",
   "execution_count": 57,
   "metadata": {},
   "outputs": [],
   "source": [
    "def SortEra(l):\n",
    "    if 'B.C.' in l and 'A.D.' not in l:\n",
    "        return('Golden Age')\n",
    "    elif 'A.D.' in l and 'B.C.' not in l:\n",
    "        if 'century' in l:\n",
    "            if '3' in l or '4' in l:\n",
    "                return('Later')\n",
    "            elif '1' in l or '2' in l:\n",
    "                return('Silver Age')\n",
    "        #elif 'century' not in l:\n",
    "            \n",
    "\n",
    "        #return('silver and later')\n",
    "    else:\n",
    "        return('none')"
   ]
  },
  {
   "cell_type": "code",
   "execution_count": 58,
   "metadata": {},
   "outputs": [],
   "source": [
    "latlib_df['era'] = latlib_df.life_span.map(SortEra)"
   ]
  },
  {
   "cell_type": "code",
   "execution_count": 59,
   "metadata": {},
   "outputs": [
    {
     "data": {
      "text/html": [
       "<div>\n",
       "<style scoped>\n",
       "    .dataframe tbody tr th:only-of-type {\n",
       "        vertical-align: middle;\n",
       "    }\n",
       "\n",
       "    .dataframe tbody tr th {\n",
       "        vertical-align: top;\n",
       "    }\n",
       "\n",
       "    .dataframe thead th {\n",
       "        text-align: right;\n",
       "    }\n",
       "</style>\n",
       "<table border=\"1\" class=\"dataframe\">\n",
       "  <thead>\n",
       "    <tr style=\"text-align: right;\">\n",
       "      <th></th>\n",
       "      <th>title</th>\n",
       "      <th>text</th>\n",
       "      <th>text_raw</th>\n",
       "      <th>tokens</th>\n",
       "      <th>token_count</th>\n",
       "      <th>max_line_length</th>\n",
       "      <th>style</th>\n",
       "      <th>author</th>\n",
       "      <th>life_span</th>\n",
       "      <th>term</th>\n",
       "      <th>era</th>\n",
       "    </tr>\n",
       "  </thead>\n",
       "  <tbody>\n",
       "    <tr>\n",
       "      <th>669</th>\n",
       "      <td>Auli Gellii Noctes Atticae: Liber III</td>\n",
       "      <td>AVLI GELLI NOCTES ATTICAE: LIBER  III         ...</td>\n",
       "      <td>[AVLI GELLI NOCTES ATTICAE: LIBER  III\\n,  ,  ...</td>\n",
       "      <td>[AVLI, GELLI, NOCTES, ATTICAE, :, LIBER, III, ...</td>\n",
       "      <td>6822</td>\n",
       "      <td>837</td>\n",
       "      <td>prose</td>\n",
       "      <td>AVLVS GELLI</td>\n",
       "      <td>c. A.D. 125 – after 180</td>\n",
       "      <td></td>\n",
       "      <td>None</td>\n",
       "    </tr>\n",
       "    <tr>\n",
       "      <th>131</th>\n",
       "      <td>P. VERGILI MARONIS AENEIDOS LIBER SECVNDVS</td>\n",
       "      <td>P. VERGILI MARONIS AENEIDOS LIBER SECVNDVS  Co...</td>\n",
       "      <td>[P. VERGILI MARONIS AENEIDOS LIBER SECVNDVS\\n,...</td>\n",
       "      <td>[P., VERGILI, MARONIS, AENEIDOS, LIBER, SECVND...</td>\n",
       "      <td>6069</td>\n",
       "      <td>85</td>\n",
       "      <td>verse</td>\n",
       "      <td>P. VERGILIVS MA</td>\n",
       "      <td>70 – 19 B.C.</td>\n",
       "      <td></td>\n",
       "      <td>Golden Age</td>\n",
       "    </tr>\n",
       "    <tr>\n",
       "      <th>210</th>\n",
       "      <td>Justin XVIII</td>\n",
       "      <td>HISTORIARUM PHILIPPICARUM IN EPITOMEN REDACTI ...</td>\n",
       "      <td>[HISTORIARUM PHILIPPICARUM IN EPITOMEN REDACTI...</td>\n",
       "      <td>[HISTORIARUM, PHILIPPICARUM, IN, EPITOMEN, RED...</td>\n",
       "      <td>2311</td>\n",
       "      <td>314</td>\n",
       "      <td>prose</td>\n",
       "      <td>TITVS LVCRETIVS CAR</td>\n",
       "      <td>c. 94 – c. 49 B.C.</td>\n",
       "      <td></td>\n",
       "      <td>Golden Age</td>\n",
       "    </tr>\n",
       "    <tr>\n",
       "      <th>363</th>\n",
       "      <td>Ovid: Heroides IV</td>\n",
       "      <td>P. OVIDI NASONIS EPISTVLAE HEROIDVM   Quam nis...</td>\n",
       "      <td>[P. OVIDI NASONIS EPISTVLAE HEROIDVM\\n, \\n, \\n...</td>\n",
       "      <td>[P., OVIDI, NASONIS, EPISTVLAE, HEROIDVM, Quam...</td>\n",
       "      <td>1349</td>\n",
       "      <td>70</td>\n",
       "      <td>verse</td>\n",
       "      <td>P. OVIDIVS NA</td>\n",
       "      <td>43 B.C. – 17 A.D.</td>\n",
       "      <td></td>\n",
       "      <td>none</td>\n",
       "    </tr>\n",
       "    <tr>\n",
       "      <th>476</th>\n",
       "      <td>Silius, Liber VI</td>\n",
       "      <td>SILIUS ITALICUS PUNICA LIBER SEXTUS Iam, Tarte...</td>\n",
       "      <td>[SILIUS ITALICUS, PUNICA LIBER SEXTUS\\n, \\nIam...</td>\n",
       "      <td>[SILIUS, ITALICUS, PUNICA, LIBER, SEXTUS, Iam,...</td>\n",
       "      <td>5285</td>\n",
       "      <td>67</td>\n",
       "      <td>verse</td>\n",
       "      <td>SILIVS ITALIC</td>\n",
       "      <td>25/6 – 101 A.D.</td>\n",
       "      <td></td>\n",
       "      <td>None</td>\n",
       "    </tr>\n",
       "  </tbody>\n",
       "</table>\n",
       "</div>"
      ],
      "text/plain": [
       "                                          title  \\\n",
       "669       Auli Gellii Noctes Atticae: Liber III   \n",
       "131  P. VERGILI MARONIS AENEIDOS LIBER SECVNDVS   \n",
       "210                               Justin XVIII    \n",
       "363                           Ovid: Heroides IV   \n",
       "476                            Silius, Liber VI   \n",
       "\n",
       "                                                  text  \\\n",
       "669  AVLI GELLI NOCTES ATTICAE: LIBER  III         ...   \n",
       "131  P. VERGILI MARONIS AENEIDOS LIBER SECVNDVS  Co...   \n",
       "210  HISTORIARUM PHILIPPICARUM IN EPITOMEN REDACTI ...   \n",
       "363  P. OVIDI NASONIS EPISTVLAE HEROIDVM   Quam nis...   \n",
       "476  SILIUS ITALICUS PUNICA LIBER SEXTUS Iam, Tarte...   \n",
       "\n",
       "                                              text_raw  \\\n",
       "669  [AVLI GELLI NOCTES ATTICAE: LIBER  III\\n,  ,  ...   \n",
       "131  [P. VERGILI MARONIS AENEIDOS LIBER SECVNDVS\\n,...   \n",
       "210  [HISTORIARUM PHILIPPICARUM IN EPITOMEN REDACTI...   \n",
       "363  [P. OVIDI NASONIS EPISTVLAE HEROIDVM\\n, \\n, \\n...   \n",
       "476  [SILIUS ITALICUS, PUNICA LIBER SEXTUS\\n, \\nIam...   \n",
       "\n",
       "                                                tokens  token_count  \\\n",
       "669  [AVLI, GELLI, NOCTES, ATTICAE, :, LIBER, III, ...         6822   \n",
       "131  [P., VERGILI, MARONIS, AENEIDOS, LIBER, SECVND...         6069   \n",
       "210  [HISTORIARUM, PHILIPPICARUM, IN, EPITOMEN, RED...         2311   \n",
       "363  [P., OVIDI, NASONIS, EPISTVLAE, HEROIDVM, Quam...         1349   \n",
       "476  [SILIUS, ITALICUS, PUNICA, LIBER, SEXTUS, Iam,...         5285   \n",
       "\n",
       "     max_line_length  style               author                  life_span  \\\n",
       "669              837  prose          AVLVS GELLI   c. A.D. 125 – after 180    \n",
       "131               85  verse      P. VERGILIVS MA              70 – 19 B.C.    \n",
       "210              314  prose  TITVS LVCRETIVS CAR        c. 94 – c. 49 B.C.    \n",
       "363               70  verse        P. OVIDIVS NA         43 B.C. – 17 A.D.    \n",
       "476               67  verse        SILIVS ITALIC           25/6 – 101 A.D.    \n",
       "\n",
       "    term         era  \n",
       "669             None  \n",
       "131       Golden Age  \n",
       "210       Golden Age  \n",
       "363             none  \n",
       "476             None  "
      ]
     },
     "execution_count": 59,
     "metadata": {},
     "output_type": "execute_result"
    }
   ],
   "source": [
    "latlib_df.sample(5)"
   ]
  },
  {
   "cell_type": "code",
   "execution_count": 60,
   "metadata": {},
   "outputs": [
    {
     "ename": "SyntaxError",
     "evalue": "invalid syntax (<ipython-input-60-261c7c863059>, line 4)",
     "output_type": "error",
     "traceback": [
      "\u001b[0;36m  File \u001b[0;32m\"<ipython-input-60-261c7c863059>\"\u001b[0;36m, line \u001b[0;32m4\u001b[0m\n\u001b[0;31m    if\u001b[0m\n\u001b[0m       ^\u001b[0m\n\u001b[0;31mSyntaxError\u001b[0m\u001b[0;31m:\u001b[0m invalid syntax\n"
     ]
    }
   ],
   "source": [
    "for x in ne_df.era:\n",
    "    if 'A.D.' in x and 'B.C.' not in x:\n",
    "        if 'century' not in x:\n",
    "            if \n",
    "                print(x)\n"
   ]
  },
  {
   "cell_type": "code",
   "execution_count": null,
   "metadata": {},
   "outputs": [],
   "source": [
    "\"\"\"\n",
    "the only 3 non-century AD values that are Later\n",
    "(c. A.D. 125 – after 180)\n",
    "(c. 370 – c. 404 A.D.)\n",
    "(c. A.D. 123/5 – c. 180)\n",
    "if the value directly preceding the - contains 3 characters?\n",
    "\"\"\""
   ]
  },
  {
   "cell_type": "markdown",
   "metadata": {},
   "source": [
    "## sword word analysis:"
   ]
  },
  {
   "cell_type": "code",
   "execution_count": 33,
   "metadata": {},
   "outputs": [],
   "source": [
    "latlib_df['term'] = ''"
   ]
  },
  {
   "cell_type": "code",
   "execution_count": 34,
   "metadata": {},
   "outputs": [],
   "source": [
    "#gladius:\n",
    "gladius = latlib_df[(latlib_df.text.str.contains(pat = 'gladius', case=False)) | (latlib_df.text.str.contains(pat = 'gladii', case=False)) | (latlib_df.text.str.contains(pat = 'gladi', case=False)) | (latlib_df.text.str.contains(pat = 'gladio', case=False)) | (latlib_df.text.str.contains(pat = 'gladium', case=False)) | (latlib_df.text.str.contains(pat = 'gladie', case=False)) | (latlib_df.text.str.contains(pat = 'gladiorum', case=False)) | (latlib_df.text.str.contains(pat = 'gladiis', case=False)) | (latlib_df.text.str.contains(pat = 'gladios', case=False))]"
   ]
  },
  {
   "cell_type": "code",
   "execution_count": 35,
   "metadata": {},
   "outputs": [],
   "source": [
    "#ferrum:\n",
    "ferrum = latlib_df[(latlib_df.text.str.contains(pat = 'ferrum', case=False)) | (latlib_df.text.str.contains(pat = 'ferri', case=False)) | (latlib_df.text.str.contains(pat = 'ferro', case=False)) | (latlib_df.text.str.contains(pat = 'ferra', case=False)) | (latlib_df.text.str.contains(pat = 'ferrorum', case=False)) | (latlib_df.text.str.contains(pat = 'ferris', case=False))]"
   ]
  },
  {
   "cell_type": "code",
   "execution_count": 36,
   "metadata": {},
   "outputs": [],
   "source": [
    "#mucro:\n",
    "mucro = latlib_df[(latlib_df.text.str.contains(pat = 'mucro', case=False)) | (latlib_df.text.str.contains(pat = 'mucronis', case=False)) | (latlib_df.text.str.contains(pat = 'mucroni', case=False)) | (latlib_df.text.str.contains(pat = 'mucronem', case=False)) | (latlib_df.text.str.contains(pat = 'mucrone', case=False)) | (latlib_df.text.str.contains(pat = 'mucrones', case=False)) | (latlib_df.text.str.contains(pat = 'mucronum', case=False)) | (latlib_df.text.str.contains(pat = 'mucronibus', case=False))]"
   ]
  },
  {
   "cell_type": "code",
   "execution_count": 37,
   "metadata": {},
   "outputs": [],
   "source": [
    "#ensis:\n",
    "ensis = latlib_df[(latlib_df.text.str.contains(pat = 'ensis', case=False)) | (latlib_df.text.str.contains(pat = 'ensi', case=False)) | (latlib_df.text.str.contains(pat = 'ensem', case=False)) | (latlib_df.text.str.contains(pat = 'ense', case=False)) | (latlib_df.text.str.contains(pat = 'enses', case=False)) | (latlib_df.text.str.contains(pat = 'ensium', case=False)) | (latlib_df.text.str.contains(pat = 'ensibus', case=False))]"
   ]
  },
  {
   "cell_type": "code",
   "execution_count": 38,
   "metadata": {},
   "outputs": [],
   "source": [
    "#capulus:\n",
    "capulus = latlib_df[(latlib_df.text.str.contains(pat = 'capulus', case=False)) | (latlib_df.text.str.contains(pat = 'capuli', case=False)) | (latlib_df.text.str.contains(pat = 'capulo', case=False)) | (latlib_df.text.str.contains(pat = 'capulum', case=False)) | (latlib_df.text.str.contains(pat = 'capulorum', case=False)) | (latlib_df.text.str.contains(pat = 'capulis', case=False)) | (latlib_df.text.str.contains(pat = 'capulos', case=False))]"
   ]
  },
  {
   "cell_type": "code",
   "execution_count": 39,
   "metadata": {},
   "outputs": [
    {
     "name": "stdout",
     "output_type": "stream",
     "text": [
      "gladius:  277\n",
      "ferrum:  462\n",
      "mucro:  89\n",
      "ensis:  573\n",
      "capulus:  48\n"
     ]
    }
   ],
   "source": [
    "#let's see how many occurences of each word there are:\n",
    "print('gladius: ',len(gladius))\n",
    "print('ferrum: ',len(ferrum))\n",
    "print('mucro: ',len(mucro))\n",
    "print('ensis: ',len(ensis))\n",
    "print('capulus: ',len(capulus)) #'capulus' is the least common, only appearing 48 times, let's look at that data!"
   ]
  },
  {
   "cell_type": "code",
   "execution_count": 40,
   "metadata": {},
   "outputs": [
    {
     "data": {
      "text/html": [
       "<div>\n",
       "<style scoped>\n",
       "    .dataframe tbody tr th:only-of-type {\n",
       "        vertical-align: middle;\n",
       "    }\n",
       "\n",
       "    .dataframe tbody tr th {\n",
       "        vertical-align: top;\n",
       "    }\n",
       "\n",
       "    .dataframe thead th {\n",
       "        text-align: right;\n",
       "    }\n",
       "</style>\n",
       "<table border=\"1\" class=\"dataframe\">\n",
       "  <thead>\n",
       "    <tr style=\"text-align: right;\">\n",
       "      <th></th>\n",
       "      <th>title</th>\n",
       "      <th>text</th>\n",
       "      <th>text_raw</th>\n",
       "      <th>tokens</th>\n",
       "      <th>token_count</th>\n",
       "      <th>max_line_length</th>\n",
       "      <th>style</th>\n",
       "      <th>author</th>\n",
       "      <th>life_span</th>\n",
       "      <th>term</th>\n",
       "    </tr>\n",
       "  </thead>\n",
       "  <tbody>\n",
       "    <tr>\n",
       "      <th>1</th>\n",
       "      <td>Valerius Maximus I</td>\n",
       "      <td>VALERI MAXIMI FACTORVM ET DICTORVM MEMORABILIV...</td>\n",
       "      <td>[VALERI MAXIMI FACTORVM ET DICTORVM MEMORABILI...</td>\n",
       "      <td>[VALERI, MAXIMI, FACTORVM, ET, DICTORVM, MEMOR...</td>\n",
       "      <td>10524</td>\n",
       "      <td>2080</td>\n",
       "      <td>prose</td>\n",
       "      <td>VALERIVS MAXIM</td>\n",
       "      <td>1st century A.D.</td>\n",
       "      <td></td>\n",
       "    </tr>\n",
       "    <tr>\n",
       "      <th>25</th>\n",
       "      <td>Statius: Achilleid II</td>\n",
       "      <td>PVBLIVS PAPINIVS STATIVS ACHILLEID II Exuit im...</td>\n",
       "      <td>[PVBLIVS PAPINIVS STATIVS, \\nACHILLEID II\\n, \\...</td>\n",
       "      <td>[PVBLIVS, PAPINIVS, STATIVS, ACHILLEID, II, Ex...</td>\n",
       "      <td>1243</td>\n",
       "      <td>71</td>\n",
       "      <td>verse</td>\n",
       "      <td>PVBLIVS PAPINIVS STATI</td>\n",
       "      <td>c. 45 – 96 A.D.</td>\n",
       "      <td></td>\n",
       "    </tr>\n",
       "    <tr>\n",
       "      <th>31</th>\n",
       "      <td>Statius: Thebaid XI</td>\n",
       "      <td>PVBLIVS PAPINIVS STATIVS THEBAID XI Postquam m...</td>\n",
       "      <td>[PVBLIVS PAPINIVS STATIVS, \\nTHEBAID XI\\n, \\nP...</td>\n",
       "      <td>[PVBLIVS, PAPINIVS, STATIVS, THEBAID, XI, Post...</td>\n",
       "      <td>6017</td>\n",
       "      <td>72</td>\n",
       "      <td>verse</td>\n",
       "      <td>PVBLIVS PAPINIVS STATI</td>\n",
       "      <td>c. 45 – 96 A.D.</td>\n",
       "      <td></td>\n",
       "    </tr>\n",
       "    <tr>\n",
       "      <th>34</th>\n",
       "      <td>Statius: Thebaid XII</td>\n",
       "      <td>PVBLIVS PAPINIVS STATIVS THEBAID XII Nondum cu...</td>\n",
       "      <td>[PVBLIVS PAPINIVS STATIVS, \\nTHEBAID XII\\n, \\n...</td>\n",
       "      <td>[PVBLIVS, PAPINIVS, STATIVS, THEBAID, XII, Non...</td>\n",
       "      <td>6244</td>\n",
       "      <td>72</td>\n",
       "      <td>verse</td>\n",
       "      <td>PVBLIVS PAPINIVS STATI</td>\n",
       "      <td>c. 45 – 96 A.D.</td>\n",
       "      <td></td>\n",
       "    </tr>\n",
       "    <tr>\n",
       "      <th>35</th>\n",
       "      <td>Statius: Thebaid IX</td>\n",
       "      <td>PVBLIVS PAPINIVS STATIVS THEBAID IX Asperat Ao...</td>\n",
       "      <td>[PVBLIVS PAPINIVS STATIVS, \\nTHEBAID IX\\n, \\nA...</td>\n",
       "      <td>[PVBLIVS, PAPINIVS, STATIVS, THEBAID, IX, Aspe...</td>\n",
       "      <td>6925</td>\n",
       "      <td>74</td>\n",
       "      <td>verse</td>\n",
       "      <td>PVBLIVS PAPINIVS STATI</td>\n",
       "      <td>c. 45 – 96 A.D.</td>\n",
       "      <td></td>\n",
       "    </tr>\n",
       "  </tbody>\n",
       "</table>\n",
       "</div>"
      ],
      "text/plain": [
       "                    title                                               text  \\\n",
       "1      Valerius Maximus I  VALERI MAXIMI FACTORVM ET DICTORVM MEMORABILIV...   \n",
       "25  Statius: Achilleid II  PVBLIVS PAPINIVS STATIVS ACHILLEID II Exuit im...   \n",
       "31    Statius: Thebaid XI  PVBLIVS PAPINIVS STATIVS THEBAID XI Postquam m...   \n",
       "34   Statius: Thebaid XII  PVBLIVS PAPINIVS STATIVS THEBAID XII Nondum cu...   \n",
       "35    Statius: Thebaid IX  PVBLIVS PAPINIVS STATIVS THEBAID IX Asperat Ao...   \n",
       "\n",
       "                                             text_raw  \\\n",
       "1   [VALERI MAXIMI FACTORVM ET DICTORVM MEMORABILI...   \n",
       "25  [PVBLIVS PAPINIVS STATIVS, \\nACHILLEID II\\n, \\...   \n",
       "31  [PVBLIVS PAPINIVS STATIVS, \\nTHEBAID XI\\n, \\nP...   \n",
       "34  [PVBLIVS PAPINIVS STATIVS, \\nTHEBAID XII\\n, \\n...   \n",
       "35  [PVBLIVS PAPINIVS STATIVS, \\nTHEBAID IX\\n, \\nA...   \n",
       "\n",
       "                                               tokens  token_count  \\\n",
       "1   [VALERI, MAXIMI, FACTORVM, ET, DICTORVM, MEMOR...        10524   \n",
       "25  [PVBLIVS, PAPINIVS, STATIVS, ACHILLEID, II, Ex...         1243   \n",
       "31  [PVBLIVS, PAPINIVS, STATIVS, THEBAID, XI, Post...         6017   \n",
       "34  [PVBLIVS, PAPINIVS, STATIVS, THEBAID, XII, Non...         6244   \n",
       "35  [PVBLIVS, PAPINIVS, STATIVS, THEBAID, IX, Aspe...         6925   \n",
       "\n",
       "    max_line_length  style                  author           life_span term  \n",
       "1              2080  prose          VALERIVS MAXIM   1st century A.D.        \n",
       "25               71  verse  PVBLIVS PAPINIVS STATI    c. 45 – 96 A.D.        \n",
       "31               72  verse  PVBLIVS PAPINIVS STATI    c. 45 – 96 A.D.        \n",
       "34               72  verse  PVBLIVS PAPINIVS STATI    c. 45 – 96 A.D.        \n",
       "35               74  verse  PVBLIVS PAPINIVS STATI    c. 45 – 96 A.D.        "
      ]
     },
     "execution_count": 40,
     "metadata": {},
     "output_type": "execute_result"
    }
   ],
   "source": [
    "capulus.head()"
   ]
  },
  {
   "cell_type": "markdown",
   "metadata": {},
   "source": [
    "Just from looking at these titles there's a pretty fair distribution of genre between the works (some philosophy, epic poetry, history, and even comedy plays!)"
   ]
  },
  {
   "cell_type": "code",
   "execution_count": 41,
   "metadata": {},
   "outputs": [
    {
     "name": "stdout",
     "output_type": "stream",
     "text": [
      "79.78339350180505\n",
      "20.216606498194945\n"
     ]
    }
   ],
   "source": [
    "print(len(gladius[gladius['style']=='prose'])/len(gladius)*100)\n",
    "print(len(gladius[gladius['style']=='verse'])/len(gladius)*100)\n",
    "#the results here are skewed highly in favor of prose"
   ]
  },
  {
   "cell_type": "code",
   "execution_count": 42,
   "metadata": {},
   "outputs": [
    {
     "name": "stdout",
     "output_type": "stream",
     "text": [
      "66.88311688311688\n",
      "33.116883116883116\n"
     ]
    }
   ],
   "source": [
    "print(len(ferrum[ferrum['style']=='prose'])/len(ferrum)*100)\n",
    "print(len(ferrum[ferrum['style']=='verse'])/len(ferrum)*100)\n",
    "#here there's more in the prose category"
   ]
  },
  {
   "cell_type": "code",
   "execution_count": 43,
   "metadata": {},
   "outputs": [
    {
     "name": "stdout",
     "output_type": "stream",
     "text": [
      "65.1685393258427\n",
      "34.831460674157306\n"
     ]
    }
   ],
   "source": [
    "print(len(mucro[mucro['style']=='prose'])/len(mucro)*100)\n",
    "print(len(mucro[mucro['style']=='verse'])/len(mucro)*100)\n",
    "#it's closer here, but still in favor of prose"
   ]
  },
  {
   "cell_type": "code",
   "execution_count": 44,
   "metadata": {},
   "outputs": [
    {
     "name": "stdout",
     "output_type": "stream",
     "text": [
      "70.85514834205934\n",
      "29.144851657940663\n"
     ]
    }
   ],
   "source": [
    "print(len(ensis[ensis['style']=='prose'])/len(ensis)*100)\n",
    "print(len(ensis[ensis['style']=='verse'])/len(ensis)*100)\n",
    "#heavily in favor of prose"
   ]
  },
  {
   "cell_type": "code",
   "execution_count": 45,
   "metadata": {},
   "outputs": [
    {
     "name": "stdout",
     "output_type": "stream",
     "text": [
      "39.58333333333333\n",
      "60.416666666666664\n"
     ]
    }
   ],
   "source": [
    "print(len(capulus[capulus['style']=='prose'])/len(capulus)*100)\n",
    "print(len(capulus[capulus['style']=='verse'])/len(capulus)*100)\n",
    "#interestingly enough, verse is more popular than prose here"
   ]
  },
  {
   "cell_type": "markdown",
   "metadata": {},
   "source": [
    "because the results are overwhelmingly in favor of prose in most categories let's look at how they match up in latlib_df"
   ]
  },
  {
   "cell_type": "code",
   "execution_count": 46,
   "metadata": {},
   "outputs": [
    {
     "name": "stdout",
     "output_type": "stream",
     "text": [
      "425\n",
      "185\n"
     ]
    }
   ],
   "source": [
    "print(len(latlib_df[latlib_df['style']=='prose']))\n",
    "print(len(latlib_df[latlib_df['style']=='verse']))\n",
    "#so prose definitely shows more than verse, which is not super surprising"
   ]
  },
  {
   "cell_type": "code",
   "execution_count": 47,
   "metadata": {},
   "outputs": [
    {
     "name": "stdout",
     "output_type": "stream",
     "text": [
      "percentage of prose works in data:  69.67213114754098 %\n",
      "percentage of verse works in data:  30.327868852459016 %\n"
     ]
    }
   ],
   "source": [
    "p_n = len(latlib_df[latlib_df['style']=='prose'])/len(latlib_df)*100\n",
    "v_n = len(latlib_df[latlib_df['style']=='verse'])/len(latlib_df)*100\n",
    "print('percentage of prose works in data: ',p_n,'%')\n",
    "print('percentage of verse works in data: ',v_n,'%')"
   ]
  },
  {
   "cell_type": "code",
   "execution_count": 48,
   "metadata": {},
   "outputs": [
    {
     "name": "stderr",
     "output_type": "stream",
     "text": [
      "/Users/francesharrington/opt/anaconda3/lib/python3.8/site-packages/pandas/core/generic.py:5168: SettingWithCopyWarning: \n",
      "A value is trying to be set on a copy of a slice from a DataFrame.\n",
      "Try using .loc[row_indexer,col_indexer] = value instead\n",
      "\n",
      "See the caveats in the documentation: https://pandas.pydata.org/pandas-docs/stable/user_guide/indexing.html#returning-a-view-versus-a-copy\n",
      "  self[name] = value\n"
     ]
    }
   ],
   "source": [
    "gladius.term = ['gladius' for x in gladius.term]\n",
    "ferrum.term = ['ferrum' for x in ferrum.term]\n",
    "mucro.term = ['mucro' for x in mucro.term]\n",
    "ensis.term = ['ensis' for x in ensis.term]\n",
    "capulus.term = ['capulus' for x in capulus.term]"
   ]
  },
  {
   "cell_type": "code",
   "execution_count": 49,
   "metadata": {},
   "outputs": [
    {
     "data": {
      "text/html": [
       "<div>\n",
       "<style scoped>\n",
       "    .dataframe tbody tr th:only-of-type {\n",
       "        vertical-align: middle;\n",
       "    }\n",
       "\n",
       "    .dataframe tbody tr th {\n",
       "        vertical-align: top;\n",
       "    }\n",
       "\n",
       "    .dataframe thead th {\n",
       "        text-align: right;\n",
       "    }\n",
       "</style>\n",
       "<table border=\"1\" class=\"dataframe\">\n",
       "  <thead>\n",
       "    <tr style=\"text-align: right;\">\n",
       "      <th></th>\n",
       "      <th>title</th>\n",
       "      <th>text</th>\n",
       "      <th>text_raw</th>\n",
       "      <th>tokens</th>\n",
       "      <th>token_count</th>\n",
       "      <th>max_line_length</th>\n",
       "      <th>style</th>\n",
       "      <th>author</th>\n",
       "      <th>life_span</th>\n",
       "      <th>term</th>\n",
       "    </tr>\n",
       "  </thead>\n",
       "  <tbody>\n",
       "    <tr>\n",
       "      <th>0</th>\n",
       "      <td>Ammianus: Liber XXXI</td>\n",
       "      <td>AMMIANI MARCELLINI HISTORIAE LIBER XXXI       ...</td>\n",
       "      <td>[AMMIANI MARCELLINI HISTORIAE LIBER XXXI\\n, \\n...</td>\n",
       "      <td>[AMMIANI, MARCELLINI, HISTORIAE, LIBER, XXXI, ...</td>\n",
       "      <td>11030</td>\n",
       "      <td>774</td>\n",
       "      <td>prose</td>\n",
       "      <td>AMMIANVS MARCELLIN</td>\n",
       "      <td>4th century A.D.</td>\n",
       "      <td>ensis</td>\n",
       "    </tr>\n",
       "    <tr>\n",
       "      <th>1</th>\n",
       "      <td>Valerius Maximus I</td>\n",
       "      <td>VALERI MAXIMI FACTORVM ET DICTORVM MEMORABILIV...</td>\n",
       "      <td>[VALERI MAXIMI FACTORVM ET DICTORVM MEMORABILI...</td>\n",
       "      <td>[VALERI, MAXIMI, FACTORVM, ET, DICTORVM, MEMOR...</td>\n",
       "      <td>10524</td>\n",
       "      <td>2080</td>\n",
       "      <td>prose</td>\n",
       "      <td>VALERIVS MAXIM</td>\n",
       "      <td>1st century A.D.</td>\n",
       "      <td>ensis</td>\n",
       "    </tr>\n",
       "    <tr>\n",
       "      <th>2</th>\n",
       "      <td>Valerius Maximus VIII</td>\n",
       "      <td>VALERI MAXIMI FACTORVM ET DICTORVM MEMORABILIV...</td>\n",
       "      <td>[VALERI MAXIMI FACTORVM ET DICTORVM MEMORABILI...</td>\n",
       "      <td>[VALERI, MAXIMI, FACTORVM, ET, DICTORVM, MEMOR...</td>\n",
       "      <td>10337</td>\n",
       "      <td>1308</td>\n",
       "      <td>prose</td>\n",
       "      <td>VALERIVS MAXIM</td>\n",
       "      <td>1st century A.D.</td>\n",
       "      <td>ensis</td>\n",
       "    </tr>\n",
       "    <tr>\n",
       "      <th>3</th>\n",
       "      <td>Valerius Maximus IV</td>\n",
       "      <td>VALERI MAXIMI FACTORVM ET DICTORVM MEMORABILIV...</td>\n",
       "      <td>[VALERI MAXIMI FACTORVM ET DICTORVM MEMORABILI...</td>\n",
       "      <td>[VALERI, MAXIMI, FACTORVM, ET, DICTORVM, MEMOR...</td>\n",
       "      <td>10852</td>\n",
       "      <td>2034</td>\n",
       "      <td>prose</td>\n",
       "      <td>VALERIVS MAXIM</td>\n",
       "      <td>1st century A.D.</td>\n",
       "      <td>ensis</td>\n",
       "    </tr>\n",
       "    <tr>\n",
       "      <th>4</th>\n",
       "      <td>Valerius Maximus VII</td>\n",
       "      <td>VALERI MAXIMI FACTORVM ET DICTORVM MEMORABILIV...</td>\n",
       "      <td>[VALERI MAXIMI FACTORVM ET DICTORVM MEMORABILI...</td>\n",
       "      <td>[VALERI, MAXIMI, FACTORVM, ET, DICTORVM, MEMOR...</td>\n",
       "      <td>8918</td>\n",
       "      <td>2141</td>\n",
       "      <td>prose</td>\n",
       "      <td>VALERIVS MAXIM</td>\n",
       "      <td>1st century A.D.</td>\n",
       "      <td>ensis</td>\n",
       "    </tr>\n",
       "  </tbody>\n",
       "</table>\n",
       "</div>"
      ],
      "text/plain": [
       "                   title                                               text  \\\n",
       "0   Ammianus: Liber XXXI  AMMIANI MARCELLINI HISTORIAE LIBER XXXI       ...   \n",
       "1     Valerius Maximus I  VALERI MAXIMI FACTORVM ET DICTORVM MEMORABILIV...   \n",
       "2  Valerius Maximus VIII  VALERI MAXIMI FACTORVM ET DICTORVM MEMORABILIV...   \n",
       "3    Valerius Maximus IV  VALERI MAXIMI FACTORVM ET DICTORVM MEMORABILIV...   \n",
       "4   Valerius Maximus VII  VALERI MAXIMI FACTORVM ET DICTORVM MEMORABILIV...   \n",
       "\n",
       "                                            text_raw  \\\n",
       "0  [AMMIANI MARCELLINI HISTORIAE LIBER XXXI\\n, \\n...   \n",
       "1  [VALERI MAXIMI FACTORVM ET DICTORVM MEMORABILI...   \n",
       "2  [VALERI MAXIMI FACTORVM ET DICTORVM MEMORABILI...   \n",
       "3  [VALERI MAXIMI FACTORVM ET DICTORVM MEMORABILI...   \n",
       "4  [VALERI MAXIMI FACTORVM ET DICTORVM MEMORABILI...   \n",
       "\n",
       "                                              tokens  token_count  \\\n",
       "0  [AMMIANI, MARCELLINI, HISTORIAE, LIBER, XXXI, ...        11030   \n",
       "1  [VALERI, MAXIMI, FACTORVM, ET, DICTORVM, MEMOR...        10524   \n",
       "2  [VALERI, MAXIMI, FACTORVM, ET, DICTORVM, MEMOR...        10337   \n",
       "3  [VALERI, MAXIMI, FACTORVM, ET, DICTORVM, MEMOR...        10852   \n",
       "4  [VALERI, MAXIMI, FACTORVM, ET, DICTORVM, MEMOR...         8918   \n",
       "\n",
       "   max_line_length  style              author           life_span   term  \n",
       "0              774  prose  AMMIANVS MARCELLIN   4th century A.D.   ensis  \n",
       "1             2080  prose      VALERIVS MAXIM   1st century A.D.   ensis  \n",
       "2             1308  prose      VALERIVS MAXIM   1st century A.D.   ensis  \n",
       "3             2034  prose      VALERIVS MAXIM   1st century A.D.   ensis  \n",
       "4             2141  prose      VALERIVS MAXIM   1st century A.D.   ensis  "
      ]
     },
     "execution_count": 49,
     "metadata": {},
     "output_type": "execute_result"
    }
   ],
   "source": [
    "ensis.head(5)"
   ]
  },
  {
   "cell_type": "code",
   "execution_count": 50,
   "metadata": {},
   "outputs": [],
   "source": [
    "df_swords = pd.concat([gladius, ferrum, mucro, ensis, capulus])"
   ]
  },
  {
   "cell_type": "code",
   "execution_count": 51,
   "metadata": {},
   "outputs": [
    {
     "data": {
      "text/html": [
       "<div>\n",
       "<style scoped>\n",
       "    .dataframe tbody tr th:only-of-type {\n",
       "        vertical-align: middle;\n",
       "    }\n",
       "\n",
       "    .dataframe tbody tr th {\n",
       "        vertical-align: top;\n",
       "    }\n",
       "\n",
       "    .dataframe thead th {\n",
       "        text-align: right;\n",
       "    }\n",
       "</style>\n",
       "<table border=\"1\" class=\"dataframe\">\n",
       "  <thead>\n",
       "    <tr style=\"text-align: right;\">\n",
       "      <th></th>\n",
       "      <th>title</th>\n",
       "      <th>text</th>\n",
       "      <th>text_raw</th>\n",
       "      <th>tokens</th>\n",
       "      <th>token_count</th>\n",
       "      <th>max_line_length</th>\n",
       "      <th>style</th>\n",
       "      <th>author</th>\n",
       "      <th>life_span</th>\n",
       "      <th>term</th>\n",
       "    </tr>\n",
       "  </thead>\n",
       "  <tbody>\n",
       "    <tr>\n",
       "      <th>442</th>\n",
       "      <td>Quintilian: Declamatio Maior VI</td>\n",
       "      <td>M. FABI QVINTILIANI DECLAMATIO MAIOR SEXTVS Qu...</td>\n",
       "      <td>[M. FABI QVINTILIANI DECLAMATIO MAIOR SEXTVS\\n...</td>\n",
       "      <td>[M., FABI, QVINTILIANI, DECLAMATIO, MAIOR, SEX...</td>\n",
       "      <td>6266</td>\n",
       "      <td>2419</td>\n",
       "      <td>prose</td>\n",
       "      <td>P. VERGILIVS MA</td>\n",
       "      <td>70 – 19 B.C.</td>\n",
       "      <td>ferrum</td>\n",
       "    </tr>\n",
       "    <tr>\n",
       "      <th>360</th>\n",
       "      <td>Ovid: Heroides IX</td>\n",
       "      <td>P. OVIDI NASONIS EPISTVLAE HEROIDVM   Mittor a...</td>\n",
       "      <td>[P. OVIDI NASONIS EPISTVLAE HEROIDVM\\n, \\n, \\n...</td>\n",
       "      <td>[P., OVIDI, NASONIS, EPISTVLAE, HEROIDVM, Mitt...</td>\n",
       "      <td>1246</td>\n",
       "      <td>52</td>\n",
       "      <td>verse</td>\n",
       "      <td>P. OVIDIVS NA</td>\n",
       "      <td>43 B.C. – 17 A.D.</td>\n",
       "      <td>ensis</td>\n",
       "    </tr>\n",
       "    <tr>\n",
       "      <th>415</th>\n",
       "      <td>Pliny the Younger</td>\n",
       "      <td>C. PLINII CAECILII SECVNDI EPISTVLARVM LIBER O...</td>\n",
       "      <td>[C. PLINII CAECILII SECVNDI EPISTVLARVM LIBER ...</td>\n",
       "      <td>[C., PLINII, CAECILII, SECVNDI, EPISTVLARVM, L...</td>\n",
       "      <td>7344</td>\n",
       "      <td>567</td>\n",
       "      <td>prose</td>\n",
       "      <td>AMMIANVS MARCELLIN</td>\n",
       "      <td>4th century A.D.</td>\n",
       "      <td>ferrum</td>\n",
       "    </tr>\n",
       "    <tr>\n",
       "      <th>401</th>\n",
       "      <td>Plautus: Casina</td>\n",
       "      <td>T. MACCI PLAVTI CASINA   OLYMPIO VILICVS CHALI...</td>\n",
       "      <td>[T. MACCI PLAVTI CASINA\\n, \\n, \\n, \\nOLYMPIO V...</td>\n",
       "      <td>[T., MACCI, PLAVTI, CASINA, OLYMPIO, VILICVS, ...</td>\n",
       "      <td>9591</td>\n",
       "      <td>84</td>\n",
       "      <td>verse</td>\n",
       "      <td>P. VERGILIVS MA</td>\n",
       "      <td>70 – 19 B.C.</td>\n",
       "      <td>capulus</td>\n",
       "    </tr>\n",
       "    <tr>\n",
       "      <th>461</th>\n",
       "      <td>Sallust: Speech of Macer</td>\n",
       "      <td>ORATIO MACRI TRIB. PLEB. AD PLEBEM  Si, Quirit...</td>\n",
       "      <td>[ORATIO MACRI TRIB. PLEB. AD PLEBEM\\n, \\n Si, ...</td>\n",
       "      <td>[ORATIO, MACRI, TRIB, ., PLEB, ., AD, PLEBEM, ...</td>\n",
       "      <td>1000</td>\n",
       "      <td>1656</td>\n",
       "      <td>prose</td>\n",
       "      <td>P. VERGILIVS MA</td>\n",
       "      <td>70 – 19 B.C.</td>\n",
       "      <td>ensis</td>\n",
       "    </tr>\n",
       "  </tbody>\n",
       "</table>\n",
       "</div>"
      ],
      "text/plain": [
       "                               title  \\\n",
       "442  Quintilian: Declamatio Maior VI   \n",
       "360                Ovid: Heroides IX   \n",
       "415                Pliny the Younger   \n",
       "401                  Plautus: Casina   \n",
       "461         Sallust: Speech of Macer   \n",
       "\n",
       "                                                  text  \\\n",
       "442  M. FABI QVINTILIANI DECLAMATIO MAIOR SEXTVS Qu...   \n",
       "360  P. OVIDI NASONIS EPISTVLAE HEROIDVM   Mittor a...   \n",
       "415  C. PLINII CAECILII SECVNDI EPISTVLARVM LIBER O...   \n",
       "401  T. MACCI PLAVTI CASINA   OLYMPIO VILICVS CHALI...   \n",
       "461  ORATIO MACRI TRIB. PLEB. AD PLEBEM  Si, Quirit...   \n",
       "\n",
       "                                              text_raw  \\\n",
       "442  [M. FABI QVINTILIANI DECLAMATIO MAIOR SEXTVS\\n...   \n",
       "360  [P. OVIDI NASONIS EPISTVLAE HEROIDVM\\n, \\n, \\n...   \n",
       "415  [C. PLINII CAECILII SECVNDI EPISTVLARVM LIBER ...   \n",
       "401  [T. MACCI PLAVTI CASINA\\n, \\n, \\n, \\nOLYMPIO V...   \n",
       "461  [ORATIO MACRI TRIB. PLEB. AD PLEBEM\\n, \\n Si, ...   \n",
       "\n",
       "                                                tokens  token_count  \\\n",
       "442  [M., FABI, QVINTILIANI, DECLAMATIO, MAIOR, SEX...         6266   \n",
       "360  [P., OVIDI, NASONIS, EPISTVLAE, HEROIDVM, Mitt...         1246   \n",
       "415  [C., PLINII, CAECILII, SECVNDI, EPISTVLARVM, L...         7344   \n",
       "401  [T., MACCI, PLAVTI, CASINA, OLYMPIO, VILICVS, ...         9591   \n",
       "461  [ORATIO, MACRI, TRIB, ., PLEB, ., AD, PLEBEM, ...         1000   \n",
       "\n",
       "     max_line_length  style              author            life_span     term  \n",
       "442             2419  prose     P. VERGILIVS MA        70 – 19 B.C.    ferrum  \n",
       "360               52  verse       P. OVIDIVS NA   43 B.C. – 17 A.D.     ensis  \n",
       "415              567  prose  AMMIANVS MARCELLIN    4th century A.D.    ferrum  \n",
       "401               84  verse     P. VERGILIVS MA        70 – 19 B.C.   capulus  \n",
       "461             1656  prose     P. VERGILIVS MA        70 – 19 B.C.     ensis  "
      ]
     },
     "execution_count": 51,
     "metadata": {},
     "output_type": "execute_result"
    }
   ],
   "source": [
    "df_swords.sample(5)"
   ]
  },
  {
   "cell_type": "code",
   "execution_count": 52,
   "metadata": {},
   "outputs": [
    {
     "name": "stdout",
     "output_type": "stream",
     "text": [
      "gladius era variance:  22\n",
      "ferrum era variance:  26\n",
      "mucro era variance:  16\n",
      "ensis era variance:  27\n",
      "capulus era variance:  12\n"
     ]
    }
   ],
   "source": [
    "print('gladius era variance: ', len(set([x for x in gladius['life_span']])))\n",
    "print('ferrum era variance: ',len(set([x for x in ferrum['life_span']])))\n",
    "print('mucro era variance: ',len(set([x for x in mucro['life_span']])))\n",
    "print('ensis era variance: ',len(set([x for x in ensis['life_span']])))\n",
    "print('capulus era variance: ',len(set([x for x in capulus['life_span']]))) #capulus has the least amount of era variance, lets take a look!"
   ]
  },
  {
   "cell_type": "code",
   "execution_count": 53,
   "metadata": {},
   "outputs": [
    {
     "data": {
      "text/plain": [
       "{' 106 – 43 B.C. ',\n",
       " ' 116 – 27 B.C. ',\n",
       " ' 1st century A.D. ',\n",
       " ' 25/6 – 101 A.D. ',\n",
       " ' 43 B.C. – 17 A.D. ',\n",
       " ' 4th century A.D. ',\n",
       " ' 63 – c. 113 A.D.  SECVND',\n",
       " ' 70 – 19 B.C. ',\n",
       " ' c. 4 B.C. – A.D. 65 ',\n",
       " ' c. 45 – 96 A.D. ',\n",
       " ' c. 56 – c. 117 A.D. ',\n",
       " 'none'}"
      ]
     },
     "execution_count": 53,
     "metadata": {},
     "output_type": "execute_result"
    }
   ],
   "source": [
    "(set([x for x in capulus['life_span']])) #pretty large span of time too, from the 2nd century BC to the 4th century AD!\n",
    "#however, the majority of usage comes from after the year 0"
   ]
  },
  {
   "cell_type": "code",
   "execution_count": 54,
   "metadata": {},
   "outputs": [
    {
     "name": "stdout",
     "output_type": "stream",
     "text": [
      "{'PVBLIVS PAPINIVS STATI', 'SCRIPTORES HISTORIAE AVGVST', 'P. OVIDIVS NA', 'M. PORCIVS CATO CENS', 'C. PETRONI', 'SEXTVS PROPERTI', 'P. CORNELIVS TACIT', 'C. PLINIVS CAECILIVS SECVND', 'SILIVS ITALIC', 'C. IULIUS CAES', 'P. TERENTIVS AF', 'C. SVETONIVS TRANQVILL', 'L. ANNAEVS SENE', 'ALBIVS TIBVLL', 'PHAEDR', 'AMMIANVS MARCELLIN', 'M. VITRVVIVS POLL', 'FLOR', 'M. TERENTIVS VAR', 'CORNELIVS NEP', 'AVLVS GELLI', 'C. SALLVSTIVS CRISP', 'T. LIVI', 'VALERIVS MAXIM', 'M. FABIVS QVINTILIAN', 'EVTROPI', 'TITVS LVCRETIVS CAR', 'P. VERGILIVS MA', 'none', 'M. TVLLIVS CICE', 'GAIVS VALERIVS FLACC'}\n",
      "31\n"
     ]
    }
   ],
   "source": [
    "#lets look through author usages now:\n",
    "print(set(df_swords.author))#all the authors that use a sword word\n",
    "print(len(set(df_swords.author))) #that would be all 31, according to the set difference check below"
   ]
  },
  {
   "cell_type": "code",
   "execution_count": 55,
   "metadata": {},
   "outputs": [
    {
     "name": "stdout",
     "output_type": "stream",
     "text": [
      "set()\n"
     ]
    }
   ],
   "source": [
    "x = set(df_swords.author)\n",
    "y = set(latlib_df.author)\n",
    "z = x.difference(y)\n",
    "print(z) #yep, every author uses a sword word in at least one work!"
   ]
  },
  {
   "cell_type": "markdown",
   "metadata": {},
   "source": [
    "final stat overview & save updated examples out:"
   ]
  },
  {
   "cell_type": "code",
   "execution_count": null,
   "metadata": {},
   "outputs": [],
   "source": [
    "latlib_df.describe()"
   ]
  },
  {
   "cell_type": "code",
   "execution_count": null,
   "metadata": {},
   "outputs": [],
   "source": [
    "#updated data samples so they reflect my current data:\n",
    "examples = latlib_df.head(10)\n",
    "examples.to_pickle(\"/Users/francesharrington/Documents/ling1340/Latin-Vocabulary-Analysis/data_samples/examples.pkl\")"
   ]
  }
 ],
 "metadata": {
  "kernelspec": {
   "display_name": "Python 3",
   "language": "python",
   "name": "python3"
  },
  "language_info": {
   "codemirror_mode": {
    "name": "ipython",
    "version": 3
   },
   "file_extension": ".py",
   "mimetype": "text/x-python",
   "name": "python",
   "nbconvert_exporter": "python",
   "pygments_lexer": "ipython3",
   "version": "3.8.5"
  }
 },
 "nbformat": 4,
 "nbformat_minor": 4
}
