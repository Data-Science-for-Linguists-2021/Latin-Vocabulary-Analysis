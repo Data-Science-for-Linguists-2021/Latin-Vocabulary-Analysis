{
 "cells": [
  {
   "cell_type": "code",
   "execution_count": 1,
   "metadata": {},
   "outputs": [],
   "source": [
    "import nltk\n",
    "from bs4 import BeautifulSoup\n",
    "import requests\n",
    "import pandas as pd\n",
    "import numpy as np\n",
    "import re"
   ]
  },
  {
   "cell_type": "code",
   "execution_count": 2,
   "metadata": {},
   "outputs": [],
   "source": [
    "import statistics"
   ]
  },
  {
   "cell_type": "code",
   "execution_count": 3,
   "metadata": {},
   "outputs": [],
   "source": [
    "latlib_df = pd.read_pickle(\"/Users/francesharrington/Documents/ling1340/Latin-Vocabulary-Analysis/data/latinlibrary_data.pkl\")"
   ]
  },
  {
   "cell_type": "code",
   "execution_count": 4,
   "metadata": {},
   "outputs": [],
   "source": [
    "ne_df = pd.read_pickle(\"/Users/francesharrington/Documents/ling1340/Latin-Vocabulary-Analysis/data/latinlibrary_ne_data.pkl\")"
   ]
  },
  {
   "cell_type": "code",
   "execution_count": 5,
   "metadata": {},
   "outputs": [
    {
     "data": {
      "text/html": [
       "<div>\n",
       "<style scoped>\n",
       "    .dataframe tbody tr th:only-of-type {\n",
       "        vertical-align: middle;\n",
       "    }\n",
       "\n",
       "    .dataframe tbody tr th {\n",
       "        vertical-align: top;\n",
       "    }\n",
       "\n",
       "    .dataframe thead th {\n",
       "        text-align: right;\n",
       "    }\n",
       "</style>\n",
       "<table border=\"1\" class=\"dataframe\">\n",
       "  <thead>\n",
       "    <tr style=\"text-align: right;\">\n",
       "      <th></th>\n",
       "      <th>title</th>\n",
       "      <th>text</th>\n",
       "      <th>text_raw</th>\n",
       "      <th>tokens</th>\n",
       "      <th>token_count</th>\n",
       "    </tr>\n",
       "  </thead>\n",
       "  <tbody>\n",
       "    <tr>\n",
       "      <th>0</th>\n",
       "      <td>Ammianus: Liber XXXI</td>\n",
       "      <td>AMMIANI MARCELLINI HISTORIAE LIBER XXXI       ...</td>\n",
       "      <td>[AMMIANI MARCELLINI HISTORIAE LIBER XXXI\\n, \\n...</td>\n",
       "      <td>[AMMIANI, MARCELLINI, HISTORIAE, LIBER, XXXI, ...</td>\n",
       "      <td>11030</td>\n",
       "    </tr>\n",
       "    <tr>\n",
       "      <th>1</th>\n",
       "      <td>Valerius Maximus I</td>\n",
       "      <td>VALERI MAXIMI FACTORVM ET DICTORVM MEMORABILIV...</td>\n",
       "      <td>[VALERI MAXIMI FACTORVM ET DICTORVM MEMORABILI...</td>\n",
       "      <td>[VALERI, MAXIMI, FACTORVM, ET, DICTORVM, MEMOR...</td>\n",
       "      <td>10524</td>\n",
       "    </tr>\n",
       "    <tr>\n",
       "      <th>2</th>\n",
       "      <td>Valerius Maximus VIII</td>\n",
       "      <td>VALERI MAXIMI FACTORVM ET DICTORVM MEMORABILIV...</td>\n",
       "      <td>[VALERI MAXIMI FACTORVM ET DICTORVM MEMORABILI...</td>\n",
       "      <td>[VALERI, MAXIMI, FACTORVM, ET, DICTORVM, MEMOR...</td>\n",
       "      <td>10337</td>\n",
       "    </tr>\n",
       "    <tr>\n",
       "      <th>3</th>\n",
       "      <td>Valerius Maximus IV</td>\n",
       "      <td>VALERI MAXIMI FACTORVM ET DICTORVM MEMORABILIV...</td>\n",
       "      <td>[VALERI MAXIMI FACTORVM ET DICTORVM MEMORABILI...</td>\n",
       "      <td>[VALERI, MAXIMI, FACTORVM, ET, DICTORVM, MEMOR...</td>\n",
       "      <td>10852</td>\n",
       "    </tr>\n",
       "    <tr>\n",
       "      <th>4</th>\n",
       "      <td>Valerius Maximus VII</td>\n",
       "      <td>VALERI MAXIMI FACTORVM ET DICTORVM MEMORABILIV...</td>\n",
       "      <td>[VALERI MAXIMI FACTORVM ET DICTORVM MEMORABILI...</td>\n",
       "      <td>[VALERI, MAXIMI, FACTORVM, ET, DICTORVM, MEMOR...</td>\n",
       "      <td>8918</td>\n",
       "    </tr>\n",
       "  </tbody>\n",
       "</table>\n",
       "</div>"
      ],
      "text/plain": [
       "                   title                                               text  \\\n",
       "0   Ammianus: Liber XXXI  AMMIANI MARCELLINI HISTORIAE LIBER XXXI       ...   \n",
       "1     Valerius Maximus I  VALERI MAXIMI FACTORVM ET DICTORVM MEMORABILIV...   \n",
       "2  Valerius Maximus VIII  VALERI MAXIMI FACTORVM ET DICTORVM MEMORABILIV...   \n",
       "3    Valerius Maximus IV  VALERI MAXIMI FACTORVM ET DICTORVM MEMORABILIV...   \n",
       "4   Valerius Maximus VII  VALERI MAXIMI FACTORVM ET DICTORVM MEMORABILIV...   \n",
       "\n",
       "                                            text_raw  \\\n",
       "0  [AMMIANI MARCELLINI HISTORIAE LIBER XXXI\\n, \\n...   \n",
       "1  [VALERI MAXIMI FACTORVM ET DICTORVM MEMORABILI...   \n",
       "2  [VALERI MAXIMI FACTORVM ET DICTORVM MEMORABILI...   \n",
       "3  [VALERI MAXIMI FACTORVM ET DICTORVM MEMORABILI...   \n",
       "4  [VALERI MAXIMI FACTORVM ET DICTORVM MEMORABILI...   \n",
       "\n",
       "                                              tokens  token_count  \n",
       "0  [AMMIANI, MARCELLINI, HISTORIAE, LIBER, XXXI, ...        11030  \n",
       "1  [VALERI, MAXIMI, FACTORVM, ET, DICTORVM, MEMOR...        10524  \n",
       "2  [VALERI, MAXIMI, FACTORVM, ET, DICTORVM, MEMOR...        10337  \n",
       "3  [VALERI, MAXIMI, FACTORVM, ET, DICTORVM, MEMOR...        10852  \n",
       "4  [VALERI, MAXIMI, FACTORVM, ET, DICTORVM, MEMOR...         8918  "
      ]
     },
     "execution_count": 5,
     "metadata": {},
     "output_type": "execute_result"
    }
   ],
   "source": [
    "#here's some of the data:\n",
    "latlib_df.head()"
   ]
  },
  {
   "cell_type": "code",
   "execution_count": 6,
   "metadata": {},
   "outputs": [
    {
     "data": {
      "text/html": [
       "<div>\n",
       "<style scoped>\n",
       "    .dataframe tbody tr th:only-of-type {\n",
       "        vertical-align: middle;\n",
       "    }\n",
       "\n",
       "    .dataframe tbody tr th {\n",
       "        vertical-align: top;\n",
       "    }\n",
       "\n",
       "    .dataframe thead th {\n",
       "        text-align: right;\n",
       "    }\n",
       "</style>\n",
       "<table border=\"1\" class=\"dataframe\">\n",
       "  <thead>\n",
       "    <tr style=\"text-align: right;\">\n",
       "      <th></th>\n",
       "      <th>name</th>\n",
       "      <th>era</th>\n",
       "    </tr>\n",
       "  </thead>\n",
       "  <tbody>\n",
       "    <tr>\n",
       "      <th>0</th>\n",
       "      <td>AMMIANVS MARCELLINVS</td>\n",
       "      <td>(4th century A.D.)</td>\n",
       "    </tr>\n",
       "    <tr>\n",
       "      <th>1</th>\n",
       "      <td>VALERIVS MAXIMVS</td>\n",
       "      <td>(1st century A.D.)</td>\n",
       "    </tr>\n",
       "    <tr>\n",
       "      <th>2</th>\n",
       "      <td>GAIVS VALERIVS FLACCVS</td>\n",
       "      <td>(died c. 90 A.D.)</td>\n",
       "    </tr>\n",
       "    <tr>\n",
       "      <th>4</th>\n",
       "      <td>P. VERGILIVS MARO</td>\n",
       "      <td>(70 – 19 B.C.)</td>\n",
       "    </tr>\n",
       "    <tr>\n",
       "      <th>6</th>\n",
       "      <td>ALBIVS TIBVLLVS</td>\n",
       "      <td>(c. 54 – 19 B.C.)</td>\n",
       "    </tr>\n",
       "  </tbody>\n",
       "</table>\n",
       "</div>"
      ],
      "text/plain": [
       "                     name                 era\n",
       "0    AMMIANVS MARCELLINVS  (4th century A.D.)\n",
       "1        VALERIVS MAXIMVS  (1st century A.D.)\n",
       "2  GAIVS VALERIVS FLACCVS   (died c. 90 A.D.)\n",
       "4       P. VERGILIVS MARO      (70 – 19 B.C.)\n",
       "6         ALBIVS TIBVLLVS   (c. 54 – 19 B.C.)"
      ]
     },
     "execution_count": 6,
     "metadata": {},
     "output_type": "execute_result"
    }
   ],
   "source": [
    "ne_df.head()"
   ]
  },
  {
   "cell_type": "markdown",
   "metadata": {},
   "source": [
    "Here's some basic info on the data contained in latlib_df:"
   ]
  },
  {
   "cell_type": "code",
   "execution_count": 7,
   "metadata": {},
   "outputs": [
    {
     "data": {
      "text/plain": [
       "(672, 5)"
      ]
     },
     "execution_count": 7,
     "metadata": {},
     "output_type": "execute_result"
    }
   ],
   "source": [
    "#overall shape of the dataframe:\n",
    "latlib_df.shape"
   ]
  },
  {
   "cell_type": "code",
   "execution_count": 8,
   "metadata": {},
   "outputs": [
    {
     "data": {
      "text/html": [
       "<div>\n",
       "<style scoped>\n",
       "    .dataframe tbody tr th:only-of-type {\n",
       "        vertical-align: middle;\n",
       "    }\n",
       "\n",
       "    .dataframe tbody tr th {\n",
       "        vertical-align: top;\n",
       "    }\n",
       "\n",
       "    .dataframe thead th {\n",
       "        text-align: right;\n",
       "    }\n",
       "</style>\n",
       "<table border=\"1\" class=\"dataframe\">\n",
       "  <thead>\n",
       "    <tr style=\"text-align: right;\">\n",
       "      <th></th>\n",
       "      <th>token_count</th>\n",
       "    </tr>\n",
       "  </thead>\n",
       "  <tbody>\n",
       "    <tr>\n",
       "      <th>count</th>\n",
       "      <td>672.000000</td>\n",
       "    </tr>\n",
       "    <tr>\n",
       "      <th>mean</th>\n",
       "      <td>6331.989583</td>\n",
       "    </tr>\n",
       "    <tr>\n",
       "      <th>std</th>\n",
       "      <td>5564.159005</td>\n",
       "    </tr>\n",
       "    <tr>\n",
       "      <th>min</th>\n",
       "      <td>0.000000</td>\n",
       "    </tr>\n",
       "    <tr>\n",
       "      <th>25%</th>\n",
       "      <td>1681.500000</td>\n",
       "    </tr>\n",
       "    <tr>\n",
       "      <th>50%</th>\n",
       "      <td>5578.500000</td>\n",
       "    </tr>\n",
       "    <tr>\n",
       "      <th>75%</th>\n",
       "      <td>8590.500000</td>\n",
       "    </tr>\n",
       "    <tr>\n",
       "      <th>max</th>\n",
       "      <td>38414.000000</td>\n",
       "    </tr>\n",
       "  </tbody>\n",
       "</table>\n",
       "</div>"
      ],
      "text/plain": [
       "        token_count\n",
       "count    672.000000\n",
       "mean    6331.989583\n",
       "std     5564.159005\n",
       "min        0.000000\n",
       "25%     1681.500000\n",
       "50%     5578.500000\n",
       "75%     8590.500000\n",
       "max    38414.000000"
      ]
     },
     "execution_count": 8,
     "metadata": {},
     "output_type": "execute_result"
    }
   ],
   "source": [
    "latlib_df.describe()"
   ]
  },
  {
   "cell_type": "code",
   "execution_count": 9,
   "metadata": {},
   "outputs": [
    {
     "name": "stdout",
     "output_type": "stream",
     "text": [
      "<class 'pandas.core.frame.DataFrame'>\n",
      "RangeIndex: 672 entries, 0 to 671\n",
      "Data columns (total 5 columns):\n",
      " #   Column       Non-Null Count  Dtype \n",
      "---  ------       --------------  ----- \n",
      " 0   title        672 non-null    object\n",
      " 1   text         672 non-null    object\n",
      " 2   text_raw     672 non-null    object\n",
      " 3   tokens       672 non-null    object\n",
      " 4   token_count  672 non-null    int64 \n",
      "dtypes: int64(1), object(4)\n",
      "memory usage: 26.4+ KB\n"
     ]
    }
   ],
   "source": [
    "latlib_df.info()\n",
    "#good! no null objects"
   ]
  },
  {
   "cell_type": "markdown",
   "metadata": {},
   "source": [
    "let's work on seperating works by style (prose or poetry):"
   ]
  },
  {
   "cell_type": "code",
   "execution_count": 10,
   "metadata": {},
   "outputs": [],
   "source": [
    "#use Aeneid (P. VERGILI MARONIS AENEIDOS) + Ovid (P. OVIDI NASONIS) for verse examples"
   ]
  },
  {
   "cell_type": "code",
   "execution_count": 11,
   "metadata": {},
   "outputs": [],
   "source": [
    "metamorphoses_ovid = latlib_df[latlib_df['text'].str.contains('P. OVIDI NASONIS METAMORPHOSEON')]"
   ]
  },
  {
   "cell_type": "code",
   "execution_count": 5,
   "metadata": {},
   "outputs": [],
   "source": [
    "aeneid = latlib_df[latlib_df['text'].str.contains('P. VERGILI MARONIS AENEIDOS')]"
   ]
  },
  {
   "cell_type": "code",
   "execution_count": 13,
   "metadata": {},
   "outputs": [
    {
     "data": {
      "text/html": [
       "<div>\n",
       "<style scoped>\n",
       "    .dataframe tbody tr th:only-of-type {\n",
       "        vertical-align: middle;\n",
       "    }\n",
       "\n",
       "    .dataframe tbody tr th {\n",
       "        vertical-align: top;\n",
       "    }\n",
       "\n",
       "    .dataframe thead th {\n",
       "        text-align: right;\n",
       "    }\n",
       "</style>\n",
       "<table border=\"1\" class=\"dataframe\">\n",
       "  <thead>\n",
       "    <tr style=\"text-align: right;\">\n",
       "      <th></th>\n",
       "      <th>title</th>\n",
       "      <th>text</th>\n",
       "      <th>text_raw</th>\n",
       "      <th>tokens</th>\n",
       "      <th>token_count</th>\n",
       "    </tr>\n",
       "  </thead>\n",
       "  <tbody>\n",
       "    <tr>\n",
       "      <th>123</th>\n",
       "      <td>P. VERGILI MARONIS AENEIDOS LIBER DVODECIMVS</td>\n",
       "      <td>P. VERGILI MARONIS AENEIDOS LIBER DVODECIMVS  ...</td>\n",
       "      <td>[P. VERGILI MARONIS AENEIDOS LIBER DVODECIMVS\\...</td>\n",
       "      <td>[P., VERGILI, MARONIS, AENEIDOS, LIBER, DVODEC...</td>\n",
       "      <td>7262</td>\n",
       "    </tr>\n",
       "    <tr>\n",
       "      <th>124</th>\n",
       "      <td>P. VERGILI MARONIS AENEIDOS LIBER VNDECIMVS</td>\n",
       "      <td>P. VERGILI MARONIS AENEIDOS LIBER VNDECIMVS  O...</td>\n",
       "      <td>[P. VERGILI MARONIS AENEIDOS LIBER VNDECIMVS\\n...</td>\n",
       "      <td>[P., VERGILI, MARONIS, AENEIDOS, LIBER, VNDECI...</td>\n",
       "      <td>6884</td>\n",
       "    </tr>\n",
       "    <tr>\n",
       "      <th>125</th>\n",
       "      <td>P. VERGILI MARONIS AENEIDOS LIBER OCTAVVS</td>\n",
       "      <td>P. VERGILI MARONIS AENEIDOS LIBER OCTAVVS  Ut ...</td>\n",
       "      <td>[P. VERGILI MARONIS AENEIDOS LIBER OCTAVVS\\n\\n...</td>\n",
       "      <td>[P., VERGILI, MARONIS, AENEIDOS, LIBER, OCTAVV...</td>\n",
       "      <td>5420</td>\n",
       "    </tr>\n",
       "    <tr>\n",
       "      <th>126</th>\n",
       "      <td>Aeneid IV</td>\n",
       "      <td>P. VERGILI MARONIS AENEIDOS LIBER QVARTVS  At ...</td>\n",
       "      <td>[P. VERGILI MARONIS AENEIDOS LIBER QVARTVS\\n, ...</td>\n",
       "      <td>[P., VERGILI, MARONIS, AENEIDOS, LIBER, QVARTV...</td>\n",
       "      <td>5408</td>\n",
       "    </tr>\n",
       "    <tr>\n",
       "      <th>127</th>\n",
       "      <td>P. VERGILI MARONIS AENEIDOS LIBER DECIMVS</td>\n",
       "      <td>P. VERGILI MARONIS AENEIDOS LIBER DECIMVS  Pan...</td>\n",
       "      <td>[P. VERGILI MARONIS AENEIDOS LIBER DECIMVS\\n, ...</td>\n",
       "      <td>[P., VERGILI, MARONIS, AENEIDOS, LIBER, DECIMV...</td>\n",
       "      <td>6985</td>\n",
       "    </tr>\n",
       "    <tr>\n",
       "      <th>128</th>\n",
       "      <td>P. VERGILI MARONIS AENEIDOS LIBER SEPTIMVS</td>\n",
       "      <td>P. VERGILI MARONIS AENEIDOS LIBER SEPTIMVS  Tu...</td>\n",
       "      <td>[P. VERGILI MARONIS AENEIDOS LIBER SEPTIMVS\\n,...</td>\n",
       "      <td>[P., VERGILI, MARONIS, AENEIDOS, LIBER, SEPTIM...</td>\n",
       "      <td>6058</td>\n",
       "    </tr>\n",
       "    <tr>\n",
       "      <th>129</th>\n",
       "      <td>P. VERGILI MARONIS AENEIDOS LIBER NONVS</td>\n",
       "      <td>P. VERGILI MARONIS AENEIDOS LIBER NONVS  Atque...</td>\n",
       "      <td>[P. VERGILI MARONIS AENEIDOS LIBER NONVS\\n, \\n...</td>\n",
       "      <td>[P., VERGILI, MARONIS, AENEIDOS, LIBER, NONVS,...</td>\n",
       "      <td>6222</td>\n",
       "    </tr>\n",
       "    <tr>\n",
       "      <th>130</th>\n",
       "      <td>P. VERGILI MARONIS AENEIDOS LIBER TERTIVS</td>\n",
       "      <td>P. VERGILI MARONIS AENEIDOS LIBER TERTIVS  Pos...</td>\n",
       "      <td>[P. VERGILI MARONIS AENEIDOS LIBER TERTIVS\\n, ...</td>\n",
       "      <td>[P., VERGILI, MARONIS, AENEIDOS, LIBER, TERTIV...</td>\n",
       "      <td>5318</td>\n",
       "    </tr>\n",
       "    <tr>\n",
       "      <th>131</th>\n",
       "      <td>P. VERGILI MARONIS AENEIDOS LIBER SECVNDVS</td>\n",
       "      <td>P. VERGILI MARONIS AENEIDOS LIBER SECVNDVS  Co...</td>\n",
       "      <td>[P. VERGILI MARONIS AENEIDOS LIBER SECVNDVS\\n,...</td>\n",
       "      <td>[P., VERGILI, MARONIS, AENEIDOS, LIBER, SECVND...</td>\n",
       "      <td>6069</td>\n",
       "    </tr>\n",
       "    <tr>\n",
       "      <th>132</th>\n",
       "      <td>P. VERGILI MARONIS AENEIDOS LIBER SEXTVS</td>\n",
       "      <td>P. VERGILI MARONIS AENEIDOS LIBER SEXTVS  Sic ...</td>\n",
       "      <td>[P. VERGILI MARONIS AENEIDOS LIBER SEXTVS\\n, \\...</td>\n",
       "      <td>[P., VERGILI, MARONIS, AENEIDOS, LIBER, SEXTVS...</td>\n",
       "      <td>6944</td>\n",
       "    </tr>\n",
       "    <tr>\n",
       "      <th>133</th>\n",
       "      <td>Vergil: Aeneid I</td>\n",
       "      <td>P. VERGILI MARONIS AENEIDOS LIBER PRIMVS  Arma...</td>\n",
       "      <td>[P. VERGILI MARONIS AENEIDOS LIBER PRIMVS, \\n\\...</td>\n",
       "      <td>[P., VERGILI, MARONIS, AENEIDOS, LIBER, PRIMVS...</td>\n",
       "      <td>5963</td>\n",
       "    </tr>\n",
       "    <tr>\n",
       "      <th>137</th>\n",
       "      <td>P. VERGILI MARONIS AENEIDOS LIBER QVINTVS</td>\n",
       "      <td>P. VERGILI MARONIS AENEIDOS LIBER QVINTVS  Int...</td>\n",
       "      <td>[P. VERGILI MARONIS AENEIDOS LIBER QVINTVS\\n, ...</td>\n",
       "      <td>[P., VERGILI, MARONIS, AENEIDOS, LIBER, QVINTV...</td>\n",
       "      <td>6486</td>\n",
       "    </tr>\n",
       "  </tbody>\n",
       "</table>\n",
       "</div>"
      ],
      "text/plain": [
       "                                            title  \\\n",
       "123  P. VERGILI MARONIS AENEIDOS LIBER DVODECIMVS   \n",
       "124   P. VERGILI MARONIS AENEIDOS LIBER VNDECIMVS   \n",
       "125     P. VERGILI MARONIS AENEIDOS LIBER OCTAVVS   \n",
       "126                                     Aeneid IV   \n",
       "127     P. VERGILI MARONIS AENEIDOS LIBER DECIMVS   \n",
       "128    P. VERGILI MARONIS AENEIDOS LIBER SEPTIMVS   \n",
       "129       P. VERGILI MARONIS AENEIDOS LIBER NONVS   \n",
       "130     P. VERGILI MARONIS AENEIDOS LIBER TERTIVS   \n",
       "131    P. VERGILI MARONIS AENEIDOS LIBER SECVNDVS   \n",
       "132      P. VERGILI MARONIS AENEIDOS LIBER SEXTVS   \n",
       "133                              Vergil: Aeneid I   \n",
       "137     P. VERGILI MARONIS AENEIDOS LIBER QVINTVS   \n",
       "\n",
       "                                                  text  \\\n",
       "123  P. VERGILI MARONIS AENEIDOS LIBER DVODECIMVS  ...   \n",
       "124  P. VERGILI MARONIS AENEIDOS LIBER VNDECIMVS  O...   \n",
       "125  P. VERGILI MARONIS AENEIDOS LIBER OCTAVVS  Ut ...   \n",
       "126  P. VERGILI MARONIS AENEIDOS LIBER QVARTVS  At ...   \n",
       "127  P. VERGILI MARONIS AENEIDOS LIBER DECIMVS  Pan...   \n",
       "128  P. VERGILI MARONIS AENEIDOS LIBER SEPTIMVS  Tu...   \n",
       "129  P. VERGILI MARONIS AENEIDOS LIBER NONVS  Atque...   \n",
       "130  P. VERGILI MARONIS AENEIDOS LIBER TERTIVS  Pos...   \n",
       "131  P. VERGILI MARONIS AENEIDOS LIBER SECVNDVS  Co...   \n",
       "132  P. VERGILI MARONIS AENEIDOS LIBER SEXTVS  Sic ...   \n",
       "133  P. VERGILI MARONIS AENEIDOS LIBER PRIMVS  Arma...   \n",
       "137  P. VERGILI MARONIS AENEIDOS LIBER QVINTVS  Int...   \n",
       "\n",
       "                                              text_raw  \\\n",
       "123  [P. VERGILI MARONIS AENEIDOS LIBER DVODECIMVS\\...   \n",
       "124  [P. VERGILI MARONIS AENEIDOS LIBER VNDECIMVS\\n...   \n",
       "125  [P. VERGILI MARONIS AENEIDOS LIBER OCTAVVS\\n\\n...   \n",
       "126  [P. VERGILI MARONIS AENEIDOS LIBER QVARTVS\\n, ...   \n",
       "127  [P. VERGILI MARONIS AENEIDOS LIBER DECIMVS\\n, ...   \n",
       "128  [P. VERGILI MARONIS AENEIDOS LIBER SEPTIMVS\\n,...   \n",
       "129  [P. VERGILI MARONIS AENEIDOS LIBER NONVS\\n, \\n...   \n",
       "130  [P. VERGILI MARONIS AENEIDOS LIBER TERTIVS\\n, ...   \n",
       "131  [P. VERGILI MARONIS AENEIDOS LIBER SECVNDVS\\n,...   \n",
       "132  [P. VERGILI MARONIS AENEIDOS LIBER SEXTVS\\n, \\...   \n",
       "133  [P. VERGILI MARONIS AENEIDOS LIBER PRIMVS, \\n\\...   \n",
       "137  [P. VERGILI MARONIS AENEIDOS LIBER QVINTVS\\n, ...   \n",
       "\n",
       "                                                tokens  token_count  \n",
       "123  [P., VERGILI, MARONIS, AENEIDOS, LIBER, DVODEC...         7262  \n",
       "124  [P., VERGILI, MARONIS, AENEIDOS, LIBER, VNDECI...         6884  \n",
       "125  [P., VERGILI, MARONIS, AENEIDOS, LIBER, OCTAVV...         5420  \n",
       "126  [P., VERGILI, MARONIS, AENEIDOS, LIBER, QVARTV...         5408  \n",
       "127  [P., VERGILI, MARONIS, AENEIDOS, LIBER, DECIMV...         6985  \n",
       "128  [P., VERGILI, MARONIS, AENEIDOS, LIBER, SEPTIM...         6058  \n",
       "129  [P., VERGILI, MARONIS, AENEIDOS, LIBER, NONVS,...         6222  \n",
       "130  [P., VERGILI, MARONIS, AENEIDOS, LIBER, TERTIV...         5318  \n",
       "131  [P., VERGILI, MARONIS, AENEIDOS, LIBER, SECVND...         6069  \n",
       "132  [P., VERGILI, MARONIS, AENEIDOS, LIBER, SEXTVS...         6944  \n",
       "133  [P., VERGILI, MARONIS, AENEIDOS, LIBER, PRIMVS...         5963  \n",
       "137  [P., VERGILI, MARONIS, AENEIDOS, LIBER, QVINTV...         6486  "
      ]
     },
     "execution_count": 13,
     "metadata": {},
     "output_type": "execute_result"
    }
   ],
   "source": [
    "aeneid"
   ]
  },
  {
   "cell_type": "code",
   "execution_count": 7,
   "metadata": {},
   "outputs": [],
   "source": [
    "#[x for x in aeneid.text_raw]\n",
    "#I want raw text for this because there are line divisions--helpful for distinguishing verse from prose"
   ]
  },
  {
   "cell_type": "code",
   "execution_count": 15,
   "metadata": {},
   "outputs": [
    {
     "data": {
      "text/plain": [
       "[964, 924, 741, 715, 920, 833, 825, 727, 811, 905, 767, 880]"
      ]
     },
     "execution_count": 15,
     "metadata": {},
     "output_type": "execute_result"
    }
   ],
   "source": [
    "[len(x) for x in aeneid.text_raw]\n",
    "#this gets me how many lines per-work there are (good metric for differentiating epic?)"
   ]
  },
  {
   "cell_type": "code",
   "execution_count": 16,
   "metadata": {},
   "outputs": [
    {
     "data": {
      "text/plain": [
       "44"
      ]
     },
     "execution_count": 16,
     "metadata": {},
     "output_type": "execute_result"
    }
   ],
   "source": [
    "len([line for line in aeneid.text_raw][0][3])\n",
    "#basically I want iterate like this for each line and find the average length of each line overall"
   ]
  },
  {
   "cell_type": "code",
   "execution_count": 17,
   "metadata": {},
   "outputs": [
    {
     "name": "stdout",
     "output_type": "stream",
     "text": [
      "10012\n"
     ]
    }
   ],
   "source": [
    "count = 0\n",
    "for i in aeneid.text_raw:\n",
    "    count += len(i)\n",
    "print(count) #this is how many lines are in the aeneid in total"
   ]
  },
  {
   "cell_type": "code",
   "execution_count": 18,
   "metadata": {},
   "outputs": [],
   "source": [
    "def MaxLineLength(l):\n",
    "    return(len(max(l, key=len)))"
   ]
  },
  {
   "cell_type": "code",
   "execution_count": 19,
   "metadata": {},
   "outputs": [
    {
     "data": {
      "text/plain": [
       "87"
      ]
     },
     "execution_count": 19,
     "metadata": {},
     "output_type": "execute_result"
    }
   ],
   "source": [
    "max(aeneid.text_raw.map(MaxLineLength))\n",
    "#so the longest line is 87 characters long, that's my threshold for a verse line (depending on Ovid I guess)"
   ]
  },
  {
   "cell_type": "code",
   "execution_count": 20,
   "metadata": {},
   "outputs": [
    {
     "data": {
      "text/plain": [
       "81"
      ]
     },
     "execution_count": 20,
     "metadata": {},
     "output_type": "execute_result"
    }
   ],
   "source": [
    "max(metamorphoses_ovid.text_raw.map(MaxLineLength)) #yep, 87 it is!"
   ]
  },
  {
   "cell_type": "markdown",
   "metadata": {},
   "source": [
    "now to actually use that number to quantify prose v. verse!"
   ]
  },
  {
   "cell_type": "code",
   "execution_count": 21,
   "metadata": {},
   "outputs": [],
   "source": [
    "latlib_df['max_line_length'] = latlib_df.text_raw.map(MaxLineLength)"
   ]
  },
  {
   "cell_type": "code",
   "execution_count": 22,
   "metadata": {},
   "outputs": [
    {
     "data": {
      "text/html": [
       "<div>\n",
       "<style scoped>\n",
       "    .dataframe tbody tr th:only-of-type {\n",
       "        vertical-align: middle;\n",
       "    }\n",
       "\n",
       "    .dataframe tbody tr th {\n",
       "        vertical-align: top;\n",
       "    }\n",
       "\n",
       "    .dataframe thead th {\n",
       "        text-align: right;\n",
       "    }\n",
       "</style>\n",
       "<table border=\"1\" class=\"dataframe\">\n",
       "  <thead>\n",
       "    <tr style=\"text-align: right;\">\n",
       "      <th></th>\n",
       "      <th>title</th>\n",
       "      <th>text</th>\n",
       "      <th>text_raw</th>\n",
       "      <th>tokens</th>\n",
       "      <th>token_count</th>\n",
       "      <th>max_line_length</th>\n",
       "    </tr>\n",
       "  </thead>\n",
       "  <tbody>\n",
       "    <tr>\n",
       "      <th>0</th>\n",
       "      <td>Ammianus: Liber XXXI</td>\n",
       "      <td>AMMIANI MARCELLINI HISTORIAE LIBER XXXI       ...</td>\n",
       "      <td>[AMMIANI MARCELLINI HISTORIAE LIBER XXXI\\n, \\n...</td>\n",
       "      <td>[AMMIANI, MARCELLINI, HISTORIAE, LIBER, XXXI, ...</td>\n",
       "      <td>11030</td>\n",
       "      <td>774</td>\n",
       "    </tr>\n",
       "    <tr>\n",
       "      <th>1</th>\n",
       "      <td>Valerius Maximus I</td>\n",
       "      <td>VALERI MAXIMI FACTORVM ET DICTORVM MEMORABILIV...</td>\n",
       "      <td>[VALERI MAXIMI FACTORVM ET DICTORVM MEMORABILI...</td>\n",
       "      <td>[VALERI, MAXIMI, FACTORVM, ET, DICTORVM, MEMOR...</td>\n",
       "      <td>10524</td>\n",
       "      <td>2080</td>\n",
       "    </tr>\n",
       "    <tr>\n",
       "      <th>2</th>\n",
       "      <td>Valerius Maximus VIII</td>\n",
       "      <td>VALERI MAXIMI FACTORVM ET DICTORVM MEMORABILIV...</td>\n",
       "      <td>[VALERI MAXIMI FACTORVM ET DICTORVM MEMORABILI...</td>\n",
       "      <td>[VALERI, MAXIMI, FACTORVM, ET, DICTORVM, MEMOR...</td>\n",
       "      <td>10337</td>\n",
       "      <td>1308</td>\n",
       "    </tr>\n",
       "    <tr>\n",
       "      <th>3</th>\n",
       "      <td>Valerius Maximus IV</td>\n",
       "      <td>VALERI MAXIMI FACTORVM ET DICTORVM MEMORABILIV...</td>\n",
       "      <td>[VALERI MAXIMI FACTORVM ET DICTORVM MEMORABILI...</td>\n",
       "      <td>[VALERI, MAXIMI, FACTORVM, ET, DICTORVM, MEMOR...</td>\n",
       "      <td>10852</td>\n",
       "      <td>2034</td>\n",
       "    </tr>\n",
       "    <tr>\n",
       "      <th>4</th>\n",
       "      <td>Valerius Maximus VII</td>\n",
       "      <td>VALERI MAXIMI FACTORVM ET DICTORVM MEMORABILIV...</td>\n",
       "      <td>[VALERI MAXIMI FACTORVM ET DICTORVM MEMORABILI...</td>\n",
       "      <td>[VALERI, MAXIMI, FACTORVM, ET, DICTORVM, MEMOR...</td>\n",
       "      <td>8918</td>\n",
       "      <td>2141</td>\n",
       "    </tr>\n",
       "  </tbody>\n",
       "</table>\n",
       "</div>"
      ],
      "text/plain": [
       "                   title                                               text  \\\n",
       "0   Ammianus: Liber XXXI  AMMIANI MARCELLINI HISTORIAE LIBER XXXI       ...   \n",
       "1     Valerius Maximus I  VALERI MAXIMI FACTORVM ET DICTORVM MEMORABILIV...   \n",
       "2  Valerius Maximus VIII  VALERI MAXIMI FACTORVM ET DICTORVM MEMORABILIV...   \n",
       "3    Valerius Maximus IV  VALERI MAXIMI FACTORVM ET DICTORVM MEMORABILIV...   \n",
       "4   Valerius Maximus VII  VALERI MAXIMI FACTORVM ET DICTORVM MEMORABILIV...   \n",
       "\n",
       "                                            text_raw  \\\n",
       "0  [AMMIANI MARCELLINI HISTORIAE LIBER XXXI\\n, \\n...   \n",
       "1  [VALERI MAXIMI FACTORVM ET DICTORVM MEMORABILI...   \n",
       "2  [VALERI MAXIMI FACTORVM ET DICTORVM MEMORABILI...   \n",
       "3  [VALERI MAXIMI FACTORVM ET DICTORVM MEMORABILI...   \n",
       "4  [VALERI MAXIMI FACTORVM ET DICTORVM MEMORABILI...   \n",
       "\n",
       "                                              tokens  token_count  \\\n",
       "0  [AMMIANI, MARCELLINI, HISTORIAE, LIBER, XXXI, ...        11030   \n",
       "1  [VALERI, MAXIMI, FACTORVM, ET, DICTORVM, MEMOR...        10524   \n",
       "2  [VALERI, MAXIMI, FACTORVM, ET, DICTORVM, MEMOR...        10337   \n",
       "3  [VALERI, MAXIMI, FACTORVM, ET, DICTORVM, MEMOR...        10852   \n",
       "4  [VALERI, MAXIMI, FACTORVM, ET, DICTORVM, MEMOR...         8918   \n",
       "\n",
       "   max_line_length  \n",
       "0              774  \n",
       "1             2080  \n",
       "2             1308  \n",
       "3             2034  \n",
       "4             2141  "
      ]
     },
     "execution_count": 22,
     "metadata": {},
     "output_type": "execute_result"
    }
   ],
   "source": [
    "latlib_df.head(5)"
   ]
  },
  {
   "cell_type": "code",
   "execution_count": 23,
   "metadata": {},
   "outputs": [],
   "source": [
    "latlib_df.drop(latlib_df.index[latlib_df['token_count']<=10], inplace=True)\n"
   ]
  },
  {
   "cell_type": "code",
   "execution_count": 24,
   "metadata": {},
   "outputs": [],
   "source": [
    "def Poems(l):\n",
    "    if l <= 87:\n",
    "        return('verse')\n",
    "    else:\n",
    "        return('prose')\n"
   ]
  },
  {
   "cell_type": "code",
   "execution_count": 25,
   "metadata": {},
   "outputs": [],
   "source": [
    "latlib_df['style'] = latlib_df.max_line_length.map(Poems)"
   ]
  },
  {
   "cell_type": "markdown",
   "metadata": {},
   "source": [
    "## below I'm going to add the aspects of ne_df to latlib_df for easier analysis:"
   ]
  },
  {
   "cell_type": "code",
   "execution_count": 26,
   "metadata": {},
   "outputs": [],
   "source": [
    "ne_df['name'] = [w[:-2] for w in ne_df.name]"
   ]
  },
  {
   "cell_type": "code",
   "execution_count": 27,
   "metadata": {},
   "outputs": [],
   "source": [
    "def MatchName(l):\n",
    "    for name in ne_df.name:\n",
    "        last_word = name.split()[len(name.split()) - 1]\n",
    "        if last_word in l:\n",
    "            return name\n",
    "            return \"None\""
   ]
  },
  {
   "cell_type": "code",
   "execution_count": 28,
   "metadata": {},
   "outputs": [],
   "source": [
    "latlib_df['author'] = latlib_df.text.map(MatchName)"
   ]
  },
  {
   "cell_type": "markdown",
   "metadata": {},
   "source": [
    "to put the eras in the main df it's not going to be elegant, but I want to move on with my analysis so I'm going to merge the info into a new column for an easier method:"
   ]
  },
  {
   "cell_type": "code",
   "execution_count": 29,
   "metadata": {},
   "outputs": [],
   "source": [
    "ne_df['merged'] = ne_df['era']+ne_df['name']"
   ]
  },
  {
   "cell_type": "code",
   "execution_count": 30,
   "metadata": {},
   "outputs": [],
   "source": [
    "def MatchEra(l):\n",
    "    for x in ne_df.merged:\n",
    "        last_word = x.split()[len(x.split()) - 1]\n",
    "        if last_word in l:\n",
    "            clean = re.compile(r'\\)\\w* \\w* \\w*|\\)\\w* \\w*|\\)\\w+\\. \\w* \\w*|\\)\\w+|\\(')\n",
    "            return(clean.sub(' ', x))\n",
    "        "
   ]
  },
  {
   "cell_type": "code",
   "execution_count": 31,
   "metadata": {},
   "outputs": [],
   "source": [
    "latlib_df['era'] = latlib_df.text.map(MatchEra)"
   ]
  },
  {
   "cell_type": "code",
   "execution_count": 32,
   "metadata": {},
   "outputs": [],
   "source": [
    "latlib_df = latlib_df.fillna('none') #just in case, I think there's some Suetonius that's wonky"
   ]
  },
  {
   "cell_type": "markdown",
   "metadata": {},
   "source": [
    "That wasn't very pretty, but it did the trick and now the df itself looks nice!"
   ]
  },
  {
   "cell_type": "code",
   "execution_count": 35,
   "metadata": {},
   "outputs": [
    {
     "data": {
      "text/html": [
       "<div>\n",
       "<style scoped>\n",
       "    .dataframe tbody tr th:only-of-type {\n",
       "        vertical-align: middle;\n",
       "    }\n",
       "\n",
       "    .dataframe tbody tr th {\n",
       "        vertical-align: top;\n",
       "    }\n",
       "\n",
       "    .dataframe thead th {\n",
       "        text-align: right;\n",
       "    }\n",
       "</style>\n",
       "<table border=\"1\" class=\"dataframe\">\n",
       "  <thead>\n",
       "    <tr style=\"text-align: right;\">\n",
       "      <th></th>\n",
       "      <th>title</th>\n",
       "      <th>text</th>\n",
       "      <th>text_raw</th>\n",
       "      <th>tokens</th>\n",
       "      <th>token_count</th>\n",
       "      <th>max_line_length</th>\n",
       "      <th>style</th>\n",
       "      <th>author</th>\n",
       "      <th>era</th>\n",
       "    </tr>\n",
       "  </thead>\n",
       "  <tbody>\n",
       "    <tr>\n",
       "      <th>610</th>\n",
       "      <td>Cicero: Topica</td>\n",
       "      <td>M. TVLLI CICERONIS TOPICA  [1] Maiores nos res...</td>\n",
       "      <td>[M. TVLLI CICERONIS TOPICA\\n, \\n [1] Maiores n...</td>\n",
       "      <td>[M., TVLLI, CICERONIS, TOPICA, [, 1, ], Maiore...</td>\n",
       "      <td>8397</td>\n",
       "      <td>2068</td>\n",
       "      <td>prose</td>\n",
       "      <td>M. TVLLIVS CICE</td>\n",
       "      <td>106 – 43 B.C.</td>\n",
       "    </tr>\n",
       "    <tr>\n",
       "      <th>125</th>\n",
       "      <td>P. VERGILI MARONIS AENEIDOS LIBER OCTAVVS</td>\n",
       "      <td>P. VERGILI MARONIS AENEIDOS LIBER OCTAVVS  Ut ...</td>\n",
       "      <td>[P. VERGILI MARONIS AENEIDOS LIBER OCTAVVS\\n\\n...</td>\n",
       "      <td>[P., VERGILI, MARONIS, AENEIDOS, LIBER, OCTAVV...</td>\n",
       "      <td>5420</td>\n",
       "      <td>67</td>\n",
       "      <td>verse</td>\n",
       "      <td>P. VERGILIVS MA</td>\n",
       "      <td>70 – 19 B.C.</td>\n",
       "    </tr>\n",
       "    <tr>\n",
       "      <th>88</th>\n",
       "      <td>Terence: Hecyra</td>\n",
       "      <td>P. TERENTI AFRI HECYRA                        ...</td>\n",
       "      <td>[P. TERENTI AFRI HECYRA\\n, \\n, \\n, \\n, \\n, \\n,...</td>\n",
       "      <td>[P., TERENTI, AFRI, HECYRA, Vxorem, ducit, Pam...</td>\n",
       "      <td>9312</td>\n",
       "      <td>78</td>\n",
       "      <td>verse</td>\n",
       "      <td>P. TERENTIVS AF</td>\n",
       "      <td>195/185 – c. 159 B.C.</td>\n",
       "    </tr>\n",
       "    <tr>\n",
       "      <th>620</th>\n",
       "      <td>Cicero: In Pisonem</td>\n",
       "      <td>M. TVLLI CICERONIS IN L. CALPVRNIVM PISONEM OR...</td>\n",
       "      <td>[M. TVLLI CICERONIS IN L. CALPVRNIVM PISONEM O...</td>\n",
       "      <td>[M., TVLLI, CICERONIS, IN, L., CALPVRNIVM, PIS...</td>\n",
       "      <td>13184</td>\n",
       "      <td>2415</td>\n",
       "      <td>prose</td>\n",
       "      <td>TITVS LVCRETIVS CAR</td>\n",
       "      <td>c. 94 – c. 49 B.C.</td>\n",
       "    </tr>\n",
       "    <tr>\n",
       "      <th>622</th>\n",
       "      <td>Cicero: De Provinciis Consularibus</td>\n",
       "      <td>M. TVLLI CICERONIS DE PROVINCIIS CONSVLARIBUS ...</td>\n",
       "      <td>[M. TVLLI CICERONIS DE PROVINCIIS CONSVLARIBUS...</td>\n",
       "      <td>[M., TVLLI, CICERONIS, DE, PROVINCIIS, CONSVLA...</td>\n",
       "      <td>6244</td>\n",
       "      <td>1163</td>\n",
       "      <td>prose</td>\n",
       "      <td>M. TVLLIVS CICE</td>\n",
       "      <td>106 – 43 B.C.</td>\n",
       "    </tr>\n",
       "  </tbody>\n",
       "</table>\n",
       "</div>"
      ],
      "text/plain": [
       "                                         title  \\\n",
       "610                             Cicero: Topica   \n",
       "125  P. VERGILI MARONIS AENEIDOS LIBER OCTAVVS   \n",
       "88                             Terence: Hecyra   \n",
       "620                         Cicero: In Pisonem   \n",
       "622         Cicero: De Provinciis Consularibus   \n",
       "\n",
       "                                                  text  \\\n",
       "610  M. TVLLI CICERONIS TOPICA  [1] Maiores nos res...   \n",
       "125  P. VERGILI MARONIS AENEIDOS LIBER OCTAVVS  Ut ...   \n",
       "88   P. TERENTI AFRI HECYRA                        ...   \n",
       "620  M. TVLLI CICERONIS IN L. CALPVRNIVM PISONEM OR...   \n",
       "622  M. TVLLI CICERONIS DE PROVINCIIS CONSVLARIBUS ...   \n",
       "\n",
       "                                              text_raw  \\\n",
       "610  [M. TVLLI CICERONIS TOPICA\\n, \\n [1] Maiores n...   \n",
       "125  [P. VERGILI MARONIS AENEIDOS LIBER OCTAVVS\\n\\n...   \n",
       "88   [P. TERENTI AFRI HECYRA\\n, \\n, \\n, \\n, \\n, \\n,...   \n",
       "620  [M. TVLLI CICERONIS IN L. CALPVRNIVM PISONEM O...   \n",
       "622  [M. TVLLI CICERONIS DE PROVINCIIS CONSVLARIBUS...   \n",
       "\n",
       "                                                tokens  token_count  \\\n",
       "610  [M., TVLLI, CICERONIS, TOPICA, [, 1, ], Maiore...         8397   \n",
       "125  [P., VERGILI, MARONIS, AENEIDOS, LIBER, OCTAVV...         5420   \n",
       "88   [P., TERENTI, AFRI, HECYRA, Vxorem, ducit, Pam...         9312   \n",
       "620  [M., TVLLI, CICERONIS, IN, L., CALPVRNIVM, PIS...        13184   \n",
       "622  [M., TVLLI, CICERONIS, DE, PROVINCIIS, CONSVLA...         6244   \n",
       "\n",
       "     max_line_length  style               author                      era  \n",
       "610             2068  prose      M. TVLLIVS CICE           106 – 43 B.C.   \n",
       "125               67  verse      P. VERGILIVS MA            70 – 19 B.C.   \n",
       "88                78  verse      P. TERENTIVS AF   195/185 – c. 159 B.C.   \n",
       "620             2415  prose  TITVS LVCRETIVS CAR      c. 94 – c. 49 B.C.   \n",
       "622             1163  prose      M. TVLLIVS CICE           106 – 43 B.C.   "
      ]
     },
     "execution_count": 35,
     "metadata": {},
     "output_type": "execute_result"
    }
   ],
   "source": [
    "latlib_df.sample(5)"
   ]
  },
  {
   "cell_type": "markdown",
   "metadata": {},
   "source": [
    "## sword word analysis:"
   ]
  },
  {
   "cell_type": "code",
   "execution_count": 36,
   "metadata": {},
   "outputs": [],
   "source": [
    "latlib_df['term'] = ''"
   ]
  },
  {
   "cell_type": "code",
   "execution_count": 37,
   "metadata": {},
   "outputs": [],
   "source": [
    "#gladius:\n",
    "gladius = latlib_df[(latlib_df.text.str.contains(pat = 'gladius', case=False)) | (latlib_df.text.str.contains(pat = 'gladii', case=False)) | (latlib_df.text.str.contains(pat = 'gladi', case=False)) | (latlib_df.text.str.contains(pat = 'gladio', case=False)) | (latlib_df.text.str.contains(pat = 'gladium', case=False)) | (latlib_df.text.str.contains(pat = 'gladie', case=False)) | (latlib_df.text.str.contains(pat = 'gladiorum', case=False)) | (latlib_df.text.str.contains(pat = 'gladiis', case=False)) | (latlib_df.text.str.contains(pat = 'gladios', case=False))]"
   ]
  },
  {
   "cell_type": "code",
   "execution_count": 38,
   "metadata": {},
   "outputs": [],
   "source": [
    "#ferrum:\n",
    "ferrum = latlib_df[(latlib_df.text.str.contains(pat = 'ferrum', case=False)) | (latlib_df.text.str.contains(pat = 'ferri', case=False)) | (latlib_df.text.str.contains(pat = 'ferro', case=False)) | (latlib_df.text.str.contains(pat = 'ferra', case=False)) | (latlib_df.text.str.contains(pat = 'ferrorum', case=False)) | (latlib_df.text.str.contains(pat = 'ferris', case=False))]"
   ]
  },
  {
   "cell_type": "code",
   "execution_count": 39,
   "metadata": {},
   "outputs": [],
   "source": [
    "#mucro:\n",
    "mucro = latlib_df[(latlib_df.text.str.contains(pat = 'mucro', case=False)) | (latlib_df.text.str.contains(pat = 'mucronis', case=False)) | (latlib_df.text.str.contains(pat = 'mucroni', case=False)) | (latlib_df.text.str.contains(pat = 'mucronem', case=False)) | (latlib_df.text.str.contains(pat = 'mucrone', case=False)) | (latlib_df.text.str.contains(pat = 'mucrones', case=False)) | (latlib_df.text.str.contains(pat = 'mucronum', case=False)) | (latlib_df.text.str.contains(pat = 'mucronibus', case=False))]"
   ]
  },
  {
   "cell_type": "code",
   "execution_count": 40,
   "metadata": {},
   "outputs": [],
   "source": [
    "#ensis:\n",
    "ensis = latlib_df[(latlib_df.text.str.contains(pat = 'ensis', case=False)) | (latlib_df.text.str.contains(pat = 'ensi', case=False)) | (latlib_df.text.str.contains(pat = 'ensem', case=False)) | (latlib_df.text.str.contains(pat = 'ense', case=False)) | (latlib_df.text.str.contains(pat = 'enses', case=False)) | (latlib_df.text.str.contains(pat = 'ensium', case=False)) | (latlib_df.text.str.contains(pat = 'ensibus', case=False))]"
   ]
  },
  {
   "cell_type": "code",
   "execution_count": 41,
   "metadata": {},
   "outputs": [],
   "source": [
    "#capulus:\n",
    "capulus = latlib_df[(latlib_df.text.str.contains(pat = 'capulus', case=False)) | (latlib_df.text.str.contains(pat = 'capuli', case=False)) | (latlib_df.text.str.contains(pat = 'capulo', case=False)) | (latlib_df.text.str.contains(pat = 'capulum', case=False)) | (latlib_df.text.str.contains(pat = 'capulorum', case=False)) | (latlib_df.text.str.contains(pat = 'capulis', case=False)) | (latlib_df.text.str.contains(pat = 'capulos', case=False))]"
   ]
  },
  {
   "cell_type": "code",
   "execution_count": 42,
   "metadata": {},
   "outputs": [
    {
     "name": "stdout",
     "output_type": "stream",
     "text": [
      "gladius:  277\n",
      "ferrum:  462\n",
      "mucro:  89\n",
      "ensis:  573\n",
      "capulus:  48\n"
     ]
    }
   ],
   "source": [
    "#let's see how many occurences of each word there are:\n",
    "print('gladius: ',len(gladius))\n",
    "print('ferrum: ',len(ferrum))\n",
    "print('mucro: ',len(mucro))\n",
    "print('ensis: ',len(ensis))\n",
    "print('capulus: ',len(capulus)) #'capulus' is the least common, only appearing 48 times, let's look at tht data!"
   ]
  },
  {
   "cell_type": "code",
   "execution_count": 43,
   "metadata": {},
   "outputs": [
    {
     "data": {
      "text/html": [
       "<div>\n",
       "<style scoped>\n",
       "    .dataframe tbody tr th:only-of-type {\n",
       "        vertical-align: middle;\n",
       "    }\n",
       "\n",
       "    .dataframe tbody tr th {\n",
       "        vertical-align: top;\n",
       "    }\n",
       "\n",
       "    .dataframe thead th {\n",
       "        text-align: right;\n",
       "    }\n",
       "</style>\n",
       "<table border=\"1\" class=\"dataframe\">\n",
       "  <thead>\n",
       "    <tr style=\"text-align: right;\">\n",
       "      <th></th>\n",
       "      <th>title</th>\n",
       "      <th>text</th>\n",
       "      <th>text_raw</th>\n",
       "      <th>tokens</th>\n",
       "      <th>token_count</th>\n",
       "      <th>max_line_length</th>\n",
       "      <th>style</th>\n",
       "      <th>author</th>\n",
       "      <th>era</th>\n",
       "      <th>term</th>\n",
       "    </tr>\n",
       "  </thead>\n",
       "  <tbody>\n",
       "    <tr>\n",
       "      <th>1</th>\n",
       "      <td>Valerius Maximus I</td>\n",
       "      <td>VALERI MAXIMI FACTORVM ET DICTORVM MEMORABILIV...</td>\n",
       "      <td>[VALERI MAXIMI FACTORVM ET DICTORVM MEMORABILI...</td>\n",
       "      <td>[VALERI, MAXIMI, FACTORVM, ET, DICTORVM, MEMOR...</td>\n",
       "      <td>10524</td>\n",
       "      <td>2080</td>\n",
       "      <td>prose</td>\n",
       "      <td>VALERIVS MAXIM</td>\n",
       "      <td>1st century A.D.</td>\n",
       "      <td></td>\n",
       "    </tr>\n",
       "    <tr>\n",
       "      <th>25</th>\n",
       "      <td>Statius: Achilleid II</td>\n",
       "      <td>PVBLIVS PAPINIVS STATIVS ACHILLEID II Exuit im...</td>\n",
       "      <td>[PVBLIVS PAPINIVS STATIVS, \\nACHILLEID II\\n, \\...</td>\n",
       "      <td>[PVBLIVS, PAPINIVS, STATIVS, ACHILLEID, II, Ex...</td>\n",
       "      <td>1243</td>\n",
       "      <td>71</td>\n",
       "      <td>verse</td>\n",
       "      <td>PVBLIVS PAPINIVS STATI</td>\n",
       "      <td>c. 45 – 96 A.D.</td>\n",
       "      <td></td>\n",
       "    </tr>\n",
       "    <tr>\n",
       "      <th>31</th>\n",
       "      <td>Statius: Thebaid XI</td>\n",
       "      <td>PVBLIVS PAPINIVS STATIVS THEBAID XI Postquam m...</td>\n",
       "      <td>[PVBLIVS PAPINIVS STATIVS, \\nTHEBAID XI\\n, \\nP...</td>\n",
       "      <td>[PVBLIVS, PAPINIVS, STATIVS, THEBAID, XI, Post...</td>\n",
       "      <td>6017</td>\n",
       "      <td>72</td>\n",
       "      <td>verse</td>\n",
       "      <td>PVBLIVS PAPINIVS STATI</td>\n",
       "      <td>c. 45 – 96 A.D.</td>\n",
       "      <td></td>\n",
       "    </tr>\n",
       "    <tr>\n",
       "      <th>34</th>\n",
       "      <td>Statius: Thebaid XII</td>\n",
       "      <td>PVBLIVS PAPINIVS STATIVS THEBAID XII Nondum cu...</td>\n",
       "      <td>[PVBLIVS PAPINIVS STATIVS, \\nTHEBAID XII\\n, \\n...</td>\n",
       "      <td>[PVBLIVS, PAPINIVS, STATIVS, THEBAID, XII, Non...</td>\n",
       "      <td>6244</td>\n",
       "      <td>72</td>\n",
       "      <td>verse</td>\n",
       "      <td>PVBLIVS PAPINIVS STATI</td>\n",
       "      <td>c. 45 – 96 A.D.</td>\n",
       "      <td></td>\n",
       "    </tr>\n",
       "    <tr>\n",
       "      <th>35</th>\n",
       "      <td>Statius: Thebaid IX</td>\n",
       "      <td>PVBLIVS PAPINIVS STATIVS THEBAID IX Asperat Ao...</td>\n",
       "      <td>[PVBLIVS PAPINIVS STATIVS, \\nTHEBAID IX\\n, \\nA...</td>\n",
       "      <td>[PVBLIVS, PAPINIVS, STATIVS, THEBAID, IX, Aspe...</td>\n",
       "      <td>6925</td>\n",
       "      <td>74</td>\n",
       "      <td>verse</td>\n",
       "      <td>PVBLIVS PAPINIVS STATI</td>\n",
       "      <td>c. 45 – 96 A.D.</td>\n",
       "      <td></td>\n",
       "    </tr>\n",
       "  </tbody>\n",
       "</table>\n",
       "</div>"
      ],
      "text/plain": [
       "                    title                                               text  \\\n",
       "1      Valerius Maximus I  VALERI MAXIMI FACTORVM ET DICTORVM MEMORABILIV...   \n",
       "25  Statius: Achilleid II  PVBLIVS PAPINIVS STATIVS ACHILLEID II Exuit im...   \n",
       "31    Statius: Thebaid XI  PVBLIVS PAPINIVS STATIVS THEBAID XI Postquam m...   \n",
       "34   Statius: Thebaid XII  PVBLIVS PAPINIVS STATIVS THEBAID XII Nondum cu...   \n",
       "35    Statius: Thebaid IX  PVBLIVS PAPINIVS STATIVS THEBAID IX Asperat Ao...   \n",
       "\n",
       "                                             text_raw  \\\n",
       "1   [VALERI MAXIMI FACTORVM ET DICTORVM MEMORABILI...   \n",
       "25  [PVBLIVS PAPINIVS STATIVS, \\nACHILLEID II\\n, \\...   \n",
       "31  [PVBLIVS PAPINIVS STATIVS, \\nTHEBAID XI\\n, \\nP...   \n",
       "34  [PVBLIVS PAPINIVS STATIVS, \\nTHEBAID XII\\n, \\n...   \n",
       "35  [PVBLIVS PAPINIVS STATIVS, \\nTHEBAID IX\\n, \\nA...   \n",
       "\n",
       "                                               tokens  token_count  \\\n",
       "1   [VALERI, MAXIMI, FACTORVM, ET, DICTORVM, MEMOR...        10524   \n",
       "25  [PVBLIVS, PAPINIVS, STATIVS, ACHILLEID, II, Ex...         1243   \n",
       "31  [PVBLIVS, PAPINIVS, STATIVS, THEBAID, XI, Post...         6017   \n",
       "34  [PVBLIVS, PAPINIVS, STATIVS, THEBAID, XII, Non...         6244   \n",
       "35  [PVBLIVS, PAPINIVS, STATIVS, THEBAID, IX, Aspe...         6925   \n",
       "\n",
       "    max_line_length  style                  author                 era term  \n",
       "1              2080  prose          VALERIVS MAXIM   1st century A.D.        \n",
       "25               71  verse  PVBLIVS PAPINIVS STATI    c. 45 – 96 A.D.        \n",
       "31               72  verse  PVBLIVS PAPINIVS STATI    c. 45 – 96 A.D.        \n",
       "34               72  verse  PVBLIVS PAPINIVS STATI    c. 45 – 96 A.D.        \n",
       "35               74  verse  PVBLIVS PAPINIVS STATI    c. 45 – 96 A.D.        "
      ]
     },
     "execution_count": 43,
     "metadata": {},
     "output_type": "execute_result"
    }
   ],
   "source": [
    "capulus.head()"
   ]
  },
  {
   "cell_type": "markdown",
   "metadata": {},
   "source": [
    "Just from looking at these titles there's a pretty fair distribution of genre between the works (some philosophy, epic poetry, history, and even comedy plays!)"
   ]
  },
  {
   "cell_type": "code",
   "execution_count": 44,
   "metadata": {},
   "outputs": [
    {
     "name": "stdout",
     "output_type": "stream",
     "text": [
      "221\n",
      "56\n"
     ]
    }
   ],
   "source": [
    "print(len(gladius[gladius['style']=='prose']))\n",
    "print(len(gladius[gladius['style']=='verse']))\n",
    "#the results here are skewed highly in favor of prose"
   ]
  },
  {
   "cell_type": "code",
   "execution_count": 45,
   "metadata": {},
   "outputs": [
    {
     "name": "stdout",
     "output_type": "stream",
     "text": [
      "309\n",
      "153\n"
     ]
    }
   ],
   "source": [
    "print(len(ferrum[ferrum['style']=='prose']))\n",
    "print(len(ferrum[ferrum['style']=='verse']))\n",
    "#here there's more in the prose category"
   ]
  },
  {
   "cell_type": "code",
   "execution_count": 46,
   "metadata": {},
   "outputs": [
    {
     "name": "stdout",
     "output_type": "stream",
     "text": [
      "58\n",
      "31\n"
     ]
    }
   ],
   "source": [
    "print(len(mucro[mucro['style']=='prose']))\n",
    "print(len(mucro[mucro['style']=='verse']))\n",
    "#it's closer here, but still in favor of prose"
   ]
  },
  {
   "cell_type": "code",
   "execution_count": 47,
   "metadata": {},
   "outputs": [
    {
     "name": "stdout",
     "output_type": "stream",
     "text": [
      "406\n",
      "167\n"
     ]
    }
   ],
   "source": [
    "print(len(ensis[ensis['style']=='prose']))\n",
    "print(len(ensis[ensis['style']=='verse']))\n",
    "#heavily in favor of prose"
   ]
  },
  {
   "cell_type": "code",
   "execution_count": 48,
   "metadata": {},
   "outputs": [
    {
     "name": "stdout",
     "output_type": "stream",
     "text": [
      "19\n",
      "29\n"
     ]
    }
   ],
   "source": [
    "print(len(capulus[capulus['style']=='prose']))\n",
    "print(len(capulus[capulus['style']=='verse']))\n",
    "#interestingly enough, verse is more popular than prose here"
   ]
  },
  {
   "cell_type": "markdown",
   "metadata": {},
   "source": [
    "because the results are overwhelmingly in favor of prose in most categories let's look at how they match up in latlib_df"
   ]
  },
  {
   "cell_type": "code",
   "execution_count": 49,
   "metadata": {},
   "outputs": [
    {
     "name": "stdout",
     "output_type": "stream",
     "text": [
      "425\n",
      "185\n"
     ]
    }
   ],
   "source": [
    "print(len(latlib_df[latlib_df['style']=='prose']))\n",
    "print(len(latlib_df[latlib_df['style']=='verse']))\n",
    "#so prose definitely shows more than verse, which is not super surprising"
   ]
  },
  {
   "cell_type": "code",
   "execution_count": 50,
   "metadata": {},
   "outputs": [
    {
     "name": "stdout",
     "output_type": "stream",
     "text": [
      "percentage of prose works in data:  69.67213114754098 %\n",
      "percentage of verse works in data:  30.327868852459016 %\n"
     ]
    }
   ],
   "source": [
    "p_n = len(latlib_df[latlib_df['style']=='prose'])/len(latlib_df)*100\n",
    "v_n = len(latlib_df[latlib_df['style']=='verse'])/len(latlib_df)*100\n",
    "print('percentage of prose works in data: ',p_n,'%')\n",
    "print('percentage of verse works in data: ',v_n,'%')"
   ]
  },
  {
   "cell_type": "code",
   "execution_count": 51,
   "metadata": {},
   "outputs": [
    {
     "name": "stderr",
     "output_type": "stream",
     "text": [
      "/Users/francesharrington/opt/anaconda3/lib/python3.8/site-packages/pandas/core/generic.py:5168: SettingWithCopyWarning: \n",
      "A value is trying to be set on a copy of a slice from a DataFrame.\n",
      "Try using .loc[row_indexer,col_indexer] = value instead\n",
      "\n",
      "See the caveats in the documentation: https://pandas.pydata.org/pandas-docs/stable/user_guide/indexing.html#returning-a-view-versus-a-copy\n",
      "  self[name] = value\n"
     ]
    }
   ],
   "source": [
    "gladius.term = ['gladius' for x in gladius.term]\n",
    "ferrum.term = ['ferrum' for x in ferrum.term]\n",
    "mucro.term = ['mucro' for x in mucro.term]\n",
    "ensis.term = ['ensis' for x in ensis.term]\n",
    "capulus.term = ['capulus' for x in capulus.term]"
   ]
  },
  {
   "cell_type": "code",
   "execution_count": 52,
   "metadata": {},
   "outputs": [
    {
     "data": {
      "text/html": [
       "<div>\n",
       "<style scoped>\n",
       "    .dataframe tbody tr th:only-of-type {\n",
       "        vertical-align: middle;\n",
       "    }\n",
       "\n",
       "    .dataframe tbody tr th {\n",
       "        vertical-align: top;\n",
       "    }\n",
       "\n",
       "    .dataframe thead th {\n",
       "        text-align: right;\n",
       "    }\n",
       "</style>\n",
       "<table border=\"1\" class=\"dataframe\">\n",
       "  <thead>\n",
       "    <tr style=\"text-align: right;\">\n",
       "      <th></th>\n",
       "      <th>title</th>\n",
       "      <th>text</th>\n",
       "      <th>text_raw</th>\n",
       "      <th>tokens</th>\n",
       "      <th>token_count</th>\n",
       "      <th>max_line_length</th>\n",
       "      <th>style</th>\n",
       "      <th>author</th>\n",
       "      <th>era</th>\n",
       "      <th>term</th>\n",
       "    </tr>\n",
       "  </thead>\n",
       "  <tbody>\n",
       "    <tr>\n",
       "      <th>0</th>\n",
       "      <td>Ammianus: Liber XXXI</td>\n",
       "      <td>AMMIANI MARCELLINI HISTORIAE LIBER XXXI       ...</td>\n",
       "      <td>[AMMIANI MARCELLINI HISTORIAE LIBER XXXI\\n, \\n...</td>\n",
       "      <td>[AMMIANI, MARCELLINI, HISTORIAE, LIBER, XXXI, ...</td>\n",
       "      <td>11030</td>\n",
       "      <td>774</td>\n",
       "      <td>prose</td>\n",
       "      <td>AMMIANVS MARCELLIN</td>\n",
       "      <td>4th century A.D.</td>\n",
       "      <td>ensis</td>\n",
       "    </tr>\n",
       "    <tr>\n",
       "      <th>1</th>\n",
       "      <td>Valerius Maximus I</td>\n",
       "      <td>VALERI MAXIMI FACTORVM ET DICTORVM MEMORABILIV...</td>\n",
       "      <td>[VALERI MAXIMI FACTORVM ET DICTORVM MEMORABILI...</td>\n",
       "      <td>[VALERI, MAXIMI, FACTORVM, ET, DICTORVM, MEMOR...</td>\n",
       "      <td>10524</td>\n",
       "      <td>2080</td>\n",
       "      <td>prose</td>\n",
       "      <td>VALERIVS MAXIM</td>\n",
       "      <td>1st century A.D.</td>\n",
       "      <td>ensis</td>\n",
       "    </tr>\n",
       "    <tr>\n",
       "      <th>2</th>\n",
       "      <td>Valerius Maximus VIII</td>\n",
       "      <td>VALERI MAXIMI FACTORVM ET DICTORVM MEMORABILIV...</td>\n",
       "      <td>[VALERI MAXIMI FACTORVM ET DICTORVM MEMORABILI...</td>\n",
       "      <td>[VALERI, MAXIMI, FACTORVM, ET, DICTORVM, MEMOR...</td>\n",
       "      <td>10337</td>\n",
       "      <td>1308</td>\n",
       "      <td>prose</td>\n",
       "      <td>VALERIVS MAXIM</td>\n",
       "      <td>1st century A.D.</td>\n",
       "      <td>ensis</td>\n",
       "    </tr>\n",
       "    <tr>\n",
       "      <th>3</th>\n",
       "      <td>Valerius Maximus IV</td>\n",
       "      <td>VALERI MAXIMI FACTORVM ET DICTORVM MEMORABILIV...</td>\n",
       "      <td>[VALERI MAXIMI FACTORVM ET DICTORVM MEMORABILI...</td>\n",
       "      <td>[VALERI, MAXIMI, FACTORVM, ET, DICTORVM, MEMOR...</td>\n",
       "      <td>10852</td>\n",
       "      <td>2034</td>\n",
       "      <td>prose</td>\n",
       "      <td>VALERIVS MAXIM</td>\n",
       "      <td>1st century A.D.</td>\n",
       "      <td>ensis</td>\n",
       "    </tr>\n",
       "    <tr>\n",
       "      <th>4</th>\n",
       "      <td>Valerius Maximus VII</td>\n",
       "      <td>VALERI MAXIMI FACTORVM ET DICTORVM MEMORABILIV...</td>\n",
       "      <td>[VALERI MAXIMI FACTORVM ET DICTORVM MEMORABILI...</td>\n",
       "      <td>[VALERI, MAXIMI, FACTORVM, ET, DICTORVM, MEMOR...</td>\n",
       "      <td>8918</td>\n",
       "      <td>2141</td>\n",
       "      <td>prose</td>\n",
       "      <td>VALERIVS MAXIM</td>\n",
       "      <td>1st century A.D.</td>\n",
       "      <td>ensis</td>\n",
       "    </tr>\n",
       "  </tbody>\n",
       "</table>\n",
       "</div>"
      ],
      "text/plain": [
       "                   title                                               text  \\\n",
       "0   Ammianus: Liber XXXI  AMMIANI MARCELLINI HISTORIAE LIBER XXXI       ...   \n",
       "1     Valerius Maximus I  VALERI MAXIMI FACTORVM ET DICTORVM MEMORABILIV...   \n",
       "2  Valerius Maximus VIII  VALERI MAXIMI FACTORVM ET DICTORVM MEMORABILIV...   \n",
       "3    Valerius Maximus IV  VALERI MAXIMI FACTORVM ET DICTORVM MEMORABILIV...   \n",
       "4   Valerius Maximus VII  VALERI MAXIMI FACTORVM ET DICTORVM MEMORABILIV...   \n",
       "\n",
       "                                            text_raw  \\\n",
       "0  [AMMIANI MARCELLINI HISTORIAE LIBER XXXI\\n, \\n...   \n",
       "1  [VALERI MAXIMI FACTORVM ET DICTORVM MEMORABILI...   \n",
       "2  [VALERI MAXIMI FACTORVM ET DICTORVM MEMORABILI...   \n",
       "3  [VALERI MAXIMI FACTORVM ET DICTORVM MEMORABILI...   \n",
       "4  [VALERI MAXIMI FACTORVM ET DICTORVM MEMORABILI...   \n",
       "\n",
       "                                              tokens  token_count  \\\n",
       "0  [AMMIANI, MARCELLINI, HISTORIAE, LIBER, XXXI, ...        11030   \n",
       "1  [VALERI, MAXIMI, FACTORVM, ET, DICTORVM, MEMOR...        10524   \n",
       "2  [VALERI, MAXIMI, FACTORVM, ET, DICTORVM, MEMOR...        10337   \n",
       "3  [VALERI, MAXIMI, FACTORVM, ET, DICTORVM, MEMOR...        10852   \n",
       "4  [VALERI, MAXIMI, FACTORVM, ET, DICTORVM, MEMOR...         8918   \n",
       "\n",
       "   max_line_length  style              author                 era   term  \n",
       "0              774  prose  AMMIANVS MARCELLIN   4th century A.D.   ensis  \n",
       "1             2080  prose      VALERIVS MAXIM   1st century A.D.   ensis  \n",
       "2             1308  prose      VALERIVS MAXIM   1st century A.D.   ensis  \n",
       "3             2034  prose      VALERIVS MAXIM   1st century A.D.   ensis  \n",
       "4             2141  prose      VALERIVS MAXIM   1st century A.D.   ensis  "
      ]
     },
     "execution_count": 52,
     "metadata": {},
     "output_type": "execute_result"
    }
   ],
   "source": [
    "ensis.head(5)"
   ]
  },
  {
   "cell_type": "code",
   "execution_count": 53,
   "metadata": {},
   "outputs": [],
   "source": [
    "df_swords = pd.concat([gladius, ferrum, mucro, ensis, capulus])"
   ]
  },
  {
   "cell_type": "code",
   "execution_count": 54,
   "metadata": {},
   "outputs": [
    {
     "data": {
      "text/html": [
       "<div>\n",
       "<style scoped>\n",
       "    .dataframe tbody tr th:only-of-type {\n",
       "        vertical-align: middle;\n",
       "    }\n",
       "\n",
       "    .dataframe tbody tr th {\n",
       "        vertical-align: top;\n",
       "    }\n",
       "\n",
       "    .dataframe thead th {\n",
       "        text-align: right;\n",
       "    }\n",
       "</style>\n",
       "<table border=\"1\" class=\"dataframe\">\n",
       "  <thead>\n",
       "    <tr style=\"text-align: right;\">\n",
       "      <th></th>\n",
       "      <th>title</th>\n",
       "      <th>text</th>\n",
       "      <th>text_raw</th>\n",
       "      <th>tokens</th>\n",
       "      <th>token_count</th>\n",
       "      <th>max_line_length</th>\n",
       "      <th>style</th>\n",
       "      <th>author</th>\n",
       "      <th>era</th>\n",
       "      <th>term</th>\n",
       "    </tr>\n",
       "  </thead>\n",
       "  <tbody>\n",
       "    <tr>\n",
       "      <th>418</th>\n",
       "      <td>Pliny the Younger</td>\n",
       "      <td>C. PLINII CAECILII SECVNDI EPISTVLARVM LIBER S...</td>\n",
       "      <td>[C. PLINII CAECILII SECVNDI EPISTVLARVM LIBER ...</td>\n",
       "      <td>[C., PLINII, CAECILII, SECVNDI, EPISTVLARVM, L...</td>\n",
       "      <td>8125</td>\n",
       "      <td>502</td>\n",
       "      <td>prose</td>\n",
       "      <td>VALERIVS MAXIM</td>\n",
       "      <td>1st century A.D.</td>\n",
       "      <td>ensis</td>\n",
       "    </tr>\n",
       "    <tr>\n",
       "      <th>401</th>\n",
       "      <td>Plautus: Casina</td>\n",
       "      <td>T. MACCI PLAVTI CASINA   OLYMPIO VILICVS CHALI...</td>\n",
       "      <td>[T. MACCI PLAVTI CASINA\\n, \\n, \\n, \\nOLYMPIO V...</td>\n",
       "      <td>[T., MACCI, PLAVTI, CASINA, OLYMPIO, VILICVS, ...</td>\n",
       "      <td>9591</td>\n",
       "      <td>84</td>\n",
       "      <td>verse</td>\n",
       "      <td>P. VERGILIVS MA</td>\n",
       "      <td>70 – 19 B.C.</td>\n",
       "      <td>gladius</td>\n",
       "    </tr>\n",
       "    <tr>\n",
       "      <th>200</th>\n",
       "      <td>Justin XXVII</td>\n",
       "      <td>HISTORIARUM PHILIPPICARUM IN EPITOMEN REDACTI ...</td>\n",
       "      <td>[HISTORIARUM PHILIPPICARUM IN EPITOMEN REDACTI...</td>\n",
       "      <td>[HISTORIARUM, PHILIPPICARUM, IN, EPITOMEN, RED...</td>\n",
       "      <td>784</td>\n",
       "      <td>237</td>\n",
       "      <td>prose</td>\n",
       "      <td>TITVS LVCRETIVS CAR</td>\n",
       "      <td>c. 94 – c. 49 B.C.</td>\n",
       "      <td>ensis</td>\n",
       "    </tr>\n",
       "    <tr>\n",
       "      <th>277</th>\n",
       "      <td>Nepos: Life of Miltiades</td>\n",
       "      <td>CORNELI NEPOTIS MILTIADES [1]  MILTIADES, Cimo...</td>\n",
       "      <td>[CORNELI NEPOTIS MILTIADES\\n\\n, \\n[1]  MILTIAD...</td>\n",
       "      <td>[CORNELI, NEPOTIS, MILTIADES, [, 1, ], MILTIAD...</td>\n",
       "      <td>1636</td>\n",
       "      <td>395</td>\n",
       "      <td>prose</td>\n",
       "      <td>CORNELIVS NEP</td>\n",
       "      <td>c. 100 – 24 B.C.</td>\n",
       "      <td>ferrum</td>\n",
       "    </tr>\n",
       "    <tr>\n",
       "      <th>467</th>\n",
       "      <td>Silius, Liber XIV</td>\n",
       "      <td>SILIUS ITALICUS PUNICA LIBER DECIMUS QUARTUS F...</td>\n",
       "      <td>[SILIUS ITALICUS, PUNICA LIBER DECIMUS QUARTUS...</td>\n",
       "      <td>[SILIUS, ITALICUS, PUNICA, LIBER, DECIMUS, QUA...</td>\n",
       "      <td>4952</td>\n",
       "      <td>66</td>\n",
       "      <td>verse</td>\n",
       "      <td>SILIVS ITALIC</td>\n",
       "      <td>25/6 – 101 A.D.</td>\n",
       "      <td>gladius</td>\n",
       "    </tr>\n",
       "  </tbody>\n",
       "</table>\n",
       "</div>"
      ],
      "text/plain": [
       "                        title  \\\n",
       "418         Pliny the Younger   \n",
       "401           Plautus: Casina   \n",
       "200             Justin XXVII    \n",
       "277  Nepos: Life of Miltiades   \n",
       "467         Silius, Liber XIV   \n",
       "\n",
       "                                                  text  \\\n",
       "418  C. PLINII CAECILII SECVNDI EPISTVLARVM LIBER S...   \n",
       "401  T. MACCI PLAVTI CASINA   OLYMPIO VILICVS CHALI...   \n",
       "200  HISTORIARUM PHILIPPICARUM IN EPITOMEN REDACTI ...   \n",
       "277  CORNELI NEPOTIS MILTIADES [1]  MILTIADES, Cimo...   \n",
       "467  SILIUS ITALICUS PUNICA LIBER DECIMUS QUARTUS F...   \n",
       "\n",
       "                                              text_raw  \\\n",
       "418  [C. PLINII CAECILII SECVNDI EPISTVLARVM LIBER ...   \n",
       "401  [T. MACCI PLAVTI CASINA\\n, \\n, \\n, \\nOLYMPIO V...   \n",
       "200  [HISTORIARUM PHILIPPICARUM IN EPITOMEN REDACTI...   \n",
       "277  [CORNELI NEPOTIS MILTIADES\\n\\n, \\n[1]  MILTIAD...   \n",
       "467  [SILIUS ITALICUS, PUNICA LIBER DECIMUS QUARTUS...   \n",
       "\n",
       "                                                tokens  token_count  \\\n",
       "418  [C., PLINII, CAECILII, SECVNDI, EPISTVLARVM, L...         8125   \n",
       "401  [T., MACCI, PLAVTI, CASINA, OLYMPIO, VILICVS, ...         9591   \n",
       "200  [HISTORIARUM, PHILIPPICARUM, IN, EPITOMEN, RED...          784   \n",
       "277  [CORNELI, NEPOTIS, MILTIADES, [, 1, ], MILTIAD...         1636   \n",
       "467  [SILIUS, ITALICUS, PUNICA, LIBER, DECIMUS, QUA...         4952   \n",
       "\n",
       "     max_line_length  style               author                   era  \\\n",
       "418              502  prose       VALERIVS MAXIM     1st century A.D.    \n",
       "401               84  verse      P. VERGILIVS MA         70 – 19 B.C.    \n",
       "200              237  prose  TITVS LVCRETIVS CAR   c. 94 – c. 49 B.C.    \n",
       "277              395  prose        CORNELIVS NEP     c. 100 – 24 B.C.    \n",
       "467               66  verse        SILIVS ITALIC      25/6 – 101 A.D.    \n",
       "\n",
       "        term  \n",
       "418    ensis  \n",
       "401  gladius  \n",
       "200    ensis  \n",
       "277   ferrum  \n",
       "467  gladius  "
      ]
     },
     "execution_count": 54,
     "metadata": {},
     "output_type": "execute_result"
    }
   ],
   "source": [
    "df_swords.sample(5)"
   ]
  },
  {
   "cell_type": "code",
   "execution_count": 56,
   "metadata": {},
   "outputs": [
    {
     "ename": "KeyError",
     "evalue": "\"None of [Index([' 4th century A.D. ', ' 1st century A.D. ', ' 1st century A.D. ',\\n       ' 1st century A.D. ', ' 1st century A.D. ', ' 1st century A.D. ',\\n       ' died c. 90 A.D. ', ' died c. 90 A.D. ', ' c. 80/70 – c. 25 B.C. ',\\n       ' 1st century A.D. ',\\n       ...\\n       'none', 'none', ' 70 – 19 B.C. ', 'none', ' 70 – 19 B.C. ',\\n       ' 70 – 19 B.C. ', ' c. A.D. 125 – after 180 ',\\n       ' c. A.D. 125 – after 180 ', ' c. A.D. 125 – after 180 ',\\n       ' c. A.D. 125 – after 180 '],\\n      dtype='object', length=277)] are in the [columns]\"",
     "output_type": "error",
     "traceback": [
      "\u001b[0;31m---------------------------------------------------------------------------\u001b[0m",
      "\u001b[0;31mKeyError\u001b[0m                                  Traceback (most recent call last)",
      "\u001b[0;32m<ipython-input-56-b64c82cfa72d>\u001b[0m in \u001b[0;36m<module>\u001b[0;34m\u001b[0m\n\u001b[0;32m----> 1\u001b[0;31m \u001b[0mgladius\u001b[0m\u001b[0;34m[\u001b[0m\u001b[0mgladius\u001b[0m\u001b[0;34m[\u001b[0m\u001b[0;34m'era'\u001b[0m\u001b[0;34m]\u001b[0m\u001b[0;34m]\u001b[0m\u001b[0;34m\u001b[0m\u001b[0;34m\u001b[0m\u001b[0m\n\u001b[0m",
      "\u001b[0;32m~/opt/anaconda3/lib/python3.8/site-packages/pandas/core/frame.py\u001b[0m in \u001b[0;36m__getitem__\u001b[0;34m(self, key)\u001b[0m\n\u001b[1;32m   2906\u001b[0m             \u001b[0;32mif\u001b[0m \u001b[0mis_iterator\u001b[0m\u001b[0;34m(\u001b[0m\u001b[0mkey\u001b[0m\u001b[0;34m)\u001b[0m\u001b[0;34m:\u001b[0m\u001b[0;34m\u001b[0m\u001b[0;34m\u001b[0m\u001b[0m\n\u001b[1;32m   2907\u001b[0m                 \u001b[0mkey\u001b[0m \u001b[0;34m=\u001b[0m \u001b[0mlist\u001b[0m\u001b[0;34m(\u001b[0m\u001b[0mkey\u001b[0m\u001b[0;34m)\u001b[0m\u001b[0;34m\u001b[0m\u001b[0;34m\u001b[0m\u001b[0m\n\u001b[0;32m-> 2908\u001b[0;31m             \u001b[0mindexer\u001b[0m \u001b[0;34m=\u001b[0m \u001b[0mself\u001b[0m\u001b[0;34m.\u001b[0m\u001b[0mloc\u001b[0m\u001b[0;34m.\u001b[0m\u001b[0m_get_listlike_indexer\u001b[0m\u001b[0;34m(\u001b[0m\u001b[0mkey\u001b[0m\u001b[0;34m,\u001b[0m \u001b[0maxis\u001b[0m\u001b[0;34m=\u001b[0m\u001b[0;36m1\u001b[0m\u001b[0;34m,\u001b[0m \u001b[0mraise_missing\u001b[0m\u001b[0;34m=\u001b[0m\u001b[0;32mTrue\u001b[0m\u001b[0;34m)\u001b[0m\u001b[0;34m[\u001b[0m\u001b[0;36m1\u001b[0m\u001b[0;34m]\u001b[0m\u001b[0;34m\u001b[0m\u001b[0;34m\u001b[0m\u001b[0m\n\u001b[0m\u001b[1;32m   2909\u001b[0m \u001b[0;34m\u001b[0m\u001b[0m\n\u001b[1;32m   2910\u001b[0m         \u001b[0;31m# take() does not accept boolean indexers\u001b[0m\u001b[0;34m\u001b[0m\u001b[0;34m\u001b[0m\u001b[0;34m\u001b[0m\u001b[0m\n",
      "\u001b[0;32m~/opt/anaconda3/lib/python3.8/site-packages/pandas/core/indexing.py\u001b[0m in \u001b[0;36m_get_listlike_indexer\u001b[0;34m(self, key, axis, raise_missing)\u001b[0m\n\u001b[1;32m   1252\u001b[0m             \u001b[0mkeyarr\u001b[0m\u001b[0;34m,\u001b[0m \u001b[0mindexer\u001b[0m\u001b[0;34m,\u001b[0m \u001b[0mnew_indexer\u001b[0m \u001b[0;34m=\u001b[0m \u001b[0max\u001b[0m\u001b[0;34m.\u001b[0m\u001b[0m_reindex_non_unique\u001b[0m\u001b[0;34m(\u001b[0m\u001b[0mkeyarr\u001b[0m\u001b[0;34m)\u001b[0m\u001b[0;34m\u001b[0m\u001b[0;34m\u001b[0m\u001b[0m\n\u001b[1;32m   1253\u001b[0m \u001b[0;34m\u001b[0m\u001b[0m\n\u001b[0;32m-> 1254\u001b[0;31m         \u001b[0mself\u001b[0m\u001b[0;34m.\u001b[0m\u001b[0m_validate_read_indexer\u001b[0m\u001b[0;34m(\u001b[0m\u001b[0mkeyarr\u001b[0m\u001b[0;34m,\u001b[0m \u001b[0mindexer\u001b[0m\u001b[0;34m,\u001b[0m \u001b[0maxis\u001b[0m\u001b[0;34m,\u001b[0m \u001b[0mraise_missing\u001b[0m\u001b[0;34m=\u001b[0m\u001b[0mraise_missing\u001b[0m\u001b[0;34m)\u001b[0m\u001b[0;34m\u001b[0m\u001b[0;34m\u001b[0m\u001b[0m\n\u001b[0m\u001b[1;32m   1255\u001b[0m         \u001b[0;32mreturn\u001b[0m \u001b[0mkeyarr\u001b[0m\u001b[0;34m,\u001b[0m \u001b[0mindexer\u001b[0m\u001b[0;34m\u001b[0m\u001b[0;34m\u001b[0m\u001b[0m\n\u001b[1;32m   1256\u001b[0m \u001b[0;34m\u001b[0m\u001b[0m\n",
      "\u001b[0;32m~/opt/anaconda3/lib/python3.8/site-packages/pandas/core/indexing.py\u001b[0m in \u001b[0;36m_validate_read_indexer\u001b[0;34m(self, key, indexer, axis, raise_missing)\u001b[0m\n\u001b[1;32m   1296\u001b[0m             \u001b[0;32mif\u001b[0m \u001b[0mmissing\u001b[0m \u001b[0;34m==\u001b[0m \u001b[0mlen\u001b[0m\u001b[0;34m(\u001b[0m\u001b[0mindexer\u001b[0m\u001b[0;34m)\u001b[0m\u001b[0;34m:\u001b[0m\u001b[0;34m\u001b[0m\u001b[0;34m\u001b[0m\u001b[0m\n\u001b[1;32m   1297\u001b[0m                 \u001b[0maxis_name\u001b[0m \u001b[0;34m=\u001b[0m \u001b[0mself\u001b[0m\u001b[0;34m.\u001b[0m\u001b[0mobj\u001b[0m\u001b[0;34m.\u001b[0m\u001b[0m_get_axis_name\u001b[0m\u001b[0;34m(\u001b[0m\u001b[0maxis\u001b[0m\u001b[0;34m)\u001b[0m\u001b[0;34m\u001b[0m\u001b[0;34m\u001b[0m\u001b[0m\n\u001b[0;32m-> 1298\u001b[0;31m                 \u001b[0;32mraise\u001b[0m \u001b[0mKeyError\u001b[0m\u001b[0;34m(\u001b[0m\u001b[0;34mf\"None of [{key}] are in the [{axis_name}]\"\u001b[0m\u001b[0;34m)\u001b[0m\u001b[0;34m\u001b[0m\u001b[0;34m\u001b[0m\u001b[0m\n\u001b[0m\u001b[1;32m   1299\u001b[0m \u001b[0;34m\u001b[0m\u001b[0m\n\u001b[1;32m   1300\u001b[0m             \u001b[0;31m# We (temporarily) allow for some missing keys with .loc, except in\u001b[0m\u001b[0;34m\u001b[0m\u001b[0;34m\u001b[0m\u001b[0;34m\u001b[0m\u001b[0m\n",
      "\u001b[0;31mKeyError\u001b[0m: \"None of [Index([' 4th century A.D. ', ' 1st century A.D. ', ' 1st century A.D. ',\\n       ' 1st century A.D. ', ' 1st century A.D. ', ' 1st century A.D. ',\\n       ' died c. 90 A.D. ', ' died c. 90 A.D. ', ' c. 80/70 – c. 25 B.C. ',\\n       ' 1st century A.D. ',\\n       ...\\n       'none', 'none', ' 70 – 19 B.C. ', 'none', ' 70 – 19 B.C. ',\\n       ' 70 – 19 B.C. ', ' c. A.D. 125 – after 180 ',\\n       ' c. A.D. 125 – after 180 ', ' c. A.D. 125 – after 180 ',\\n       ' c. A.D. 125 – after 180 '],\\n      dtype='object', length=277)] are in the [columns]\""
     ]
    }
   ],
   "source": [
    "gladius[gladius['era']]"
   ]
  },
  {
   "cell_type": "code",
   "execution_count": null,
   "metadata": {},
   "outputs": [],
   "source": []
  },
  {
   "cell_type": "code",
   "execution_count": null,
   "metadata": {},
   "outputs": [],
   "source": []
  },
  {
   "cell_type": "code",
   "execution_count": null,
   "metadata": {},
   "outputs": [],
   "source": [
    "#updated data samples so they reflect my current data:\n",
    "examples = latlib_df.head(10)\n",
    "examples.to_pickle(\"/Users/francesharrington/Documents/ling1340/Latin-Vocabulary-Analysis/data_samples/examples.pkl\")"
   ]
  }
 ],
 "metadata": {
  "kernelspec": {
   "display_name": "Python 3",
   "language": "python",
   "name": "python3"
  },
  "language_info": {
   "codemirror_mode": {
    "name": "ipython",
    "version": 3
   },
   "file_extension": ".py",
   "mimetype": "text/x-python",
   "name": "python",
   "nbconvert_exporter": "python",
   "pygments_lexer": "ipython3",
   "version": "3.8.5"
  }
 },
 "nbformat": 4,
 "nbformat_minor": 4
}
