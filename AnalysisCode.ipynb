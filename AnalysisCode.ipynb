{
 "cells": [
  {
   "cell_type": "code",
   "execution_count": 1,
   "metadata": {},
   "outputs": [],
   "source": [
    "import nltk\n",
    "from bs4 import BeautifulSoup\n",
    "import requests\n",
    "import pandas as pd\n",
    "import numpy as np\n",
    "import re"
   ]
  },
  {
   "cell_type": "code",
   "execution_count": 79,
   "metadata": {},
   "outputs": [],
   "source": [
    "import string\n",
    "from nltk import ngrams"
   ]
  },
  {
   "cell_type": "code",
   "execution_count": 75,
   "metadata": {},
   "outputs": [],
   "source": [
    "from nltk.book import *"
   ]
  },
  {
   "cell_type": "code",
   "execution_count": 4,
   "metadata": {},
   "outputs": [],
   "source": [
    "import statistics"
   ]
  },
  {
   "cell_type": "code",
   "execution_count": 5,
   "metadata": {},
   "outputs": [],
   "source": [
    "import matplotlib.pyplot as plt\n",
    "import seaborn as sns"
   ]
  },
  {
   "cell_type": "code",
   "execution_count": 6,
   "metadata": {},
   "outputs": [],
   "source": [
    "latlib_df = pd.read_pickle(\"/Users/francesharrington/Documents/ling1340/Latin-Vocabulary-Analysis/data/latinlibrary_data.pkl\")"
   ]
  },
  {
   "cell_type": "code",
   "execution_count": 7,
   "metadata": {},
   "outputs": [],
   "source": [
    "ne_df = pd.read_pickle(\"/Users/francesharrington/Documents/ling1340/Latin-Vocabulary-Analysis/data/latinlibrary_ne_data.pkl\")"
   ]
  },
  {
   "cell_type": "code",
   "execution_count": 8,
   "metadata": {},
   "outputs": [
    {
     "data": {
      "text/html": [
       "<div>\n",
       "<style scoped>\n",
       "    .dataframe tbody tr th:only-of-type {\n",
       "        vertical-align: middle;\n",
       "    }\n",
       "\n",
       "    .dataframe tbody tr th {\n",
       "        vertical-align: top;\n",
       "    }\n",
       "\n",
       "    .dataframe thead th {\n",
       "        text-align: right;\n",
       "    }\n",
       "</style>\n",
       "<table border=\"1\" class=\"dataframe\">\n",
       "  <thead>\n",
       "    <tr style=\"text-align: right;\">\n",
       "      <th></th>\n",
       "      <th>title</th>\n",
       "      <th>text</th>\n",
       "      <th>text_raw</th>\n",
       "      <th>tokens</th>\n",
       "      <th>token_count</th>\n",
       "    </tr>\n",
       "  </thead>\n",
       "  <tbody>\n",
       "    <tr>\n",
       "      <th>0</th>\n",
       "      <td>Seneca the Elder</td>\n",
       "      <td>L. ANNAEI SENECAE MAIORIS EXCERPTA CONTROVERSI...</td>\n",
       "      <td>[L. ANNAEI SENECAE MAIORIS EXCERPTA CONTROVERS...</td>\n",
       "      <td>[L, ANNAEI, SENECAE, MAIORIS, EXCERPTA, CONTRO...</td>\n",
       "      <td>1768</td>\n",
       "    </tr>\n",
       "    <tr>\n",
       "      <th>1</th>\n",
       "      <td>Tibullus Book III</td>\n",
       "      <td>LIBER TERTIVS LYGDAMI ALIORVMQUE ELEGIAE   Mar...</td>\n",
       "      <td>[LIBER TERTIVS LYGDAMI ALIORVMQUE ELEGIAE, \\n,...</td>\n",
       "      <td>[LIBER, TERTIVS, LYGDAMI, ALIORVMQUE, ELEGIAE,...</td>\n",
       "      <td>4395</td>\n",
       "    </tr>\n",
       "    <tr>\n",
       "      <th>2</th>\n",
       "      <td>Tibullus Book II</td>\n",
       "      <td>A. TIBVLLI ELEGIAE LIBER SECVNDVS   Quisquis a...</td>\n",
       "      <td>[A. TIBVLLI ELEGIAE LIBER SECVNDVS, \\n, \\n, \\n...</td>\n",
       "      <td>[A, TIBVLLI, ELEGIAE, LIBER, SECVNDVS, Quisqui...</td>\n",
       "      <td>2747</td>\n",
       "    </tr>\n",
       "    <tr>\n",
       "      <th>3</th>\n",
       "      <td>Seneca the Elder</td>\n",
       "      <td>L. ANNAEI SENECAE MAIORIS EXCERPTA CONTROVERSI...</td>\n",
       "      <td>[L. ANNAEI SENECAE MAIORIS EXCERPTA CONTROVERS...</td>\n",
       "      <td>[L, ANNAEI, SENECAE, MAIORIS, EXCERPTA, CONTRO...</td>\n",
       "      <td>1933</td>\n",
       "    </tr>\n",
       "    <tr>\n",
       "      <th>4</th>\n",
       "      <td>Statius: Achilleid II</td>\n",
       "      <td>PVBLIVS PAPINIVS STATIVS ACHILLEID II Exuit im...</td>\n",
       "      <td>[PVBLIVS PAPINIVS STATIVS, \\nACHILLEID II\\n, \\...</td>\n",
       "      <td>[PVBLIVS, PAPINIVS, STATIVS, ACHILLEID, II, Ex...</td>\n",
       "      <td>1075</td>\n",
       "    </tr>\n",
       "  </tbody>\n",
       "</table>\n",
       "</div>"
      ],
      "text/plain": [
       "                   title                                               text  \\\n",
       "0       Seneca the Elder  L. ANNAEI SENECAE MAIORIS EXCERPTA CONTROVERSI...   \n",
       "1      Tibullus Book III  LIBER TERTIVS LYGDAMI ALIORVMQUE ELEGIAE   Mar...   \n",
       "2       Tibullus Book II  A. TIBVLLI ELEGIAE LIBER SECVNDVS   Quisquis a...   \n",
       "3       Seneca the Elder  L. ANNAEI SENECAE MAIORIS EXCERPTA CONTROVERSI...   \n",
       "4  Statius: Achilleid II  PVBLIVS PAPINIVS STATIVS ACHILLEID II Exuit im...   \n",
       "\n",
       "                                            text_raw  \\\n",
       "0  [L. ANNAEI SENECAE MAIORIS EXCERPTA CONTROVERS...   \n",
       "1  [LIBER TERTIVS LYGDAMI ALIORVMQUE ELEGIAE, \\n,...   \n",
       "2  [A. TIBVLLI ELEGIAE LIBER SECVNDVS, \\n, \\n, \\n...   \n",
       "3  [L. ANNAEI SENECAE MAIORIS EXCERPTA CONTROVERS...   \n",
       "4  [PVBLIVS PAPINIVS STATIVS, \\nACHILLEID II\\n, \\...   \n",
       "\n",
       "                                              tokens  token_count  \n",
       "0  [L, ANNAEI, SENECAE, MAIORIS, EXCERPTA, CONTRO...         1768  \n",
       "1  [LIBER, TERTIVS, LYGDAMI, ALIORVMQUE, ELEGIAE,...         4395  \n",
       "2  [A, TIBVLLI, ELEGIAE, LIBER, SECVNDVS, Quisqui...         2747  \n",
       "3  [L, ANNAEI, SENECAE, MAIORIS, EXCERPTA, CONTRO...         1933  \n",
       "4  [PVBLIVS, PAPINIVS, STATIVS, ACHILLEID, II, Ex...         1075  "
      ]
     },
     "execution_count": 8,
     "metadata": {},
     "output_type": "execute_result"
    }
   ],
   "source": [
    "#here's some of the data:\n",
    "latlib_df.head()"
   ]
  },
  {
   "cell_type": "code",
   "execution_count": 9,
   "metadata": {},
   "outputs": [
    {
     "data": {
      "text/html": [
       "<div>\n",
       "<style scoped>\n",
       "    .dataframe tbody tr th:only-of-type {\n",
       "        vertical-align: middle;\n",
       "    }\n",
       "\n",
       "    .dataframe tbody tr th {\n",
       "        vertical-align: top;\n",
       "    }\n",
       "\n",
       "    .dataframe thead th {\n",
       "        text-align: right;\n",
       "    }\n",
       "</style>\n",
       "<table border=\"1\" class=\"dataframe\">\n",
       "  <thead>\n",
       "    <tr style=\"text-align: right;\">\n",
       "      <th></th>\n",
       "      <th>name</th>\n",
       "      <th>era</th>\n",
       "    </tr>\n",
       "  </thead>\n",
       "  <tbody>\n",
       "    <tr>\n",
       "      <th>0</th>\n",
       "      <td>ALBIVS TIBVLLVS</td>\n",
       "      <td>(c. 54 – 19 B.C.)</td>\n",
       "    </tr>\n",
       "    <tr>\n",
       "      <th>1</th>\n",
       "      <td>L. ANNAEVS SENECA MAIOR</td>\n",
       "      <td>(54 B.C. – 39 A.D.)</td>\n",
       "    </tr>\n",
       "    <tr>\n",
       "      <th>2</th>\n",
       "      <td>SVLPICIA</td>\n",
       "      <td>(late 1st century B.C.)</td>\n",
       "    </tr>\n",
       "    <tr>\n",
       "      <th>3</th>\n",
       "      <td>PVBLIVS PAPINIVS STATIVS</td>\n",
       "      <td>(c. 45 – 96 A.D.)</td>\n",
       "    </tr>\n",
       "    <tr>\n",
       "      <th>4</th>\n",
       "      <td>C. SALLVSTIVS CRISPVS</td>\n",
       "      <td>(86 – 34 B.C.)</td>\n",
       "    </tr>\n",
       "  </tbody>\n",
       "</table>\n",
       "</div>"
      ],
      "text/plain": [
       "                       name                      era\n",
       "0           ALBIVS TIBVLLVS        (c. 54 – 19 B.C.)\n",
       "1   L. ANNAEVS SENECA MAIOR      (54 B.C. – 39 A.D.)\n",
       "2                  SVLPICIA  (late 1st century B.C.)\n",
       "3  PVBLIVS PAPINIVS STATIVS        (c. 45 – 96 A.D.)\n",
       "4     C. SALLVSTIVS CRISPVS           (86 – 34 B.C.)"
      ]
     },
     "execution_count": 9,
     "metadata": {},
     "output_type": "execute_result"
    }
   ],
   "source": [
    "ne_df.head()"
   ]
  },
  {
   "cell_type": "markdown",
   "metadata": {},
   "source": [
    "Here's some basic info on the data contained in latlib_df:"
   ]
  },
  {
   "cell_type": "code",
   "execution_count": 10,
   "metadata": {},
   "outputs": [
    {
     "data": {
      "text/plain": [
       "(673, 5)"
      ]
     },
     "execution_count": 10,
     "metadata": {},
     "output_type": "execute_result"
    }
   ],
   "source": [
    "#overall shape of the dataframe:\n",
    "latlib_df.shape"
   ]
  },
  {
   "cell_type": "code",
   "execution_count": 11,
   "metadata": {},
   "outputs": [
    {
     "data": {
      "text/html": [
       "<div>\n",
       "<style scoped>\n",
       "    .dataframe tbody tr th:only-of-type {\n",
       "        vertical-align: middle;\n",
       "    }\n",
       "\n",
       "    .dataframe tbody tr th {\n",
       "        vertical-align: top;\n",
       "    }\n",
       "\n",
       "    .dataframe thead th {\n",
       "        text-align: right;\n",
       "    }\n",
       "</style>\n",
       "<table border=\"1\" class=\"dataframe\">\n",
       "  <thead>\n",
       "    <tr style=\"text-align: right;\">\n",
       "      <th></th>\n",
       "      <th>token_count</th>\n",
       "    </tr>\n",
       "  </thead>\n",
       "  <tbody>\n",
       "    <tr>\n",
       "      <th>count</th>\n",
       "      <td>673.000000</td>\n",
       "    </tr>\n",
       "    <tr>\n",
       "      <th>mean</th>\n",
       "      <td>5273.719168</td>\n",
       "    </tr>\n",
       "    <tr>\n",
       "      <th>std</th>\n",
       "      <td>4614.407803</td>\n",
       "    </tr>\n",
       "    <tr>\n",
       "      <th>min</th>\n",
       "      <td>0.000000</td>\n",
       "    </tr>\n",
       "    <tr>\n",
       "      <th>25%</th>\n",
       "      <td>1434.000000</td>\n",
       "    </tr>\n",
       "    <tr>\n",
       "      <th>50%</th>\n",
       "      <td>4691.000000</td>\n",
       "    </tr>\n",
       "    <tr>\n",
       "      <th>75%</th>\n",
       "      <td>7257.000000</td>\n",
       "    </tr>\n",
       "    <tr>\n",
       "      <th>max</th>\n",
       "      <td>30592.000000</td>\n",
       "    </tr>\n",
       "  </tbody>\n",
       "</table>\n",
       "</div>"
      ],
      "text/plain": [
       "        token_count\n",
       "count    673.000000\n",
       "mean    5273.719168\n",
       "std     4614.407803\n",
       "min        0.000000\n",
       "25%     1434.000000\n",
       "50%     4691.000000\n",
       "75%     7257.000000\n",
       "max    30592.000000"
      ]
     },
     "execution_count": 11,
     "metadata": {},
     "output_type": "execute_result"
    }
   ],
   "source": [
    "latlib_df.describe()"
   ]
  },
  {
   "cell_type": "code",
   "execution_count": 12,
   "metadata": {},
   "outputs": [
    {
     "name": "stdout",
     "output_type": "stream",
     "text": [
      "<class 'pandas.core.frame.DataFrame'>\n",
      "RangeIndex: 673 entries, 0 to 672\n",
      "Data columns (total 5 columns):\n",
      " #   Column       Non-Null Count  Dtype \n",
      "---  ------       --------------  ----- \n",
      " 0   title        673 non-null    object\n",
      " 1   text         673 non-null    object\n",
      " 2   text_raw     673 non-null    object\n",
      " 3   tokens       673 non-null    object\n",
      " 4   token_count  673 non-null    int64 \n",
      "dtypes: int64(1), object(4)\n",
      "memory usage: 26.4+ KB\n"
     ]
    }
   ],
   "source": [
    "latlib_df.info()\n",
    "#good! no null objects"
   ]
  },
  {
   "cell_type": "markdown",
   "metadata": {},
   "source": [
    "let's work on seperating works by style (prose or poetry):"
   ]
  },
  {
   "cell_type": "code",
   "execution_count": 13,
   "metadata": {},
   "outputs": [],
   "source": [
    "#use Aeneid (P. VERGILI MARONIS AENEIDOS) + Ovid's Metamorphoses (P. OVIDI NASONIS METAMORPHOSEON) for verse examples"
   ]
  },
  {
   "cell_type": "code",
   "execution_count": 14,
   "metadata": {},
   "outputs": [],
   "source": [
    "metamorphoses_ovid = latlib_df[latlib_df['text'].str.contains('P. OVIDI NASONIS METAMORPHOSEON')]"
   ]
  },
  {
   "cell_type": "code",
   "execution_count": 15,
   "metadata": {},
   "outputs": [],
   "source": [
    "aeneid = latlib_df[latlib_df['text'].str.contains('P. VERGILI MARONIS AENEIDOS')]"
   ]
  },
  {
   "cell_type": "code",
   "execution_count": 16,
   "metadata": {},
   "outputs": [
    {
     "data": {
      "text/html": [
       "<div>\n",
       "<style scoped>\n",
       "    .dataframe tbody tr th:only-of-type {\n",
       "        vertical-align: middle;\n",
       "    }\n",
       "\n",
       "    .dataframe tbody tr th {\n",
       "        vertical-align: top;\n",
       "    }\n",
       "\n",
       "    .dataframe thead th {\n",
       "        text-align: right;\n",
       "    }\n",
       "</style>\n",
       "<table border=\"1\" class=\"dataframe\">\n",
       "  <thead>\n",
       "    <tr style=\"text-align: right;\">\n",
       "      <th></th>\n",
       "      <th>title</th>\n",
       "      <th>text</th>\n",
       "      <th>text_raw</th>\n",
       "      <th>tokens</th>\n",
       "      <th>token_count</th>\n",
       "    </tr>\n",
       "  </thead>\n",
       "  <tbody>\n",
       "    <tr>\n",
       "      <th>608</th>\n",
       "      <td>P. VERGILI MARONIS AENEIDOS LIBER DVODECIMVS</td>\n",
       "      <td>P. VERGILI MARONIS AENEIDOS LIBER DVODECIMVS  ...</td>\n",
       "      <td>[P. VERGILI MARONIS AENEIDOS LIBER DVODECIMVS\\...</td>\n",
       "      <td>[P, VERGILI, MARONIS, AENEIDOS, LIBER, DVODECI...</td>\n",
       "      <td>6201</td>\n",
       "    </tr>\n",
       "    <tr>\n",
       "      <th>609</th>\n",
       "      <td>P. VERGILI MARONIS AENEIDOS LIBER DECIMVS</td>\n",
       "      <td>P. VERGILI MARONIS AENEIDOS LIBER DECIMVS  Pan...</td>\n",
       "      <td>[P. VERGILI MARONIS AENEIDOS LIBER DECIMVS\\n, ...</td>\n",
       "      <td>[P, VERGILI, MARONIS, AENEIDOS, LIBER, DECIMVS...</td>\n",
       "      <td>5905</td>\n",
       "    </tr>\n",
       "    <tr>\n",
       "      <th>610</th>\n",
       "      <td>P. VERGILI MARONIS AENEIDOS LIBER NONVS</td>\n",
       "      <td>P. VERGILI MARONIS AENEIDOS LIBER NONVS  Atque...</td>\n",
       "      <td>[P. VERGILI MARONIS AENEIDOS LIBER NONVS\\n, \\n...</td>\n",
       "      <td>[P, VERGILI, MARONIS, AENEIDOS, LIBER, NONVS, ...</td>\n",
       "      <td>5300</td>\n",
       "    </tr>\n",
       "    <tr>\n",
       "      <th>611</th>\n",
       "      <td>P. VERGILI MARONIS AENEIDOS LIBER OCTAVVS</td>\n",
       "      <td>P. VERGILI MARONIS AENEIDOS LIBER OCTAVVS  Ut ...</td>\n",
       "      <td>[P. VERGILI MARONIS AENEIDOS LIBER OCTAVVS\\n\\n...</td>\n",
       "      <td>[P, VERGILI, MARONIS, AENEIDOS, LIBER, OCTAVVS...</td>\n",
       "      <td>4639</td>\n",
       "    </tr>\n",
       "    <tr>\n",
       "      <th>612</th>\n",
       "      <td>P. VERGILI MARONIS AENEIDOS LIBER SEPTIMVS</td>\n",
       "      <td>P. VERGILI MARONIS AENEIDOS LIBER SEPTIMVS  Tu...</td>\n",
       "      <td>[P. VERGILI MARONIS AENEIDOS LIBER SEPTIMVS\\n,...</td>\n",
       "      <td>[P, VERGILI, MARONIS, AENEIDOS, LIBER, SEPTIMV...</td>\n",
       "      <td>5224</td>\n",
       "    </tr>\n",
       "    <tr>\n",
       "      <th>613</th>\n",
       "      <td>P. VERGILI MARONIS AENEIDOS LIBER VNDECIMVS</td>\n",
       "      <td>P. VERGILI MARONIS AENEIDOS LIBER VNDECIMVS  O...</td>\n",
       "      <td>[P. VERGILI MARONIS AENEIDOS LIBER VNDECIMVS\\n...</td>\n",
       "      <td>[P, VERGILI, MARONIS, AENEIDOS, LIBER, VNDECIM...</td>\n",
       "      <td>5923</td>\n",
       "    </tr>\n",
       "    <tr>\n",
       "      <th>614</th>\n",
       "      <td>Aeneid IV</td>\n",
       "      <td>P. VERGILI MARONIS AENEIDOS LIBER QVARTVS  At ...</td>\n",
       "      <td>[P. VERGILI MARONIS AENEIDOS LIBER QVARTVS\\n, ...</td>\n",
       "      <td>[P, VERGILI, MARONIS, AENEIDOS, LIBER, QVARTVS...</td>\n",
       "      <td>4580</td>\n",
       "    </tr>\n",
       "    <tr>\n",
       "      <th>615</th>\n",
       "      <td>P. VERGILI MARONIS AENEIDOS LIBER SEXTVS</td>\n",
       "      <td>P. VERGILI MARONIS AENEIDOS LIBER SEXTVS  Sic ...</td>\n",
       "      <td>[P. VERGILI MARONIS AENEIDOS LIBER SEXTVS\\n, \\...</td>\n",
       "      <td>[P, VERGILI, MARONIS, AENEIDOS, LIBER, SEXTVS,...</td>\n",
       "      <td>5856</td>\n",
       "    </tr>\n",
       "    <tr>\n",
       "      <th>616</th>\n",
       "      <td>P. VERGILI MARONIS AENEIDOS LIBER QVINTVS</td>\n",
       "      <td>P. VERGILI MARONIS AENEIDOS LIBER QVINTVS  Int...</td>\n",
       "      <td>[P. VERGILI MARONIS AENEIDOS LIBER QVINTVS\\n, ...</td>\n",
       "      <td>[P, VERGILI, MARONIS, AENEIDOS, LIBER, QVINTVS...</td>\n",
       "      <td>5565</td>\n",
       "    </tr>\n",
       "    <tr>\n",
       "      <th>617</th>\n",
       "      <td>P. VERGILI MARONIS AENEIDOS LIBER SECVNDVS</td>\n",
       "      <td>P. VERGILI MARONIS AENEIDOS LIBER SECVNDVS  Co...</td>\n",
       "      <td>[P. VERGILI MARONIS AENEIDOS LIBER SECVNDVS\\n,...</td>\n",
       "      <td>[P, VERGILI, MARONIS, AENEIDOS, LIBER, SECVNDV...</td>\n",
       "      <td>5178</td>\n",
       "    </tr>\n",
       "    <tr>\n",
       "      <th>618</th>\n",
       "      <td>Vergil: Aeneid I</td>\n",
       "      <td>P. VERGILI MARONIS AENEIDOS LIBER PRIMVS  Arma...</td>\n",
       "      <td>[P. VERGILI MARONIS AENEIDOS LIBER PRIMVS, \\n\\...</td>\n",
       "      <td>[P, VERGILI, MARONIS, AENEIDOS, LIBER, PRIMVS,...</td>\n",
       "      <td>4886</td>\n",
       "    </tr>\n",
       "    <tr>\n",
       "      <th>620</th>\n",
       "      <td>P. VERGILI MARONIS AENEIDOS LIBER TERTIVS</td>\n",
       "      <td>P. VERGILI MARONIS AENEIDOS LIBER TERTIVS  Pos...</td>\n",
       "      <td>[P. VERGILI MARONIS AENEIDOS LIBER TERTIVS\\n, ...</td>\n",
       "      <td>[P, VERGILI, MARONIS, AENEIDOS, LIBER, TERTIVS...</td>\n",
       "      <td>4539</td>\n",
       "    </tr>\n",
       "  </tbody>\n",
       "</table>\n",
       "</div>"
      ],
      "text/plain": [
       "                                            title  \\\n",
       "608  P. VERGILI MARONIS AENEIDOS LIBER DVODECIMVS   \n",
       "609     P. VERGILI MARONIS AENEIDOS LIBER DECIMVS   \n",
       "610       P. VERGILI MARONIS AENEIDOS LIBER NONVS   \n",
       "611     P. VERGILI MARONIS AENEIDOS LIBER OCTAVVS   \n",
       "612    P. VERGILI MARONIS AENEIDOS LIBER SEPTIMVS   \n",
       "613   P. VERGILI MARONIS AENEIDOS LIBER VNDECIMVS   \n",
       "614                                     Aeneid IV   \n",
       "615      P. VERGILI MARONIS AENEIDOS LIBER SEXTVS   \n",
       "616     P. VERGILI MARONIS AENEIDOS LIBER QVINTVS   \n",
       "617    P. VERGILI MARONIS AENEIDOS LIBER SECVNDVS   \n",
       "618                              Vergil: Aeneid I   \n",
       "620     P. VERGILI MARONIS AENEIDOS LIBER TERTIVS   \n",
       "\n",
       "                                                  text  \\\n",
       "608  P. VERGILI MARONIS AENEIDOS LIBER DVODECIMVS  ...   \n",
       "609  P. VERGILI MARONIS AENEIDOS LIBER DECIMVS  Pan...   \n",
       "610  P. VERGILI MARONIS AENEIDOS LIBER NONVS  Atque...   \n",
       "611  P. VERGILI MARONIS AENEIDOS LIBER OCTAVVS  Ut ...   \n",
       "612  P. VERGILI MARONIS AENEIDOS LIBER SEPTIMVS  Tu...   \n",
       "613  P. VERGILI MARONIS AENEIDOS LIBER VNDECIMVS  O...   \n",
       "614  P. VERGILI MARONIS AENEIDOS LIBER QVARTVS  At ...   \n",
       "615  P. VERGILI MARONIS AENEIDOS LIBER SEXTVS  Sic ...   \n",
       "616  P. VERGILI MARONIS AENEIDOS LIBER QVINTVS  Int...   \n",
       "617  P. VERGILI MARONIS AENEIDOS LIBER SECVNDVS  Co...   \n",
       "618  P. VERGILI MARONIS AENEIDOS LIBER PRIMVS  Arma...   \n",
       "620  P. VERGILI MARONIS AENEIDOS LIBER TERTIVS  Pos...   \n",
       "\n",
       "                                              text_raw  \\\n",
       "608  [P. VERGILI MARONIS AENEIDOS LIBER DVODECIMVS\\...   \n",
       "609  [P. VERGILI MARONIS AENEIDOS LIBER DECIMVS\\n, ...   \n",
       "610  [P. VERGILI MARONIS AENEIDOS LIBER NONVS\\n, \\n...   \n",
       "611  [P. VERGILI MARONIS AENEIDOS LIBER OCTAVVS\\n\\n...   \n",
       "612  [P. VERGILI MARONIS AENEIDOS LIBER SEPTIMVS\\n,...   \n",
       "613  [P. VERGILI MARONIS AENEIDOS LIBER VNDECIMVS\\n...   \n",
       "614  [P. VERGILI MARONIS AENEIDOS LIBER QVARTVS\\n, ...   \n",
       "615  [P. VERGILI MARONIS AENEIDOS LIBER SEXTVS\\n, \\...   \n",
       "616  [P. VERGILI MARONIS AENEIDOS LIBER QVINTVS\\n, ...   \n",
       "617  [P. VERGILI MARONIS AENEIDOS LIBER SECVNDVS\\n,...   \n",
       "618  [P. VERGILI MARONIS AENEIDOS LIBER PRIMVS, \\n\\...   \n",
       "620  [P. VERGILI MARONIS AENEIDOS LIBER TERTIVS\\n, ...   \n",
       "\n",
       "                                                tokens  token_count  \n",
       "608  [P, VERGILI, MARONIS, AENEIDOS, LIBER, DVODECI...         6201  \n",
       "609  [P, VERGILI, MARONIS, AENEIDOS, LIBER, DECIMVS...         5905  \n",
       "610  [P, VERGILI, MARONIS, AENEIDOS, LIBER, NONVS, ...         5300  \n",
       "611  [P, VERGILI, MARONIS, AENEIDOS, LIBER, OCTAVVS...         4639  \n",
       "612  [P, VERGILI, MARONIS, AENEIDOS, LIBER, SEPTIMV...         5224  \n",
       "613  [P, VERGILI, MARONIS, AENEIDOS, LIBER, VNDECIM...         5923  \n",
       "614  [P, VERGILI, MARONIS, AENEIDOS, LIBER, QVARTVS...         4580  \n",
       "615  [P, VERGILI, MARONIS, AENEIDOS, LIBER, SEXTVS,...         5856  \n",
       "616  [P, VERGILI, MARONIS, AENEIDOS, LIBER, QVINTVS...         5565  \n",
       "617  [P, VERGILI, MARONIS, AENEIDOS, LIBER, SECVNDV...         5178  \n",
       "618  [P, VERGILI, MARONIS, AENEIDOS, LIBER, PRIMVS,...         4886  \n",
       "620  [P, VERGILI, MARONIS, AENEIDOS, LIBER, TERTIVS...         4539  "
      ]
     },
     "execution_count": 16,
     "metadata": {},
     "output_type": "execute_result"
    }
   ],
   "source": [
    "aeneid"
   ]
  },
  {
   "cell_type": "code",
   "execution_count": 17,
   "metadata": {},
   "outputs": [
    {
     "data": {
      "text/plain": [
       "[964, 920, 825, 741, 833, 924, 715, 905, 880, 811, 767, 727]"
      ]
     },
     "execution_count": 17,
     "metadata": {},
     "output_type": "execute_result"
    }
   ],
   "source": [
    "[len(x) for x in aeneid.text_raw]\n",
    "#this gets me how many lines per-work there are "
   ]
  },
  {
   "cell_type": "code",
   "execution_count": 18,
   "metadata": {},
   "outputs": [
    {
     "name": "stdout",
     "output_type": "stream",
     "text": [
      "10012\n"
     ]
    }
   ],
   "source": [
    "count = 0\n",
    "for i in aeneid.text_raw:\n",
    "    count += len(i)\n",
    "print(count) #this is how many lines are in the aeneid in total"
   ]
  },
  {
   "cell_type": "code",
   "execution_count": 19,
   "metadata": {},
   "outputs": [],
   "source": [
    "def MaxLineLength(l):\n",
    "    return(len(max(l, key=len)))"
   ]
  },
  {
   "cell_type": "code",
   "execution_count": 20,
   "metadata": {},
   "outputs": [
    {
     "data": {
      "text/plain": [
       "87"
      ]
     },
     "execution_count": 20,
     "metadata": {},
     "output_type": "execute_result"
    }
   ],
   "source": [
    "max(aeneid.text_raw.map(MaxLineLength))\n",
    "#so the longest line is 87 characters long, that's my threshold for a verse line (depending on Ovid I guess)"
   ]
  },
  {
   "cell_type": "code",
   "execution_count": 21,
   "metadata": {},
   "outputs": [
    {
     "data": {
      "text/plain": [
       "81"
      ]
     },
     "execution_count": 21,
     "metadata": {},
     "output_type": "execute_result"
    }
   ],
   "source": [
    "max(metamorphoses_ovid.text_raw.map(MaxLineLength)) #yep, 87 it is!"
   ]
  },
  {
   "cell_type": "markdown",
   "metadata": {},
   "source": [
    "now to actually use that number to quantify prose v. verse!"
   ]
  },
  {
   "cell_type": "code",
   "execution_count": 22,
   "metadata": {},
   "outputs": [],
   "source": [
    "latlib_df['max_line_length'] = latlib_df.text_raw.map(MaxLineLength)"
   ]
  },
  {
   "cell_type": "code",
   "execution_count": 23,
   "metadata": {},
   "outputs": [
    {
     "data": {
      "text/html": [
       "<div>\n",
       "<style scoped>\n",
       "    .dataframe tbody tr th:only-of-type {\n",
       "        vertical-align: middle;\n",
       "    }\n",
       "\n",
       "    .dataframe tbody tr th {\n",
       "        vertical-align: top;\n",
       "    }\n",
       "\n",
       "    .dataframe thead th {\n",
       "        text-align: right;\n",
       "    }\n",
       "</style>\n",
       "<table border=\"1\" class=\"dataframe\">\n",
       "  <thead>\n",
       "    <tr style=\"text-align: right;\">\n",
       "      <th></th>\n",
       "      <th>title</th>\n",
       "      <th>text</th>\n",
       "      <th>text_raw</th>\n",
       "      <th>tokens</th>\n",
       "      <th>token_count</th>\n",
       "      <th>max_line_length</th>\n",
       "    </tr>\n",
       "  </thead>\n",
       "  <tbody>\n",
       "    <tr>\n",
       "      <th>0</th>\n",
       "      <td>Seneca the Elder</td>\n",
       "      <td>L. ANNAEI SENECAE MAIORIS EXCERPTA CONTROVERSI...</td>\n",
       "      <td>[L. ANNAEI SENECAE MAIORIS EXCERPTA CONTROVERS...</td>\n",
       "      <td>[L, ANNAEI, SENECAE, MAIORIS, EXCERPTA, CONTRO...</td>\n",
       "      <td>1768</td>\n",
       "      <td>2045</td>\n",
       "    </tr>\n",
       "    <tr>\n",
       "      <th>1</th>\n",
       "      <td>Tibullus Book III</td>\n",
       "      <td>LIBER TERTIVS LYGDAMI ALIORVMQUE ELEGIAE   Mar...</td>\n",
       "      <td>[LIBER TERTIVS LYGDAMI ALIORVMQUE ELEGIAE, \\n,...</td>\n",
       "      <td>[LIBER, TERTIVS, LYGDAMI, ALIORVMQUE, ELEGIAE,...</td>\n",
       "      <td>4395</td>\n",
       "      <td>70</td>\n",
       "    </tr>\n",
       "    <tr>\n",
       "      <th>2</th>\n",
       "      <td>Tibullus Book II</td>\n",
       "      <td>A. TIBVLLI ELEGIAE LIBER SECVNDVS   Quisquis a...</td>\n",
       "      <td>[A. TIBVLLI ELEGIAE LIBER SECVNDVS, \\n, \\n, \\n...</td>\n",
       "      <td>[A, TIBVLLI, ELEGIAE, LIBER, SECVNDVS, Quisqui...</td>\n",
       "      <td>2747</td>\n",
       "      <td>56</td>\n",
       "    </tr>\n",
       "    <tr>\n",
       "      <th>3</th>\n",
       "      <td>Seneca the Elder</td>\n",
       "      <td>L. ANNAEI SENECAE MAIORIS EXCERPTA CONTROVERSI...</td>\n",
       "      <td>[L. ANNAEI SENECAE MAIORIS EXCERPTA CONTROVERS...</td>\n",
       "      <td>[L, ANNAEI, SENECAE, MAIORIS, EXCERPTA, CONTRO...</td>\n",
       "      <td>1933</td>\n",
       "      <td>1165</td>\n",
       "    </tr>\n",
       "    <tr>\n",
       "      <th>4</th>\n",
       "      <td>Statius: Achilleid II</td>\n",
       "      <td>PVBLIVS PAPINIVS STATIVS ACHILLEID II Exuit im...</td>\n",
       "      <td>[PVBLIVS PAPINIVS STATIVS, \\nACHILLEID II\\n, \\...</td>\n",
       "      <td>[PVBLIVS, PAPINIVS, STATIVS, ACHILLEID, II, Ex...</td>\n",
       "      <td>1075</td>\n",
       "      <td>71</td>\n",
       "    </tr>\n",
       "  </tbody>\n",
       "</table>\n",
       "</div>"
      ],
      "text/plain": [
       "                   title                                               text  \\\n",
       "0       Seneca the Elder  L. ANNAEI SENECAE MAIORIS EXCERPTA CONTROVERSI...   \n",
       "1      Tibullus Book III  LIBER TERTIVS LYGDAMI ALIORVMQUE ELEGIAE   Mar...   \n",
       "2       Tibullus Book II  A. TIBVLLI ELEGIAE LIBER SECVNDVS   Quisquis a...   \n",
       "3       Seneca the Elder  L. ANNAEI SENECAE MAIORIS EXCERPTA CONTROVERSI...   \n",
       "4  Statius: Achilleid II  PVBLIVS PAPINIVS STATIVS ACHILLEID II Exuit im...   \n",
       "\n",
       "                                            text_raw  \\\n",
       "0  [L. ANNAEI SENECAE MAIORIS EXCERPTA CONTROVERS...   \n",
       "1  [LIBER TERTIVS LYGDAMI ALIORVMQUE ELEGIAE, \\n,...   \n",
       "2  [A. TIBVLLI ELEGIAE LIBER SECVNDVS, \\n, \\n, \\n...   \n",
       "3  [L. ANNAEI SENECAE MAIORIS EXCERPTA CONTROVERS...   \n",
       "4  [PVBLIVS PAPINIVS STATIVS, \\nACHILLEID II\\n, \\...   \n",
       "\n",
       "                                              tokens  token_count  \\\n",
       "0  [L, ANNAEI, SENECAE, MAIORIS, EXCERPTA, CONTRO...         1768   \n",
       "1  [LIBER, TERTIVS, LYGDAMI, ALIORVMQUE, ELEGIAE,...         4395   \n",
       "2  [A, TIBVLLI, ELEGIAE, LIBER, SECVNDVS, Quisqui...         2747   \n",
       "3  [L, ANNAEI, SENECAE, MAIORIS, EXCERPTA, CONTRO...         1933   \n",
       "4  [PVBLIVS, PAPINIVS, STATIVS, ACHILLEID, II, Ex...         1075   \n",
       "\n",
       "   max_line_length  \n",
       "0             2045  \n",
       "1               70  \n",
       "2               56  \n",
       "3             1165  \n",
       "4               71  "
      ]
     },
     "execution_count": 23,
     "metadata": {},
     "output_type": "execute_result"
    }
   ],
   "source": [
    "latlib_df.head(5)"
   ]
  },
  {
   "cell_type": "code",
   "execution_count": 24,
   "metadata": {},
   "outputs": [],
   "source": [
    "latlib_df.drop(latlib_df.index[latlib_df['token_count']<=10], inplace=True)\n"
   ]
  },
  {
   "cell_type": "code",
   "execution_count": 25,
   "metadata": {},
   "outputs": [],
   "source": [
    "def Poems(l):\n",
    "    if l <= 87:\n",
    "        return('verse')\n",
    "    else:\n",
    "        return('prose')\n"
   ]
  },
  {
   "cell_type": "code",
   "execution_count": 26,
   "metadata": {},
   "outputs": [],
   "source": [
    "latlib_df['style'] = latlib_df.max_line_length.map(Poems)"
   ]
  },
  {
   "cell_type": "markdown",
   "metadata": {},
   "source": [
    "## below I'm going to add the aspects of ne_df to latlib_df for easier analysis:"
   ]
  },
  {
   "cell_type": "code",
   "execution_count": 27,
   "metadata": {},
   "outputs": [],
   "source": [
    "ne_df['name'] = [w[:-2] for w in ne_df.name]"
   ]
  },
  {
   "cell_type": "code",
   "execution_count": 28,
   "metadata": {},
   "outputs": [],
   "source": [
    "def MatchName(l):\n",
    "    for name in ne_df.name:\n",
    "        last_word = name.split()[len(name.split()) - 1]\n",
    "        if last_word in l:\n",
    "            return name\n",
    "            return \"None\""
   ]
  },
  {
   "cell_type": "code",
   "execution_count": 29,
   "metadata": {},
   "outputs": [],
   "source": [
    "latlib_df['author'] = latlib_df.text.map(MatchName)"
   ]
  },
  {
   "cell_type": "markdown",
   "metadata": {},
   "source": [
    "to put the eras in the main df it's not going to be elegant, but I want to move on with my analysis so I'm going to merge the info into a new column for an easier method:"
   ]
  },
  {
   "cell_type": "code",
   "execution_count": 30,
   "metadata": {},
   "outputs": [],
   "source": [
    "ne_df['merged'] = ne_df['era']+ne_df['name']"
   ]
  },
  {
   "cell_type": "code",
   "execution_count": 31,
   "metadata": {},
   "outputs": [],
   "source": [
    "def MatchEra(l):\n",
    "    for x in ne_df.merged:\n",
    "        last_word = x.split()[len(x.split()) - 1]\n",
    "        if last_word in l:\n",
    "            clean = re.compile(r'\\)\\w* \\w* \\w*|\\)\\w* \\w*|\\)\\w+\\. \\w* \\w*|\\)\\w+|\\(')\n",
    "            return(clean.sub(' ', x))\n",
    "        "
   ]
  },
  {
   "cell_type": "code",
   "execution_count": 32,
   "metadata": {},
   "outputs": [],
   "source": [
    "latlib_df['life_span'] = latlib_df.text.map(MatchEra)"
   ]
  },
  {
   "cell_type": "code",
   "execution_count": 33,
   "metadata": {},
   "outputs": [],
   "source": [
    "latlib_df = latlib_df.fillna('none') #just in case, I think there's some Suetonius that's wonky"
   ]
  },
  {
   "cell_type": "markdown",
   "metadata": {},
   "source": [
    "That wasn't very pretty, but it did the trick and now the df itself looks nice!"
   ]
  },
  {
   "cell_type": "code",
   "execution_count": 34,
   "metadata": {},
   "outputs": [
    {
     "data": {
      "text/html": [
       "<div>\n",
       "<style scoped>\n",
       "    .dataframe tbody tr th:only-of-type {\n",
       "        vertical-align: middle;\n",
       "    }\n",
       "\n",
       "    .dataframe tbody tr th {\n",
       "        vertical-align: top;\n",
       "    }\n",
       "\n",
       "    .dataframe thead th {\n",
       "        text-align: right;\n",
       "    }\n",
       "</style>\n",
       "<table border=\"1\" class=\"dataframe\">\n",
       "  <thead>\n",
       "    <tr style=\"text-align: right;\">\n",
       "      <th></th>\n",
       "      <th>title</th>\n",
       "      <th>text</th>\n",
       "      <th>text_raw</th>\n",
       "      <th>tokens</th>\n",
       "      <th>token_count</th>\n",
       "      <th>max_line_length</th>\n",
       "      <th>style</th>\n",
       "      <th>author</th>\n",
       "      <th>life_span</th>\n",
       "    </tr>\n",
       "  </thead>\n",
       "  <tbody>\n",
       "    <tr>\n",
       "      <th>325</th>\n",
       "      <td>Eutropius: Book II</td>\n",
       "      <td>EVTROPII BREVIARIVM LIBER SECVNDVS            ...</td>\n",
       "      <td>[EVTROPII BREVIARIVM LIBER SECVNDVS\\n, \\n,  , ...</td>\n",
       "      <td>[EVTROPII, BREVIARIVM, LIBER, SECVNDVS, 1, Ann...</td>\n",
       "      <td>2225</td>\n",
       "      <td>377</td>\n",
       "      <td>prose</td>\n",
       "      <td>C. PLINIVS CAECILIVS SECVND</td>\n",
       "      <td>63 – c. 113 A.D.  SECVND</td>\n",
       "    </tr>\n",
       "    <tr>\n",
       "      <th>484</th>\n",
       "      <td>Nepos: Life of Phocion</td>\n",
       "      <td>CORNELI NEPOTIS PHOCION [1]  PHOCION Atheniens...</td>\n",
       "      <td>[CORNELI NEPOTIS PHOCION\\n\\n, \\n[1]  PHOCION A...</td>\n",
       "      <td>[CORNELI, NEPOTIS, PHOCION, 1, PHOCION, Atheni...</td>\n",
       "      <td>547</td>\n",
       "      <td>336</td>\n",
       "      <td>prose</td>\n",
       "      <td>CORNELIVS NEP</td>\n",
       "      <td>c. 100 – 24 B.C.</td>\n",
       "    </tr>\n",
       "    <tr>\n",
       "      <th>142</th>\n",
       "      <td>Seneca: On Tranquility of the Mind</td>\n",
       "      <td>L. ANNAEI SENECAE AD SERENVM DE TRANQUILLITATE...</td>\n",
       "      <td>[L. ANNAEI SENECAE AD SERENVM DE TRANQUILLITAT...</td>\n",
       "      <td>[L, ANNAEI, SENECAE, AD, SERENVM, DE, TRANQUIL...</td>\n",
       "      <td>6946</td>\n",
       "      <td>752</td>\n",
       "      <td>prose</td>\n",
       "      <td>L. ANNAEVS SENE</td>\n",
       "      <td>c. 4 B.C. – A.D. 65</td>\n",
       "    </tr>\n",
       "    <tr>\n",
       "      <th>195</th>\n",
       "      <td>Tacitus: Annales III</td>\n",
       "      <td>P. CORNELI TACITI ANNALIVM LIBER TERTIVS      ...</td>\n",
       "      <td>[P. CORNELI TACITI ANNALIVM LIBER TERTIVS\\n, \\...</td>\n",
       "      <td>[P, CORNELI, TACITI, ANNALIVM, LIBER, TERTIVS,...</td>\n",
       "      <td>9274</td>\n",
       "      <td>1946</td>\n",
       "      <td>prose</td>\n",
       "      <td>P. CORNELIVS TACIT</td>\n",
       "      <td>c. 56 – c. 117 A.D.</td>\n",
       "    </tr>\n",
       "    <tr>\n",
       "      <th>369</th>\n",
       "      <td>Horace: Carmen Saeculare</td>\n",
       "      <td>Q. HORATII FLACCI CARMEN SAECVLARE Phoebe silv...</td>\n",
       "      <td>[Q. HORATII FLACCI CARMEN SAECVLARE\\n, \\nPhoeb...</td>\n",
       "      <td>[Q, HORATII, FLACCI, CARMEN, SAECVLARE, Phoebe...</td>\n",
       "      <td>316</td>\n",
       "      <td>52</td>\n",
       "      <td>verse</td>\n",
       "      <td>GAIVS VALERIVS FLACC</td>\n",
       "      <td>died c. 90 A.D.</td>\n",
       "    </tr>\n",
       "  </tbody>\n",
       "</table>\n",
       "</div>"
      ],
      "text/plain": [
       "                                  title  \\\n",
       "325                  Eutropius: Book II   \n",
       "484              Nepos: Life of Phocion   \n",
       "142  Seneca: On Tranquility of the Mind   \n",
       "195                Tacitus: Annales III   \n",
       "369            Horace: Carmen Saeculare   \n",
       "\n",
       "                                                  text  \\\n",
       "325  EVTROPII BREVIARIVM LIBER SECVNDVS            ...   \n",
       "484  CORNELI NEPOTIS PHOCION [1]  PHOCION Atheniens...   \n",
       "142  L. ANNAEI SENECAE AD SERENVM DE TRANQUILLITATE...   \n",
       "195  P. CORNELI TACITI ANNALIVM LIBER TERTIVS      ...   \n",
       "369  Q. HORATII FLACCI CARMEN SAECVLARE Phoebe silv...   \n",
       "\n",
       "                                              text_raw  \\\n",
       "325  [EVTROPII BREVIARIVM LIBER SECVNDVS\\n, \\n,  , ...   \n",
       "484  [CORNELI NEPOTIS PHOCION\\n\\n, \\n[1]  PHOCION A...   \n",
       "142  [L. ANNAEI SENECAE AD SERENVM DE TRANQUILLITAT...   \n",
       "195  [P. CORNELI TACITI ANNALIVM LIBER TERTIVS\\n, \\...   \n",
       "369  [Q. HORATII FLACCI CARMEN SAECVLARE\\n, \\nPhoeb...   \n",
       "\n",
       "                                                tokens  token_count  \\\n",
       "325  [EVTROPII, BREVIARIVM, LIBER, SECVNDVS, 1, Ann...         2225   \n",
       "484  [CORNELI, NEPOTIS, PHOCION, 1, PHOCION, Atheni...          547   \n",
       "142  [L, ANNAEI, SENECAE, AD, SERENVM, DE, TRANQUIL...         6946   \n",
       "195  [P, CORNELI, TACITI, ANNALIVM, LIBER, TERTIVS,...         9274   \n",
       "369  [Q, HORATII, FLACCI, CARMEN, SAECVLARE, Phoebe...          316   \n",
       "\n",
       "     max_line_length  style                       author  \\\n",
       "325              377  prose  C. PLINIVS CAECILIVS SECVND   \n",
       "484              336  prose                CORNELIVS NEP   \n",
       "142              752  prose              L. ANNAEVS SENE   \n",
       "195             1946  prose           P. CORNELIVS TACIT   \n",
       "369               52  verse         GAIVS VALERIVS FLACC   \n",
       "\n",
       "                     life_span  \n",
       "325   63 – c. 113 A.D.  SECVND  \n",
       "484          c. 100 – 24 B.C.   \n",
       "142       c. 4 B.C. – A.D. 65   \n",
       "195       c. 56 – c. 117 A.D.   \n",
       "369           died c. 90 A.D.   "
      ]
     },
     "execution_count": 34,
     "metadata": {},
     "output_type": "execute_result"
    }
   ],
   "source": [
    "latlib_df.sample(5)"
   ]
  },
  {
   "cell_type": "markdown",
   "metadata": {},
   "source": [
    "let's split life spans into actual eras (Golden Age, Silver Age, Later):"
   ]
  },
  {
   "cell_type": "code",
   "execution_count": 35,
   "metadata": {},
   "outputs": [],
   "source": [
    "def SortEra(l):\n",
    "    if 'B.C.' in l and 'A.D.' not in l:\n",
    "        return('Golden Age')\n",
    "    elif 'A.D.' in l and 'B.C.' not in l:\n",
    "        if 'century' in l:\n",
    "            if '3' in l or '4' in l:\n",
    "                return('Later')\n",
    "            elif '1' in l or '2' in l:\n",
    "                return('Silver Age')\n",
    "        elif 'century' not in l:\n",
    "            if '404' in l or '180' in l: #this does feel kind of like cheating but tbh I just needed something to work\n",
    "                return('Later')\n",
    "            else:\n",
    "                return(\"Silver Age\")\n",
    "    elif 'B.C.' in l and 'A.D.' in l:\n",
    "        return('Gold and Silver Ages')\n",
    "\n",
    "        #return('silver and later')\n",
    "    else:\n",
    "        return('none')"
   ]
  },
  {
   "cell_type": "code",
   "execution_count": 36,
   "metadata": {},
   "outputs": [],
   "source": [
    "latlib_df['era'] = latlib_df.life_span.map(SortEra)"
   ]
  },
  {
   "cell_type": "markdown",
   "metadata": {},
   "source": [
    "Here's a visual representation of the era split:"
   ]
  },
  {
   "cell_type": "code",
   "execution_count": 37,
   "metadata": {},
   "outputs": [],
   "source": [
    "labels = \"Golden Age\", \"Silver Age\", \"Later\", \"Gold and Silver Ages\"\n",
    "G = len(latlib_df[latlib_df.era=='Golden Age'])\n",
    "S = len(latlib_df[latlib_df.era=='Silver Age'])\n",
    "L = len(latlib_df[latlib_df.era=='Later'])\n",
    "GaS = len(latlib_df[latlib_df.era=='Gold and Silver Ages'])\n",
    "nums = [G, S, L, GaS]"
   ]
  },
  {
   "cell_type": "code",
   "execution_count": 177,
   "metadata": {},
   "outputs": [
    {
     "data": {
      "image/png": "[encoded data removed]",
      "text/plain": [
       "<Figure size 432x288 with 1 Axes>"
      ]
     },
     "metadata": {},
     "output_type": "display_data"
    },
    {
     "data": {
      "text/plain": [
       "<Figure size 432x288 with 0 Axes>"
      ]
     },
     "metadata": {},
     "output_type": "display_data"
    }
   ],
   "source": [
    "plt.pie(nums, labels=labels, autopct='%1.1f%%')\n",
    "plt.show()\n",
    "plt.savefig('/Users/francesharrington/Documents/ling1340/Latin-Vocabulary-Analysis/Images/era_split.png')"
   ]
  },
  {
   "cell_type": "markdown",
   "metadata": {},
   "source": [
    "## sword word analysis:"
   ]
  },
  {
   "cell_type": "code",
   "execution_count": 39,
   "metadata": {},
   "outputs": [],
   "source": [
    "#latlib_df['term'] = ''"
   ]
  },
  {
   "cell_type": "code",
   "execution_count": 40,
   "metadata": {},
   "outputs": [],
   "source": [
    "#gladius:\n",
    "gladius = latlib_df[(latlib_df.text.str.contains(pat = 'gladius', case=False)) | (latlib_df.text.str.contains(pat = 'gladii', case=False)) | (latlib_df.text.str.contains(pat = 'gladi', case=False)) | (latlib_df.text.str.contains(pat = 'gladio', case=False)) | (latlib_df.text.str.contains(pat = 'gladium', case=False)) | (latlib_df.text.str.contains(pat = 'gladie', case=False)) | (latlib_df.text.str.contains(pat = 'gladiorum', case=False)) | (latlib_df.text.str.contains(pat = 'gladiis', case=False)) | (latlib_df.text.str.contains(pat = 'gladios', case=False))]"
   ]
  },
  {
   "cell_type": "code",
   "execution_count": 41,
   "metadata": {},
   "outputs": [],
   "source": [
    "#ferrum:\n",
    "ferrum = latlib_df[(latlib_df.text.str.contains(pat = 'ferrum', case=False)) | (latlib_df.text.str.contains(pat = 'ferri', case=False)) | (latlib_df.text.str.contains(pat = 'ferro', case=False)) | (latlib_df.text.str.contains(pat = 'ferra', case=False)) | (latlib_df.text.str.contains(pat = 'ferrorum', case=False)) | (latlib_df.text.str.contains(pat = 'ferris', case=False))]"
   ]
  },
  {
   "cell_type": "code",
   "execution_count": 42,
   "metadata": {},
   "outputs": [],
   "source": [
    "#mucro:\n",
    "mucro = latlib_df[(latlib_df.text.str.contains(pat = 'mucro', case=False)) | (latlib_df.text.str.contains(pat = 'mucronis', case=False)) | (latlib_df.text.str.contains(pat = 'mucroni', case=False)) | (latlib_df.text.str.contains(pat = 'mucronem', case=False)) | (latlib_df.text.str.contains(pat = 'mucrone', case=False)) | (latlib_df.text.str.contains(pat = 'mucrones', case=False)) | (latlib_df.text.str.contains(pat = 'mucronum', case=False)) | (latlib_df.text.str.contains(pat = 'mucronibus', case=False))]"
   ]
  },
  {
   "cell_type": "code",
   "execution_count": 43,
   "metadata": {},
   "outputs": [],
   "source": [
    "#ensis:\n",
    "ensis = latlib_df[(latlib_df.text.str.contains(pat = 'ensis', case=False)) | (latlib_df.text.str.contains(pat = 'ensi', case=False)) | (latlib_df.text.str.contains(pat = 'ensem', case=False)) | (latlib_df.text.str.contains(pat = 'ense', case=False)) | (latlib_df.text.str.contains(pat = 'enses', case=False)) | (latlib_df.text.str.contains(pat = 'ensium', case=False)) | (latlib_df.text.str.contains(pat = 'ensibus', case=False))]"
   ]
  },
  {
   "cell_type": "code",
   "execution_count": 44,
   "metadata": {},
   "outputs": [],
   "source": [
    "#capulus:\n",
    "capulus = latlib_df[(latlib_df.text.str.contains(pat = 'capulus', case=False)) | (latlib_df.text.str.contains(pat = 'capuli', case=False)) | (latlib_df.text.str.contains(pat = 'capulo', case=False)) | (latlib_df.text.str.contains(pat = 'capulum', case=False)) | (latlib_df.text.str.contains(pat = 'capulorum', case=False)) | (latlib_df.text.str.contains(pat = 'capulis', case=False)) | (latlib_df.text.str.contains(pat = 'capulos', case=False))]"
   ]
  },
  {
   "cell_type": "code",
   "execution_count": 45,
   "metadata": {},
   "outputs": [
    {
     "name": "stdout",
     "output_type": "stream",
     "text": [
      "gladius:  278\n",
      "ferrum:  463\n",
      "mucro:  90\n",
      "ensis:  574\n",
      "capulus:  48\n"
     ]
    }
   ],
   "source": [
    "#let's see how many occurences of each word there are:\n",
    "print('gladius: ',len(gladius))\n",
    "print('ferrum: ',len(ferrum))\n",
    "print('mucro: ',len(mucro))\n",
    "print('ensis: ',len(ensis))\n",
    "print('capulus: ',len(capulus)) #'capulus' is the least common, only appearing 48 times, let's look at that data!"
   ]
  },
  {
   "cell_type": "code",
   "execution_count": 46,
   "metadata": {},
   "outputs": [
    {
     "data": {
      "text/html": [
       "<div>\n",
       "<style scoped>\n",
       "    .dataframe tbody tr th:only-of-type {\n",
       "        vertical-align: middle;\n",
       "    }\n",
       "\n",
       "    .dataframe tbody tr th {\n",
       "        vertical-align: top;\n",
       "    }\n",
       "\n",
       "    .dataframe thead th {\n",
       "        text-align: right;\n",
       "    }\n",
       "</style>\n",
       "<table border=\"1\" class=\"dataframe\">\n",
       "  <thead>\n",
       "    <tr style=\"text-align: right;\">\n",
       "      <th></th>\n",
       "      <th>title</th>\n",
       "      <th>text</th>\n",
       "      <th>text_raw</th>\n",
       "      <th>tokens</th>\n",
       "      <th>token_count</th>\n",
       "      <th>max_line_length</th>\n",
       "      <th>style</th>\n",
       "      <th>author</th>\n",
       "      <th>life_span</th>\n",
       "      <th>era</th>\n",
       "    </tr>\n",
       "  </thead>\n",
       "  <tbody>\n",
       "    <tr>\n",
       "      <th>4</th>\n",
       "      <td>Statius: Achilleid II</td>\n",
       "      <td>PVBLIVS PAPINIVS STATIVS ACHILLEID II Exuit im...</td>\n",
       "      <td>[PVBLIVS PAPINIVS STATIVS, \\nACHILLEID II\\n, \\...</td>\n",
       "      <td>[PVBLIVS, PAPINIVS, STATIVS, ACHILLEID, II, Ex...</td>\n",
       "      <td>1075</td>\n",
       "      <td>71</td>\n",
       "      <td>verse</td>\n",
       "      <td>PVBLIVS PAPINIVS STATI</td>\n",
       "      <td>c. 45 – 96 A.D.</td>\n",
       "      <td>Silver Age</td>\n",
       "    </tr>\n",
       "    <tr>\n",
       "      <th>23</th>\n",
       "      <td>Plautus: Truculentus</td>\n",
       "      <td>T. MACCI PLAVTI TRVCVLENTVS              res u...</td>\n",
       "      <td>[T. MACCI PLAVTI TRVCVLENTVS, \\n, \\n, \\n, \\n, ...</td>\n",
       "      <td>[T, MACCI, PLAVTI, TRVCVLENTVS, res, unam, per...</td>\n",
       "      <td>8025</td>\n",
       "      <td>84</td>\n",
       "      <td>verse</td>\n",
       "      <td>T. MACCIVS PLAVT</td>\n",
       "      <td>born c. 254 B.C.</td>\n",
       "      <td>Golden Age</td>\n",
       "    </tr>\n",
       "    <tr>\n",
       "      <th>26</th>\n",
       "      <td>Plautus: Trinummus</td>\n",
       "      <td>T. MACCI PLAVTI TRINVMMVS                hensa...</td>\n",
       "      <td>[T. MACCI PLAVTI TRINVMMVS, \\n, \\n, \\n, \\n, \\n...</td>\n",
       "      <td>[T, MACCI, PLAVTI, TRINVMMVS, hensaurum, abstr...</td>\n",
       "      <td>9529</td>\n",
       "      <td>104</td>\n",
       "      <td>prose</td>\n",
       "      <td>T. MACCIVS PLAVT</td>\n",
       "      <td>born c. 254 B.C.</td>\n",
       "      <td>Golden Age</td>\n",
       "    </tr>\n",
       "    <tr>\n",
       "      <th>34</th>\n",
       "      <td>Plautus: Epidicus</td>\n",
       "      <td>T. MACCI PLAVTI EPIDICVS   EPIDICVS SERVVS THE...</td>\n",
       "      <td>[T. MACCI PLAVTI EPIDICVS, \\n, \\n, \\nEPIDICVS ...</td>\n",
       "      <td>[T, MACCI, PLAVTI, EPIDICVS, EPIDICVS, SERVVS,...</td>\n",
       "      <td>6066</td>\n",
       "      <td>119</td>\n",
       "      <td>prose</td>\n",
       "      <td>L. ANNAEVS SENE</td>\n",
       "      <td>c. 4 B.C. – A.D. 65</td>\n",
       "      <td>Gold and Silver Ages</td>\n",
       "    </tr>\n",
       "    <tr>\n",
       "      <th>36</th>\n",
       "      <td>Plautus: Casina</td>\n",
       "      <td>T. MACCI PLAVTI CASINA   OLYMPIO VILICVS CHALI...</td>\n",
       "      <td>[T. MACCI PLAVTI CASINA\\n, \\n, \\n, \\nOLYMPIO V...</td>\n",
       "      <td>[T, MACCI, PLAVTI, CASINA, OLYMPIO, VILICVS, C...</td>\n",
       "      <td>7309</td>\n",
       "      <td>84</td>\n",
       "      <td>verse</td>\n",
       "      <td>L. ANNAEVS SENE</td>\n",
       "      <td>c. 4 B.C. – A.D. 65</td>\n",
       "      <td>Gold and Silver Ages</td>\n",
       "    </tr>\n",
       "  </tbody>\n",
       "</table>\n",
       "</div>"
      ],
      "text/plain": [
       "                    title                                               text  \\\n",
       "4   Statius: Achilleid II  PVBLIVS PAPINIVS STATIVS ACHILLEID II Exuit im...   \n",
       "23   Plautus: Truculentus  T. MACCI PLAVTI TRVCVLENTVS              res u...   \n",
       "26     Plautus: Trinummus  T. MACCI PLAVTI TRINVMMVS                hensa...   \n",
       "34      Plautus: Epidicus  T. MACCI PLAVTI EPIDICVS   EPIDICVS SERVVS THE...   \n",
       "36        Plautus: Casina  T. MACCI PLAVTI CASINA   OLYMPIO VILICVS CHALI...   \n",
       "\n",
       "                                             text_raw  \\\n",
       "4   [PVBLIVS PAPINIVS STATIVS, \\nACHILLEID II\\n, \\...   \n",
       "23  [T. MACCI PLAVTI TRVCVLENTVS, \\n, \\n, \\n, \\n, ...   \n",
       "26  [T. MACCI PLAVTI TRINVMMVS, \\n, \\n, \\n, \\n, \\n...   \n",
       "34  [T. MACCI PLAVTI EPIDICVS, \\n, \\n, \\nEPIDICVS ...   \n",
       "36  [T. MACCI PLAVTI CASINA\\n, \\n, \\n, \\nOLYMPIO V...   \n",
       "\n",
       "                                               tokens  token_count  \\\n",
       "4   [PVBLIVS, PAPINIVS, STATIVS, ACHILLEID, II, Ex...         1075   \n",
       "23  [T, MACCI, PLAVTI, TRVCVLENTVS, res, unam, per...         8025   \n",
       "26  [T, MACCI, PLAVTI, TRINVMMVS, hensaurum, abstr...         9529   \n",
       "34  [T, MACCI, PLAVTI, EPIDICVS, EPIDICVS, SERVVS,...         6066   \n",
       "36  [T, MACCI, PLAVTI, CASINA, OLYMPIO, VILICVS, C...         7309   \n",
       "\n",
       "    max_line_length  style                  author              life_span  \\\n",
       "4                71  verse  PVBLIVS PAPINIVS STATI       c. 45 – 96 A.D.    \n",
       "23               84  verse        T. MACCIVS PLAVT      born c. 254 B.C.    \n",
       "26              104  prose        T. MACCIVS PLAVT      born c. 254 B.C.    \n",
       "34              119  prose         L. ANNAEVS SENE   c. 4 B.C. – A.D. 65    \n",
       "36               84  verse         L. ANNAEVS SENE   c. 4 B.C. – A.D. 65    \n",
       "\n",
       "                     era  \n",
       "4             Silver Age  \n",
       "23            Golden Age  \n",
       "26            Golden Age  \n",
       "34  Gold and Silver Ages  \n",
       "36  Gold and Silver Ages  "
      ]
     },
     "execution_count": 46,
     "metadata": {},
     "output_type": "execute_result"
    }
   ],
   "source": [
    "capulus.head()"
   ]
  },
  {
   "cell_type": "markdown",
   "metadata": {},
   "source": [
    "Just from looking at these titles there's a pretty fair distribution of genre between the works (some philosophy, epic poetry, history, and even comedy plays!)"
   ]
  },
  {
   "cell_type": "code",
   "execution_count": 47,
   "metadata": {},
   "outputs": [
    {
     "name": "stdout",
     "output_type": "stream",
     "text": [
      "79.85611510791367\n",
      "20.14388489208633\n"
     ]
    }
   ],
   "source": [
    "print(len(gladius[gladius['style']=='prose'])/len(gladius)*100)\n",
    "print(len(gladius[gladius['style']=='verse'])/len(gladius)*100)\n",
    "#the results here are skewed highly in favor of prose"
   ]
  },
  {
   "cell_type": "code",
   "execution_count": 48,
   "metadata": {},
   "outputs": [
    {
     "name": "stdout",
     "output_type": "stream",
     "text": [
      "66.95464362850973\n",
      "33.04535637149028\n"
     ]
    }
   ],
   "source": [
    "print(len(ferrum[ferrum['style']=='prose'])/len(ferrum)*100)\n",
    "print(len(ferrum[ferrum['style']=='verse'])/len(ferrum)*100)\n",
    "#here there's more in the prose category"
   ]
  },
  {
   "cell_type": "code",
   "execution_count": 49,
   "metadata": {},
   "outputs": [
    {
     "name": "stdout",
     "output_type": "stream",
     "text": [
      "65.55555555555556\n",
      "34.44444444444444\n"
     ]
    }
   ],
   "source": [
    "print(len(mucro[mucro['style']=='prose'])/len(mucro)*100)\n",
    "print(len(mucro[mucro['style']=='verse'])/len(mucro)*100)\n",
    "#it's closer here, but still in favor of prose"
   ]
  },
  {
   "cell_type": "code",
   "execution_count": 50,
   "metadata": {},
   "outputs": [
    {
     "name": "stdout",
     "output_type": "stream",
     "text": [
      "70.90592334494772\n",
      "29.094076655052266\n"
     ]
    }
   ],
   "source": [
    "print(len(ensis[ensis['style']=='prose'])/len(ensis)*100)\n",
    "print(len(ensis[ensis['style']=='verse'])/len(ensis)*100)\n",
    "#heavily in favor of prose"
   ]
  },
  {
   "cell_type": "code",
   "execution_count": 51,
   "metadata": {},
   "outputs": [
    {
     "name": "stdout",
     "output_type": "stream",
     "text": [
      "39.58333333333333\n",
      "60.416666666666664\n"
     ]
    }
   ],
   "source": [
    "print(len(capulus[capulus['style']=='prose'])/len(capulus)*100)\n",
    "print(len(capulus[capulus['style']=='verse'])/len(capulus)*100)\n",
    "#interestingly enough, verse is more popular than prose here"
   ]
  },
  {
   "cell_type": "markdown",
   "metadata": {},
   "source": [
    "because the results are overwhelmingly in favor of prose in most categories let's look at how they match up in latlib_df"
   ]
  },
  {
   "cell_type": "code",
   "execution_count": 52,
   "metadata": {},
   "outputs": [
    {
     "name": "stdout",
     "output_type": "stream",
     "text": [
      "426\n",
      "185\n"
     ]
    }
   ],
   "source": [
    "print(len(latlib_df[latlib_df['style']=='prose']))\n",
    "print(len(latlib_df[latlib_df['style']=='verse']))\n",
    "#so prose definitely shows more than verse, which is not super surprising"
   ]
  },
  {
   "cell_type": "code",
   "execution_count": 53,
   "metadata": {},
   "outputs": [
    {
     "name": "stdout",
     "output_type": "stream",
     "text": [
      "percentage of prose works in data:  69.72176759410802 %\n",
      "percentage of verse works in data:  30.27823240589198 %\n"
     ]
    }
   ],
   "source": [
    "p_n = len(latlib_df[latlib_df['style']=='prose'])/len(latlib_df)*100\n",
    "v_n = len(latlib_df[latlib_df['style']=='verse'])/len(latlib_df)*100\n",
    "print('percentage of prose works in data: ',p_n,'%')\n",
    "print('percentage of verse works in data: ',v_n,'%')"
   ]
  },
  {
   "cell_type": "code",
   "execution_count": 54,
   "metadata": {},
   "outputs": [
    {
     "data": {
      "text/plain": [
       "\"\\ngladius.term = ['gladius' for x in gladius.term]\\nferrum.term = ['ferrum' for x in ferrum.term]\\nmucro.term = ['mucro' for x in mucro.term]\\nensis.term = ['ensis' for x in ensis.term]\\ncapulus.term = ['capulus' for x in capulus.term]\\n\""
      ]
     },
     "execution_count": 54,
     "metadata": {},
     "output_type": "execute_result"
    }
   ],
   "source": [
    "\"\"\"\n",
    "gladius.term = ['gladius' for x in gladius.term]\n",
    "ferrum.term = ['ferrum' for x in ferrum.term]\n",
    "mucro.term = ['mucro' for x in mucro.term]\n",
    "ensis.term = ['ensis' for x in ensis.term]\n",
    "capulus.term = ['capulus' for x in capulus.term]\n",
    "\"\"\""
   ]
  },
  {
   "cell_type": "code",
   "execution_count": 55,
   "metadata": {},
   "outputs": [
    {
     "data": {
      "text/html": [
       "<div>\n",
       "<style scoped>\n",
       "    .dataframe tbody tr th:only-of-type {\n",
       "        vertical-align: middle;\n",
       "    }\n",
       "\n",
       "    .dataframe tbody tr th {\n",
       "        vertical-align: top;\n",
       "    }\n",
       "\n",
       "    .dataframe thead th {\n",
       "        text-align: right;\n",
       "    }\n",
       "</style>\n",
       "<table border=\"1\" class=\"dataframe\">\n",
       "  <thead>\n",
       "    <tr style=\"text-align: right;\">\n",
       "      <th></th>\n",
       "      <th>title</th>\n",
       "      <th>text</th>\n",
       "      <th>text_raw</th>\n",
       "      <th>tokens</th>\n",
       "      <th>token_count</th>\n",
       "      <th>max_line_length</th>\n",
       "      <th>style</th>\n",
       "      <th>author</th>\n",
       "      <th>life_span</th>\n",
       "      <th>era</th>\n",
       "    </tr>\n",
       "  </thead>\n",
       "  <tbody>\n",
       "    <tr>\n",
       "      <th>0</th>\n",
       "      <td>Seneca the Elder</td>\n",
       "      <td>L. ANNAEI SENECAE MAIORIS EXCERPTA CONTROVERSI...</td>\n",
       "      <td>[L. ANNAEI SENECAE MAIORIS EXCERPTA CONTROVERS...</td>\n",
       "      <td>[L, ANNAEI, SENECAE, MAIORIS, EXCERPTA, CONTRO...</td>\n",
       "      <td>1768</td>\n",
       "      <td>2045</td>\n",
       "      <td>prose</td>\n",
       "      <td>L. ANNAEVS SENECA MAI</td>\n",
       "      <td>54 B.C. – 39 A.D.  MAI</td>\n",
       "      <td>Gold and Silver Ages</td>\n",
       "    </tr>\n",
       "    <tr>\n",
       "      <th>1</th>\n",
       "      <td>Tibullus Book III</td>\n",
       "      <td>LIBER TERTIVS LYGDAMI ALIORVMQUE ELEGIAE   Mar...</td>\n",
       "      <td>[LIBER TERTIVS LYGDAMI ALIORVMQUE ELEGIAE, \\n,...</td>\n",
       "      <td>[LIBER, TERTIVS, LYGDAMI, ALIORVMQUE, ELEGIAE,...</td>\n",
       "      <td>4395</td>\n",
       "      <td>70</td>\n",
       "      <td>verse</td>\n",
       "      <td>none</td>\n",
       "      <td>none</td>\n",
       "      <td>none</td>\n",
       "    </tr>\n",
       "    <tr>\n",
       "      <th>2</th>\n",
       "      <td>Tibullus Book II</td>\n",
       "      <td>A. TIBVLLI ELEGIAE LIBER SECVNDVS   Quisquis a...</td>\n",
       "      <td>[A. TIBVLLI ELEGIAE LIBER SECVNDVS, \\n, \\n, \\n...</td>\n",
       "      <td>[A, TIBVLLI, ELEGIAE, LIBER, SECVNDVS, Quisqui...</td>\n",
       "      <td>2747</td>\n",
       "      <td>56</td>\n",
       "      <td>verse</td>\n",
       "      <td>ALBIVS TIBVLL</td>\n",
       "      <td>c. 54 – 19 B.C.</td>\n",
       "      <td>Golden Age</td>\n",
       "    </tr>\n",
       "    <tr>\n",
       "      <th>4</th>\n",
       "      <td>Statius: Achilleid II</td>\n",
       "      <td>PVBLIVS PAPINIVS STATIVS ACHILLEID II Exuit im...</td>\n",
       "      <td>[PVBLIVS PAPINIVS STATIVS, \\nACHILLEID II\\n, \\...</td>\n",
       "      <td>[PVBLIVS, PAPINIVS, STATIVS, ACHILLEID, II, Ex...</td>\n",
       "      <td>1075</td>\n",
       "      <td>71</td>\n",
       "      <td>verse</td>\n",
       "      <td>PVBLIVS PAPINIVS STATI</td>\n",
       "      <td>c. 45 – 96 A.D.</td>\n",
       "      <td>Silver Age</td>\n",
       "    </tr>\n",
       "    <tr>\n",
       "      <th>5</th>\n",
       "      <td>Tibullus Book I</td>\n",
       "      <td>A. TIBVLLI ELEGIAE LIBER PRIMVS              D...</td>\n",
       "      <td>[A. TIBVLLI ELEGIAE LIBER PRIMVS, \\n,   ,   , ...</td>\n",
       "      <td>[A, TIBVLLI, ELEGIAE, LIBER, PRIMVS, Divitias,...</td>\n",
       "      <td>5237</td>\n",
       "      <td>120</td>\n",
       "      <td>prose</td>\n",
       "      <td>ALBIVS TIBVLL</td>\n",
       "      <td>c. 54 – 19 B.C.</td>\n",
       "      <td>Golden Age</td>\n",
       "    </tr>\n",
       "  </tbody>\n",
       "</table>\n",
       "</div>"
      ],
      "text/plain": [
       "                   title                                               text  \\\n",
       "0       Seneca the Elder  L. ANNAEI SENECAE MAIORIS EXCERPTA CONTROVERSI...   \n",
       "1      Tibullus Book III  LIBER TERTIVS LYGDAMI ALIORVMQUE ELEGIAE   Mar...   \n",
       "2       Tibullus Book II  A. TIBVLLI ELEGIAE LIBER SECVNDVS   Quisquis a...   \n",
       "4  Statius: Achilleid II  PVBLIVS PAPINIVS STATIVS ACHILLEID II Exuit im...   \n",
       "5        Tibullus Book I  A. TIBVLLI ELEGIAE LIBER PRIMVS              D...   \n",
       "\n",
       "                                            text_raw  \\\n",
       "0  [L. ANNAEI SENECAE MAIORIS EXCERPTA CONTROVERS...   \n",
       "1  [LIBER TERTIVS LYGDAMI ALIORVMQUE ELEGIAE, \\n,...   \n",
       "2  [A. TIBVLLI ELEGIAE LIBER SECVNDVS, \\n, \\n, \\n...   \n",
       "4  [PVBLIVS PAPINIVS STATIVS, \\nACHILLEID II\\n, \\...   \n",
       "5  [A. TIBVLLI ELEGIAE LIBER PRIMVS, \\n,   ,   , ...   \n",
       "\n",
       "                                              tokens  token_count  \\\n",
       "0  [L, ANNAEI, SENECAE, MAIORIS, EXCERPTA, CONTRO...         1768   \n",
       "1  [LIBER, TERTIVS, LYGDAMI, ALIORVMQUE, ELEGIAE,...         4395   \n",
       "2  [A, TIBVLLI, ELEGIAE, LIBER, SECVNDVS, Quisqui...         2747   \n",
       "4  [PVBLIVS, PAPINIVS, STATIVS, ACHILLEID, II, Ex...         1075   \n",
       "5  [A, TIBVLLI, ELEGIAE, LIBER, PRIMVS, Divitias,...         5237   \n",
       "\n",
       "   max_line_length  style                  author                life_span  \\\n",
       "0             2045  prose   L. ANNAEVS SENECA MAI   54 B.C. – 39 A.D.  MAI   \n",
       "1               70  verse                    none                     none   \n",
       "2               56  verse           ALBIVS TIBVLL         c. 54 – 19 B.C.    \n",
       "4               71  verse  PVBLIVS PAPINIVS STATI         c. 45 – 96 A.D.    \n",
       "5              120  prose           ALBIVS TIBVLL         c. 54 – 19 B.C.    \n",
       "\n",
       "                    era  \n",
       "0  Gold and Silver Ages  \n",
       "1                  none  \n",
       "2            Golden Age  \n",
       "4            Silver Age  \n",
       "5            Golden Age  "
      ]
     },
     "execution_count": 55,
     "metadata": {},
     "output_type": "execute_result"
    }
   ],
   "source": [
    "ensis.head(5)"
   ]
  },
  {
   "cell_type": "code",
   "execution_count": 56,
   "metadata": {},
   "outputs": [],
   "source": [
    "df_swords = pd.concat([gladius, ferrum, mucro, ensis, capulus])"
   ]
  },
  {
   "cell_type": "code",
   "execution_count": 57,
   "metadata": {},
   "outputs": [
    {
     "data": {
      "text/html": [
       "<div>\n",
       "<style scoped>\n",
       "    .dataframe tbody tr th:only-of-type {\n",
       "        vertical-align: middle;\n",
       "    }\n",
       "\n",
       "    .dataframe tbody tr th {\n",
       "        vertical-align: top;\n",
       "    }\n",
       "\n",
       "    .dataframe thead th {\n",
       "        text-align: right;\n",
       "    }\n",
       "</style>\n",
       "<table border=\"1\" class=\"dataframe\">\n",
       "  <thead>\n",
       "    <tr style=\"text-align: right;\">\n",
       "      <th></th>\n",
       "      <th>title</th>\n",
       "      <th>text</th>\n",
       "      <th>text_raw</th>\n",
       "      <th>tokens</th>\n",
       "      <th>token_count</th>\n",
       "      <th>max_line_length</th>\n",
       "      <th>style</th>\n",
       "      <th>author</th>\n",
       "      <th>life_span</th>\n",
       "      <th>era</th>\n",
       "    </tr>\n",
       "  </thead>\n",
       "  <tbody>\n",
       "    <tr>\n",
       "      <th>628</th>\n",
       "      <td>Caesar: Bellum Gallicum VI</td>\n",
       "      <td>C. IVLI CAESARIS COMMENTARIORVM DE BELLO GALLI...</td>\n",
       "      <td>[C. IVLI CAESARIS COMMENTARIORVM DE BELLO GALL...</td>\n",
       "      <td>[C, IVLI, CAESARIS, COMMENTARIORVM, DE, BELLO,...</td>\n",
       "      <td>5478</td>\n",
       "      <td>409</td>\n",
       "      <td>prose</td>\n",
       "      <td>C. IULIUS CAES</td>\n",
       "      <td>100 – 44 B.C.</td>\n",
       "      <td>Golden Age</td>\n",
       "    </tr>\n",
       "    <tr>\n",
       "      <th>611</th>\n",
       "      <td>P. VERGILI MARONIS AENEIDOS LIBER OCTAVVS</td>\n",
       "      <td>P. VERGILI MARONIS AENEIDOS LIBER OCTAVVS  Ut ...</td>\n",
       "      <td>[P. VERGILI MARONIS AENEIDOS LIBER OCTAVVS\\n\\n...</td>\n",
       "      <td>[P, VERGILI, MARONIS, AENEIDOS, LIBER, OCTAVVS...</td>\n",
       "      <td>4639</td>\n",
       "      <td>67</td>\n",
       "      <td>verse</td>\n",
       "      <td>P. VERGILIVS MA</td>\n",
       "      <td>70 – 19 B.C.</td>\n",
       "      <td>Golden Age</td>\n",
       "    </tr>\n",
       "    <tr>\n",
       "      <th>100</th>\n",
       "      <td>Silius, Liber IX</td>\n",
       "      <td>SILIUS ITALICUS PUNICA LIBER NONUS Turbato mon...</td>\n",
       "      <td>[SILIUS ITALICUS, PUNICA LIBER NONUS\\n, \\nTurb...</td>\n",
       "      <td>[SILIUS, ITALICUS, PUNICA, LIBER, NONUS, Turba...</td>\n",
       "      <td>4152</td>\n",
       "      <td>65</td>\n",
       "      <td>verse</td>\n",
       "      <td>SILIVS ITALIC</td>\n",
       "      <td>25/6 – 101 A.D.</td>\n",
       "      <td>Silver Age</td>\n",
       "    </tr>\n",
       "    <tr>\n",
       "      <th>544</th>\n",
       "      <td>Ovid: Heroides II</td>\n",
       "      <td>P. OVIDI NASONIS EPISTVLAE HEROIDVM   Hospita,...</td>\n",
       "      <td>[P. OVIDI NASONIS EPISTVLAE HEROIDVM\\n, \\n, \\n...</td>\n",
       "      <td>[P, OVIDI, NASONIS, EPISTVLAE, HEROIDVM, Hospi...</td>\n",
       "      <td>948</td>\n",
       "      <td>68</td>\n",
       "      <td>verse</td>\n",
       "      <td>P. OVIDIVS NA</td>\n",
       "      <td>43 B.C. – 17 A.D.</td>\n",
       "      <td>Gold and Silver Ages</td>\n",
       "    </tr>\n",
       "    <tr>\n",
       "      <th>304</th>\n",
       "      <td>\\rPRO A. CLVENTIO ORATIO\\r</td>\n",
       "      <td>M. TVLLI CICERONIS PRO A. CLVENTIO ORATIO\\r \\r...</td>\n",
       "      <td>[M. TVLLI CICERONIS PRO A. CLVENTIO ORATIO\\r\\n...</td>\n",
       "      <td>[M, TVLLI, CICERONIS, PRO, A, CLVENTIO, ORATIO...</td>\n",
       "      <td>837</td>\n",
       "      <td>379</td>\n",
       "      <td>prose</td>\n",
       "      <td>M. TVLLIVS CICE</td>\n",
       "      <td>106 – 43 B.C.</td>\n",
       "      <td>Golden Age</td>\n",
       "    </tr>\n",
       "  </tbody>\n",
       "</table>\n",
       "</div>"
      ],
      "text/plain": [
       "                                         title  \\\n",
       "628                 Caesar: Bellum Gallicum VI   \n",
       "611  P. VERGILI MARONIS AENEIDOS LIBER OCTAVVS   \n",
       "100                           Silius, Liber IX   \n",
       "544                          Ovid: Heroides II   \n",
       "304                 \\rPRO A. CLVENTIO ORATIO\\r   \n",
       "\n",
       "                                                  text  \\\n",
       "628  C. IVLI CAESARIS COMMENTARIORVM DE BELLO GALLI...   \n",
       "611  P. VERGILI MARONIS AENEIDOS LIBER OCTAVVS  Ut ...   \n",
       "100  SILIUS ITALICUS PUNICA LIBER NONUS Turbato mon...   \n",
       "544  P. OVIDI NASONIS EPISTVLAE HEROIDVM   Hospita,...   \n",
       "304  M. TVLLI CICERONIS PRO A. CLVENTIO ORATIO\\r \\r...   \n",
       "\n",
       "                                              text_raw  \\\n",
       "628  [C. IVLI CAESARIS COMMENTARIORVM DE BELLO GALL...   \n",
       "611  [P. VERGILI MARONIS AENEIDOS LIBER OCTAVVS\\n\\n...   \n",
       "100  [SILIUS ITALICUS, PUNICA LIBER NONUS\\n, \\nTurb...   \n",
       "544  [P. OVIDI NASONIS EPISTVLAE HEROIDVM\\n, \\n, \\n...   \n",
       "304  [M. TVLLI CICERONIS PRO A. CLVENTIO ORATIO\\r\\n...   \n",
       "\n",
       "                                                tokens  token_count  \\\n",
       "628  [C, IVLI, CAESARIS, COMMENTARIORVM, DE, BELLO,...         5478   \n",
       "611  [P, VERGILI, MARONIS, AENEIDOS, LIBER, OCTAVVS...         4639   \n",
       "100  [SILIUS, ITALICUS, PUNICA, LIBER, NONUS, Turba...         4152   \n",
       "544  [P, OVIDI, NASONIS, EPISTVLAE, HEROIDVM, Hospi...          948   \n",
       "304  [M, TVLLI, CICERONIS, PRO, A, CLVENTIO, ORATIO...          837   \n",
       "\n",
       "     max_line_length  style           author            life_span  \\\n",
       "628              409  prose   C. IULIUS CAES       100 – 44 B.C.    \n",
       "611               67  verse  P. VERGILIVS MA        70 – 19 B.C.    \n",
       "100               65  verse    SILIVS ITALIC     25/6 – 101 A.D.    \n",
       "544               68  verse    P. OVIDIVS NA   43 B.C. – 17 A.D.    \n",
       "304              379  prose  M. TVLLIVS CICE       106 – 43 B.C.    \n",
       "\n",
       "                      era  \n",
       "628            Golden Age  \n",
       "611            Golden Age  \n",
       "100            Silver Age  \n",
       "544  Gold and Silver Ages  \n",
       "304            Golden Age  "
      ]
     },
     "execution_count": 57,
     "metadata": {},
     "output_type": "execute_result"
    }
   ],
   "source": [
    "df_swords.sample(5)"
   ]
  },
  {
   "cell_type": "code",
   "execution_count": 58,
   "metadata": {},
   "outputs": [
    {
     "name": "stdout",
     "output_type": "stream",
     "text": [
      "gladius era variance:  22\n",
      "ferrum era variance:  27\n",
      "mucro era variance:  17\n",
      "ensis era variance:  28\n",
      "capulus era variance:  13\n"
     ]
    }
   ],
   "source": [
    "print('gladius era variance: ', len(set([x for x in gladius['life_span']])))\n",
    "print('ferrum era variance: ',len(set([x for x in ferrum['life_span']])))\n",
    "print('mucro era variance: ',len(set([x for x in mucro['life_span']])))\n",
    "print('ensis era variance: ',len(set([x for x in ensis['life_span']])))\n",
    "print('capulus era variance: ',len(set([x for x in capulus['life_span']]))) #capulus has the least amount of era variance, lets take a look!"
   ]
  },
  {
   "cell_type": "code",
   "execution_count": 59,
   "metadata": {},
   "outputs": [
    {
     "name": "stdout",
     "output_type": "stream",
     "text": [
      "{'Gold and Silver Ages', 'none', 'Later', 'Silver Age', 'Golden Age'}\n",
      "{' 4th century A.D. ', ' 106 – 43 B.C. ', ' 25/6 – 101 A.D. ', ' c. 4 B.C. – A.D. 65 ', ' 63 – c. 113 A.D.  SECVND', ' 43 B.C. – 17 A.D. ', ' c. 45 – 96 A.D. ', ' 70 – 19 B.C. ', ' born c. 254 B.C. ', ' 54 B.C. – 39 A.D.  MAI', 'none', ' 116 – 27 B.C. ', ' c. 56 – c. 117 A.D. '}\n"
     ]
    }
   ],
   "source": [
    "print((set([x for x in capulus['era']]))) #covers all the bases! let's look at exact years...\n",
    "print((set([x for x in capulus['life_span']])))\n",
    "#pretty large span of time too, from the 2nd century BC to the 4th century AD!\n",
    "#however, the majority of usage comes from after the year 0"
   ]
  },
  {
   "cell_type": "markdown",
   "metadata": {},
   "source": [
    "Below lets look at era usages for \"capulus\" and \"gladius\""
   ]
  },
  {
   "cell_type": "code",
   "execution_count": 60,
   "metadata": {},
   "outputs": [],
   "source": [
    "labels = \"Golden Age\", \"Silver Age\", \"Later\", \"Gold and Silver Ages\"\n",
    "G = len(capulus[capulus.era=='Golden Age'])\n",
    "S = len(capulus[capulus.era=='Silver Age'])\n",
    "L = len(capulus[capulus.era=='Later'])\n",
    "GaS = len(capulus[capulus.era=='Gold and Silver Ages'])\n",
    "nums = [G, S, L, GaS]"
   ]
  },
  {
   "cell_type": "code",
   "execution_count": 178,
   "metadata": {},
   "outputs": [
    {
     "data": {
      "image/png": "[encoded data removed]",
      "text/plain": [
       "<Figure size 432x288 with 1 Axes>"
      ]
     },
     "metadata": {},
     "output_type": "display_data"
    },
    {
     "data": {
      "text/plain": [
       "<Figure size 432x288 with 0 Axes>"
      ]
     },
     "metadata": {},
     "output_type": "display_data"
    }
   ],
   "source": [
    "plt.pie(nums, labels=labels, autopct='%1.1f%%')\n",
    "plt.show()\n",
    "plt.savefig('/Users/francesharrington/Documents/ling1340/Latin-Vocabulary-Analysis/Images/cap_era_split.png')"
   ]
  },
  {
   "cell_type": "code",
   "execution_count": 62,
   "metadata": {},
   "outputs": [],
   "source": [
    "labels = \"Golden Age\", \"Silver Age\", \"Later\", \"Gold and Silver Ages\"\n",
    "G = len(gladius[gladius.era=='Golden Age'])\n",
    "S = len(gladius[gladius.era=='Silver Age'])\n",
    "L = len(gladius[gladius.era=='Later'])\n",
    "GaS = len(gladius[gladius.era=='Gold and Silver Ages'])\n",
    "nums = [G, S, L, GaS]"
   ]
  },
  {
   "cell_type": "code",
   "execution_count": 180,
   "metadata": {},
   "outputs": [
    {
     "data": {
      "image/png": "[encoded data removed]",
      "text/plain": [
       "<Figure size 432x288 with 1 Axes>"
      ]
     },
     "metadata": {},
     "output_type": "display_data"
    },
    {
     "data": {
      "text/plain": [
       "<Figure size 432x288 with 0 Axes>"
      ]
     },
     "metadata": {},
     "output_type": "display_data"
    }
   ],
   "source": [
    "plt.pie(nums, labels=labels, autopct='%1.1f%%')\n",
    "plt.show()\n",
    "plt.savefig('/Users/francesharrington/Documents/ling1340/Latin-Vocabulary-Analysis/Images/glad_era_split.png')"
   ]
  },
  {
   "cell_type": "markdown",
   "metadata": {},
   "source": [
    "for ferrum, ensis, and mucro I'll save those to the \"Images\" file:"
   ]
  },
  {
   "cell_type": "code",
   "execution_count": 182,
   "metadata": {},
   "outputs": [
    {
     "data": {
      "image/png": "[encoded data removed]",
      "text/plain": [
       "<Figure size 432x288 with 1 Axes>"
      ]
     },
     "metadata": {},
     "output_type": "display_data"
    }
   ],
   "source": [
    "labels = \"Golden Age\", \"Silver Age\", \"Later\", \"Gold and Silver Ages\"\n",
    "G = len(ferrum[ferrum.era=='Golden Age'])\n",
    "S = len(ferrum[ferrum.era=='Silver Age'])\n",
    "L = len(ferrum[ferrum.era=='Later'])\n",
    "GaS = len(ferrum[ferrum.era=='Gold and Silver Ages'])\n",
    "nums = [G, S, L, GaS]\n",
    "plt.pie(nums, labels=labels, autopct='%1.1f%%')\n",
    "plt.savefig('/Users/francesharrington/Documents/ling1340/Latin-Vocabulary-Analysis/Images/ferr_era_split.png')"
   ]
  },
  {
   "cell_type": "code",
   "execution_count": 183,
   "metadata": {},
   "outputs": [
    {
     "data": {
      "image/png": "[encoded data removed]",
      "text/plain": [
       "<Figure size 432x288 with 1 Axes>"
      ]
     },
     "metadata": {},
     "output_type": "display_data"
    }
   ],
   "source": [
    "labels = \"Golden Age\", \"Silver Age\", \"Later\", \"Gold and Silver Ages\"\n",
    "G = len(ensis[ensis.era=='Golden Age'])\n",
    "S = len(ensis[ensis.era=='Silver Age'])\n",
    "L = len(ensis[ensis.era=='Later'])\n",
    "GaS = len(ensis[ensis.era=='Gold and Silver Ages'])\n",
    "nums = [G, S, L, GaS]\n",
    "plt.pie(nums, labels=labels, autopct='%1.1f%%')\n",
    "plt.savefig('/Users/francesharrington/Documents/ling1340/Latin-Vocabulary-Analysis/Images/en_era_split.png')"
   ]
  },
  {
   "cell_type": "code",
   "execution_count": 184,
   "metadata": {},
   "outputs": [
    {
     "data": {
      "image/png": "[encoded data removed]",
      "text/plain": [
       "<Figure size 432x288 with 1 Axes>"
      ]
     },
     "metadata": {},
     "output_type": "display_data"
    }
   ],
   "source": [
    "labels = \"Golden Age\", \"Silver Age\", \"Later\", \"Gold and Silver Ages\"\n",
    "G = len(mucro[mucro.era=='Golden Age'])\n",
    "S = len(mucro[mucro.era=='Silver Age'])\n",
    "L = len(mucro[mucro.era=='Later'])\n",
    "GaS = len(mucro[mucro.era=='Gold and Silver Ages'])\n",
    "nums = [G, S, L, GaS]\n",
    "plt.pie(nums, labels=labels, autopct='%1.1f%%')\n",
    "plt.savefig('/Users/francesharrington/Documents/ling1340/Latin-Vocabulary-Analysis/Images/muc_era_split.png')"
   ]
  },
  {
   "cell_type": "code",
   "execution_count": 64,
   "metadata": {},
   "outputs": [
    {
     "name": "stdout",
     "output_type": "stream",
     "text": [
      "{'PHAEDR', 'FLOR', 'P. OVIDIVS NA', 'SILIVS ITALIC', 'T. LIVI', 'C. SALLVSTIVS CRISP', 'T. MACCIVS PLAVT', 'EVTROPI', 'ALBIVS TIBVLL', 'GAIVS VALERIVS FLACC', 'CORNELIVS NEP', 'C. PLINIVS CAECILIVS SECVND', 'M. VITRVVIVS POLL', 'C. IULIUS CAES', 'P. TERENTIVS AF', 'M. PORCIVS CATO CENS', 'none', 'C. PETRONI', 'L. ANNAEVS SENE', 'P. VERGILIVS MA', 'AVLVS GELLI', 'M. TVLLIVS CICE', 'C. SVETONIVS TRANQVILL', 'M. TERENTIVS VAR', 'SCRIPTORES HISTORIAE AVGVST', 'L. ANNAEVS SENECA MAI', 'PVBLIVS PAPINIVS STATI', 'SEXTVS PROPERTI', 'TITVS LVCRETIVS CAR', 'P. CORNELIVS TACIT', 'M. FABIVS QVINTILIAN'}\n",
      "31\n"
     ]
    }
   ],
   "source": [
    "#lets look through author usages now:\n",
    "print(set(df_swords.author))#all the authors that use a sword word\n",
    "print(len(set(df_swords.author))) #that would be all 31, according to the set difference check below"
   ]
  },
  {
   "cell_type": "code",
   "execution_count": 65,
   "metadata": {},
   "outputs": [
    {
     "name": "stdout",
     "output_type": "stream",
     "text": [
      "set()\n"
     ]
    }
   ],
   "source": [
    "x = set(df_swords.author)\n",
    "y = set(latlib_df.author)\n",
    "z = x.difference(y)\n",
    "print(z) #yep, every author uses a sword word in at least one work!"
   ]
  },
  {
   "cell_type": "markdown",
   "metadata": {},
   "source": [
    "lets look at some sword word ngrams: "
   ]
  },
  {
   "cell_type": "code",
   "execution_count": 123,
   "metadata": {},
   "outputs": [],
   "source": [
    "from nltk.collocations import *\n",
    "bigram_measures = nltk.collocations.BigramAssocMeasures()\n",
    "trigram_measures = nltk.collocations.TrigramAssocMeasures()"
   ]
  },
  {
   "cell_type": "code",
   "execution_count": 160,
   "metadata": {},
   "outputs": [],
   "source": [
    "for x in df_swords.tokens:\n",
    "    bigram = list(nltk.bigrams(x))\n",
    "    word_fd = nltk.FreqDist(x)\n",
    "    bigram_fd = nltk.FreqDist(nltk.bigrams(x))\n",
    "    trigram_fd = nltk.FreqDist(nltk.trigrams(x))\n",
    "    finder = BigramCollocationFinder(word_fd, bigram_fd)\n",
    "    finder = TrigramCollocationFinder.from_words(x)\n",
    "    scored_b = finder.score_ngrams(bigram_measures.raw_freq)\n",
    "    sorted(bigram for bigram, score in scored)\n",
    "    "
   ]
  },
  {
   "cell_type": "code",
   "execution_count": 163,
   "metadata": {},
   "outputs": [],
   "source": [
    "for x in gladius.tokens:\n",
    "    bigram = list(nltk.bigrams(x))\n",
    "    word_fd = nltk.FreqDist(x)\n",
    "    bigram_fd = nltk.FreqDist(nltk.bigrams(x))\n",
    "    trigram_fd = nltk.FreqDist(nltk.trigrams(x))\n",
    "    finder = BigramCollocationFinder(word_fd, bigram_fd)\n",
    "    finder = TrigramCollocationFinder.from_words(x)\n",
    "    scored_b = finder.score_ngrams(bigram_measures.raw_freq)\n",
    "    sorted(bigram for bigram, score in scored)\n",
    "    glad_b = [(gram, bigram_fd[gram]) for gram in bigram_fd if gram[0] == 'gladius' or gram[0] == 'gladii' or gram[0] == 'gladi' or gram[0] == 'gladio' or gram[0] == 'gladium' or gram[0] == 'gladie' or gram[0] == 'gladiorum' or gram[0] == 'gladiis' or gram[0] == 'gladios' or gram[1] == 'gladius' or gram[1] == 'gladii' or gram[1] == 'gladi' or gram[1] == 'gladio' or gram[1] == 'gladium' or gram[1] == 'gladie' or gram[1] == 'gladiorum' or gram[1] == 'gladiis' or gram[1] == 'gladios']\n",
    "    glad_t = [(gram, trigram_fd[gram]) for gram in trigram_fd if gram[1] == 'gladius' or gram[1] == 'gladii' or gram[1] == 'gladi' or gram[1] == 'gladio' or gram[1] == 'gladium' or gram[1] == 'gladie' or gram[1] == 'gladiorum' or gram[1] == 'gladiis' or gram[1] == 'gladios']\n",
    "    #print(glad_b)\n",
    "   # print(glad_t)"
   ]
  },
  {
   "cell_type": "code",
   "execution_count": 166,
   "metadata": {},
   "outputs": [],
   "source": [
    "for x in ferrum.tokens:\n",
    "    bigram = list(nltk.bigrams(x))\n",
    "    word_fd = nltk.FreqDist(x)\n",
    "    bigram_fd = nltk.FreqDist(nltk.bigrams(x))\n",
    "    trigram_fd = nltk.FreqDist(nltk.trigrams(x))\n",
    "    finder = BigramCollocationFinder(word_fd, bigram_fd)\n",
    "    finder = TrigramCollocationFinder.from_words(x)\n",
    "    scored_b = finder.score_ngrams(bigram_measures.raw_freq)\n",
    "    sorted(bigram for bigram, score in scored)\n",
    "    ferr_b = [(gram, bigram_fd[gram]) for gram in bigram_fd if gram[0] == 'ferrum' or gram[0] == 'ferri' or gram[0] == 'ferro' or gram[0] == 'ferra' or gram[0] == 'ferrorum' or gram[0] == 'ferris']\n",
    "    ferr_t = [(gram, trigram_fd[gram]) for gram in trigram_fd if gram[1] == 'ferrum' or gram[1] == 'ferri' or gram[1] == 'ferro' or gram[1] == 'ferra' or gram[1] == 'ferrorum' or gram[1] == 'ferris']\n",
    "    #print(ferr_b)\n",
    "    #print(ferr_t)"
   ]
  },
  {
   "cell_type": "code",
   "execution_count": 170,
   "metadata": {},
   "outputs": [],
   "source": [
    "for x in mucro.tokens:\n",
    "    bigram = list(nltk.bigrams(x))\n",
    "    word_fd = nltk.FreqDist(x)\n",
    "    bigram_fd = nltk.FreqDist(nltk.bigrams(x))\n",
    "    trigram_fd = nltk.FreqDist(nltk.trigrams(x))\n",
    "    finder = BigramCollocationFinder(word_fd, bigram_fd)\n",
    "    finder = TrigramCollocationFinder.from_words(x)\n",
    "    scored_b = finder.score_ngrams(bigram_measures.raw_freq)\n",
    "    sorted(bigram for bigram, score in scored)\n",
    "    muc_b = [(gram, bigram_fd[gram]) for gram in bigram_fd if gram[0] == 'mucro' or gram[0] == 'mucronis' or gram[0] == 'mucroni' or gram[0] == 'mucronem' or gram[0] == 'mucrone' or gram[0] == 'mucrones' or gram[0] == 'mucronum' or gram[0] == 'mucronibus']\n",
    "    muc_t = [(gram, trigram_fd[gram]) for gram in trigram_fd if gram[1] == 'mucro' or gram[1] == 'mucronis' or gram[1] == 'mucroni' or gram[1] == 'mucronem' or gram[1] == 'mucrone' or gram[1] == 'mucrones' or gram[1] == 'mucronum' or gram[1] == 'mucronibus']\n",
    "    #print(muc_b)\n",
    "    #print(muc_t)"
   ]
  },
  {
   "cell_type": "code",
   "execution_count": 173,
   "metadata": {},
   "outputs": [],
   "source": [
    "for x in ensis.tokens:\n",
    "    bigram = list(nltk.bigrams(x))\n",
    "    word_fd = nltk.FreqDist(x)\n",
    "    bigram_fd = nltk.FreqDist(nltk.bigrams(x))\n",
    "    trigram_fd = nltk.FreqDist(nltk.trigrams(x))\n",
    "    finder = BigramCollocationFinder(word_fd, bigram_fd)\n",
    "    finder = TrigramCollocationFinder.from_words(x)\n",
    "    scored_b = finder.score_ngrams(bigram_measures.raw_freq)\n",
    "    sorted(bigram for bigram, score in scored)\n",
    "    en_b = [(gram, bigram_fd[gram]) for gram in bigram_fd if gram[0] == 'ensis' or gram[0] == 'ensi' or gram[0] == 'ensem' or gram[0] == 'ense' or gram[0] == 'enses' or gram[0] == 'ensium' or gram[0] == 'ensibus']\n",
    "    en_t = [(gram, trigram_fd[gram]) for gram in trigram_fd if gram[1] == 'ensis' or gram[1] == 'ensi' or gram[1] == 'ensem' or gram[1] == 'ense' or gram[1] == 'enses' or gram[1] == 'ensium' or gram[1] == 'ensibus']\n",
    "    #print(en_b)\n",
    "    #print(en_t)"
   ]
  },
  {
   "cell_type": "code",
   "execution_count": 176,
   "metadata": {},
   "outputs": [],
   "source": [
    "for x in capulus.tokens:\n",
    "    bigram = list(nltk.bigrams(x))\n",
    "    word_fd = nltk.FreqDist(x)\n",
    "    bigram_fd = nltk.FreqDist(nltk.bigrams(x))\n",
    "    trigram_fd = nltk.FreqDist(nltk.trigrams(x))\n",
    "    finder = BigramCollocationFinder(word_fd, bigram_fd)\n",
    "    finder = TrigramCollocationFinder.from_words(x)\n",
    "    scored_b = finder.score_ngrams(bigram_measures.raw_freq)\n",
    "    sorted(bigram for bigram, score in scored)\n",
    "    cap_b = [(gram, bigram_fd[gram]) for gram in bigram_fd if gram[0] == 'capulus' or gram[0] == 'capuli' or gram[0] == 'capulo' or gram[0] == 'capulum' or gram[0] == 'capulorum' or gram[0] == 'capulis' or gram[0] == 'capulos']\n",
    "    cap_t = [(gram, trigram_fd[gram]) for gram in trigram_fd if gram[1] == 'capulus' or gram[1] == 'capuli' or gram[1] == 'capulo' or gram[1] == 'capulum' or gram[1] == 'capulorum' or gram[1] == 'capulis' or gram[1] == 'capulos']\n",
    "    #print(cap_b)\n",
    "    #print(cap_t)"
   ]
  },
  {
   "cell_type": "markdown",
   "metadata": {},
   "source": [
    "some note on reoccuring ngrams:\n",
    "prepositions or other words that might be considered \"stop words\" appear a lot\n",
    "('gladiis', 'obtruncabant') kill--some form of this word occurs with the other sword words as well\n",
    "('gladius', 'cruentatus') bloody\n",
    "\n",
    "('destrictis', 'gladiis')--verbal form to draw (sword), adj. rigid/uncmpromising\n",
    "\n",
    "\n",
    "('Pharsalica', 'gladius', 'agebat') drive/urge\n",
    "\n",
    "\n",
    "('ferro', 'vulneratus') wound/injure\n",
    "('ferro', 'flammaque') blaze/flaming\n",
    "interesting--('propensioris', 'ferri', 'non') \"more favorable\" \"sword\" \"not\"\n",
    "\n",
    "('mucro', 'petebat') attack/aim at\n",
    "('ille', 'mucro', 'petebat') that sword was aimed at\n",
    "forms of fero, ferre, tuli, latus (carry/bear) are common\n",
    "\n",
    "ensis w/ pectus (\"chest\")\n",
    "('ense', 'metit') cut off\n",
    "('ense', 'Getes') a proper noun--Thracian tribe\n",
    "\n",
    "('capulo', 'tenus') to the extent (clearly these don't go together but are in a common construction)\n",
    "    - ('lateri', 'capulo', 'tenus') shows that this is true--the first word is from fero, ferri, tuli, latus meaning \"carry\" or \"bear\"\n",
    "('capulo', 'manum') hand\n",
    "('capulis', 'hastisque') (and) spear--que being a post-positive enclitic for \"and\""
   ]
  },
  {
   "cell_type": "code",
   "execution_count": null,
   "metadata": {},
   "outputs": [],
   "source": []
  },
  {
   "cell_type": "code",
   "execution_count": null,
   "metadata": {},
   "outputs": [],
   "source": []
  },
  {
   "cell_type": "code",
   "execution_count": null,
   "metadata": {},
   "outputs": [],
   "source": []
  },
  {
   "cell_type": "code",
   "execution_count": null,
   "metadata": {},
   "outputs": [],
   "source": []
  },
  {
   "cell_type": "markdown",
   "metadata": {},
   "source": [
    "final stat overview & save updated examples out:"
   ]
  },
  {
   "cell_type": "code",
   "execution_count": null,
   "metadata": {},
   "outputs": [],
   "source": [
    "latlib_df.describe()"
   ]
  },
  {
   "cell_type": "code",
   "execution_count": null,
   "metadata": {},
   "outputs": [],
   "source": [
    "#updated data samples so they reflect my current data:\n",
    "examples = latlib_df.head(10)\n",
    "examples.to_pickle(\"/Users/francesharrington/Documents/ling1340/Latin-Vocabulary-Analysis/data_samples/examples.pkl\")"
   ]
  }
 ],
 "metadata": {
  "kernelspec": {
   "display_name": "Python 3",
   "language": "python",
   "name": "python3"
  },
  "language_info": {
   "codemirror_mode": {
    "name": "ipython",
    "version": 3
   },
   "file_extension": ".py",
   "mimetype": "text/x-python",
   "name": "python",
   "nbconvert_exporter": "python",
   "pygments_lexer": "ipython3",
   "version": "3.8.5"
  }
 },
 "nbformat": 4,
 "nbformat_minor": 4
}
