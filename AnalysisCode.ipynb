{
 "cells": [
  {
   "cell_type": "code",
   "execution_count": 1,
   "metadata": {},
   "outputs": [],
   "source": [
    "import nltk\n",
    "from bs4 import BeautifulSoup\n",
    "import requests\n",
    "import pandas as pd\n",
    "import numpy as np"
   ]
  },
  {
   "cell_type": "code",
   "execution_count": null,
   "metadata": {},
   "outputs": [],
   "source": [
    "#read in the pickle file/dataframe here"
   ]
  },
  {
   "cell_type": "code",
   "execution_count": null,
   "metadata": {},
   "outputs": [],
   "source": [
    "#gladius:\n",
    "latlib_df[latlib_df.text.str.contains('gladius').contains('gladii').contains('gladi').contains('gladio').contains('gladium').contains('gladie').contains('gladiorum').contains('gladiis').contains('gladios')]"
   ]
  },
  {
   "cell_type": "code",
   "execution_count": null,
   "metadata": {},
   "outputs": [],
   "source": [
    "#ferrum:\n",
    "latlib_df[latlib_df.text.str.contains('ferrum').contains('ferri').contains('ferro').contains('ferra').contains('ferrorum').contains('ferris')]"
   ]
  },
  {
   "cell_type": "code",
   "execution_count": null,
   "metadata": {},
   "outputs": [],
   "source": [
    "#mucro:\n",
    "latlib_df[latlib_df.text.str.contains('mucro').contains('mucronis').contains('mucroni').contains('mucronem').contains('mucrone').contains('mucrones').contains('mucronum').contains('mucronibus')]"
   ]
  },
  {
   "cell_type": "code",
   "execution_count": null,
   "metadata": {},
   "outputs": [],
   "source": [
    "#ensis:\n",
    "latlib_df[latlib_df.text.str.contains('ensis').contains('ensi').contains('ensem').contains('ense').contains('enses').contains('ensium').contains('ensibus')]"
   ]
  },
  {
   "cell_type": "code",
   "execution_count": null,
   "metadata": {},
   "outputs": [],
   "source": [
    "#capulus:\n",
    "latlib_df[latlib_df.text.str.contains('capulus').contains('capuli').contains('capulo').contains('capulum').contains('capulorum').contains('capulis').contains('capulos')]"
   ]
  }
 ],
 "metadata": {
  "kernelspec": {
   "display_name": "Python 3",
   "language": "python",
   "name": "python3"
  },
  "language_info": {
   "codemirror_mode": {
    "name": "ipython",
    "version": 3
   },
   "file_extension": ".py",
   "mimetype": "text/x-python",
   "name": "python",
   "nbconvert_exporter": "python",
   "pygments_lexer": "ipython3",
   "version": "3.8.5"
  }
 },
 "nbformat": 4,
 "nbformat_minor": 4
}
