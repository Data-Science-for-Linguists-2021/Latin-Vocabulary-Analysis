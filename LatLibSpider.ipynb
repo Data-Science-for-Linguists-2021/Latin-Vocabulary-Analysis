{
 "cells": [
  {
   "cell_type": "code",
   "execution_count": 1,
   "metadata": {},
   "outputs": [],
   "source": [
    "import scrapy\n",
    "from scrapy import Selector\n",
    "from scrapy.crawler import CrawlerProcess\n",
    "from bs4 import BeautifulSoup\n",
    "import requests"
   ]
  },
  {
   "cell_type": "code",
   "execution_count": 2,
   "metadata": {},
   "outputs": [],
   "source": [
    "class LatLibSpider(scrapy.Spider):\n",
    "    name = 'latlib_spider'\n",
    "    def start_requests(self):\n",
    "        urls = ['https://www.thelatinlibrary.com/']\n",
    "        for url in urls:\n",
    "            yield scrapy.Request( url = url, callback = self.parse_front)\n",
    "    def parse_front(self, response):\n",
    "        #opening latinlibrary page\n",
    "        author_links = response.xpath('.//table[1]/tr/td/a/@href')\n",
    "        links_to_follow = author_links.extract()\n",
    "        for url in links_to_follow:\n",
    "            yield response.follow(url = url, callback = self.parse_authors)\n",
    "            \n",
    "    def parse_authors(self, response):\n",
    "        #navigate to each author page\n",
    "        author_page = response.xpath('//div[@class=\"work\"]/tbody/tr/td/a/@href')\n",
    "        work_links = author_page.extract()\n",
    "        for url in work_links:\n",
    "            yield response.follow(url = url, callback = self.parse_works)\n",
    "\n",
    "    def parse_works(self, response):\n",
    "        #get the content of each work under the authors\n",
    "        #save to txt files\n",
    "        #title\n",
    "        work_title = response.xpath('//title/text()')\n",
    "        work_title_ext = work_title.extract()\n",
    "        #body--now I realize I will just scrape everything and not focus on the specific types of body text (disregard 2+3)\n",
    "        body_text = response.xpath('//body/text()').extract() \n",
    "        #body_text2 = response.xpath('//body/*/text()').extract() #like Cato\n",
    "        #body_text3 = response.xpath('//p/a[@name=\"#(need to iterate through numbers here)\"]').extract() #like Suetonius\n",
    "        \n",
    "        html_file = 'lat_texts.html'\n",
    "        #with open(html_file, 'w') as f:\n",
    "           # f.write( texts for texts in body_text1 )\n",
    "            \n",
    "        with open(html_file, 'wb') as fout:\n",
    "            fout.write(response.body)\n",
    "        \n",
    "        \n"
   ]
  },
  {
   "cell_type": "code",
   "execution_count": 3,
   "metadata": {},
   "outputs": [
    {
     "name": "stderr",
     "output_type": "stream",
     "text": [
      "2021-03-04 14:42:28 [scrapy.utils.log] INFO: Scrapy 2.4.1 started (bot: scrapybot)\n",
      "2021-03-04 14:42:28 [scrapy.utils.log] INFO: Versions: lxml 4.6.1.0, libxml2 2.9.10, cssselect 1.1.0, parsel 1.6.0, w3lib 1.22.0, Twisted 20.3.0, Python 3.8.5 (default, Sep  4 2020, 02:22:02) - [Clang 10.0.0 ], pyOpenSSL 19.1.0 (OpenSSL 1.1.1h  22 Sep 2020), cryptography 3.1.1, Platform macOS-10.15.5-x86_64-i386-64bit\n",
      "2021-03-04 14:42:28 [scrapy.utils.log] DEBUG: Using reactor: twisted.internet.selectreactor.SelectReactor\n",
      "2021-03-04 14:42:28 [scrapy.crawler] INFO: Overridden settings:\n",
      "{}\n",
      "2021-03-04 14:42:28 [scrapy.extensions.telnet] INFO: Telnet Password: 6002f3c16fadce4e\n",
      "2021-03-04 14:42:28 [scrapy.middleware] INFO: Enabled extensions:\n",
      "['scrapy.extensions.corestats.CoreStats',\n",
      " 'scrapy.extensions.telnet.TelnetConsole',\n",
      " 'scrapy.extensions.memusage.MemoryUsage',\n",
      " 'scrapy.extensions.logstats.LogStats']\n",
      "2021-03-04 14:42:28 [scrapy.middleware] INFO: Enabled downloader middlewares:\n",
      "['scrapy.downloadermiddlewares.httpauth.HttpAuthMiddleware',\n",
      " 'scrapy.downloadermiddlewares.downloadtimeout.DownloadTimeoutMiddleware',\n",
      " 'scrapy.downloadermiddlewares.defaultheaders.DefaultHeadersMiddleware',\n",
      " 'scrapy.downloadermiddlewares.useragent.UserAgentMiddleware',\n",
      " 'scrapy.downloadermiddlewares.retry.RetryMiddleware',\n",
      " 'scrapy.downloadermiddlewares.redirect.MetaRefreshMiddleware',\n",
      " 'scrapy.downloadermiddlewares.httpcompression.HttpCompressionMiddleware',\n",
      " 'scrapy.downloadermiddlewares.redirect.RedirectMiddleware',\n",
      " 'scrapy.downloadermiddlewares.cookies.CookiesMiddleware',\n",
      " 'scrapy.downloadermiddlewares.httpproxy.HttpProxyMiddleware',\n",
      " 'scrapy.downloadermiddlewares.stats.DownloaderStats']\n",
      "2021-03-04 14:42:28 [scrapy.middleware] INFO: Enabled spider middlewares:\n",
      "['scrapy.spidermiddlewares.httperror.HttpErrorMiddleware',\n",
      " 'scrapy.spidermiddlewares.offsite.OffsiteMiddleware',\n",
      " 'scrapy.spidermiddlewares.referer.RefererMiddleware',\n",
      " 'scrapy.spidermiddlewares.urllength.UrlLengthMiddleware',\n",
      " 'scrapy.spidermiddlewares.depth.DepthMiddleware']\n",
      "2021-03-04 14:42:28 [scrapy.middleware] INFO: Enabled item pipelines:\n",
      "[]\n",
      "2021-03-04 14:42:28 [scrapy.core.engine] INFO: Spider opened\n",
      "2021-03-04 14:42:28 [scrapy.extensions.logstats] INFO: Crawled 0 pages (at 0 pages/min), scraped 0 items (at 0 items/min)\n",
      "2021-03-04 14:42:28 [scrapy.extensions.telnet] INFO: Telnet console listening on 127.0.0.1:6023\n",
      "2021-03-04 14:42:28 [scrapy.core.engine] DEBUG: Crawled (200) <GET https://www.thelatinlibrary.com/> (referer: None)\n",
      "2021-03-04 14:42:29 [scrapy.core.engine] INFO: Closing spider (finished)\n",
      "2021-03-04 14:42:29 [scrapy.statscollectors] INFO: Dumping Scrapy stats:\n",
      "{'downloader/request_bytes': 227,\n",
      " 'downloader/request_count': 1,\n",
      " 'downloader/request_method_count/GET': 1,\n",
      " 'downloader/response_bytes': 7762,\n",
      " 'downloader/response_count': 1,\n",
      " 'downloader/response_status_count/200': 1,\n",
      " 'elapsed_time_seconds': 0.337777,\n",
      " 'finish_reason': 'finished',\n",
      " 'finish_time': datetime.datetime(2021, 3, 4, 19, 42, 29, 106159),\n",
      " 'log_count/DEBUG': 1,\n",
      " 'log_count/INFO': 10,\n",
      " 'memusage/max': 78635008,\n",
      " 'memusage/startup': 78635008,\n",
      " 'response_received_count': 1,\n",
      " 'scheduler/dequeued': 1,\n",
      " 'scheduler/dequeued/memory': 1,\n",
      " 'scheduler/enqueued': 1,\n",
      " 'scheduler/enqueued/memory': 1,\n",
      " 'start_time': datetime.datetime(2021, 3, 4, 19, 42, 28, 768382)}\n",
      "2021-03-04 14:42:29 [scrapy.core.engine] INFO: Spider closed (finished)\n"
     ]
    }
   ],
   "source": [
    "process = CrawlerProcess()\n",
    "process.crawl(LatLibSpider)\n",
    "process.start()"
   ]
  },
  {
   "cell_type": "code",
   "execution_count": null,
   "metadata": {},
   "outputs": [],
   "source": []
  },
  {
   "cell_type": "code",
   "execution_count": null,
   "metadata": {},
   "outputs": [],
   "source": []
  }
 ],
 "metadata": {
  "kernelspec": {
   "display_name": "Python 3",
   "language": "python",
   "name": "python3"
  },
  "language_info": {
   "codemirror_mode": {
    "name": "ipython",
    "version": 3
   },
   "file_extension": ".py",
   "mimetype": "text/x-python",
   "name": "python",
   "nbconvert_exporter": "python",
   "pygments_lexer": "ipython3",
   "version": "3.8.5"
  }
 },
 "nbformat": 4,
 "nbformat_minor": 4
}
